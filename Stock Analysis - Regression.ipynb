{
 "cells": [
  {
   "cell_type": "markdown",
   "metadata": {
    "_uuid": "e99f19aaa670c53e1d566a7dedbaac9cb42fd818"
   },
   "source": [
    "## Libraries Used"
   ]
  },
  {
   "cell_type": "code",
   "execution_count": null,
   "metadata": {},
   "outputs": [],
   "source": [
    "# mypack <- function(package){\n",
    "#   new.package <- package[!(package %in% installed.packages()[, \"Package\"])]\n",
    "#   if (length(new.package)) \n",
    "#     install.packages(new.package, dependencies = TRUE)\n",
    "#   sapply(package, require, character.only = TRUE)\n",
    "# }\n",
    "\n",
    "# #create a vector of most used R packages\n",
    "# packages <- c(\"Metrics\", \"DMwR\",\"pROC\",\"dplyr\",\"glmulti\",\"lubridate\",\"BBmisc\",\"pROC\",\"DMwR\",\"readr\",\"caret\",\"nlme\",\"magrittr\",\"stringr\",\"tidyverse\",\"randomForest\")\n",
    "           \n",
    "# mypack(packages)"
   ]
  },
  {
   "cell_type": "code",
   "execution_count": 1,
   "metadata": {
    "_execution_state": "idle",
    "_uuid": "f7612a604b61f4401710df6e2f2c998b961935b7"
   },
   "outputs": [
    {
     "name": "stderr",
     "output_type": "stream",
     "text": [
      "\n",
      "Attaching package: 'dplyr'\n",
      "\n",
      "The following objects are masked from 'package:stats':\n",
      "\n",
      "    filter, lag\n",
      "\n",
      "The following objects are masked from 'package:base':\n",
      "\n",
      "    intersect, setdiff, setequal, union\n",
      "\n",
      "Loading required package: rJava\n",
      "\n",
      "Attaching package: 'lubridate'\n",
      "\n",
      "The following object is masked from 'package:base':\n",
      "\n",
      "    date\n",
      "\n",
      "\n",
      "Attaching package: 'BBmisc'\n",
      "\n",
      "The following objects are masked from 'package:dplyr':\n",
      "\n",
      "    coalesce, collapse\n",
      "\n",
      "The following object is masked from 'package:base':\n",
      "\n",
      "    isFALSE\n",
      "\n",
      "Type 'citation(\"pROC\")' for a citation.\n",
      "\n",
      "Attaching package: 'pROC'\n",
      "\n",
      "The following objects are masked from 'package:stats':\n",
      "\n",
      "    cov, smooth, var\n",
      "\n",
      "Loading required package: lattice\n",
      "Loading required package: grid\n",
      "\n",
      "Attaching package: 'grid'\n",
      "\n",
      "The following object is masked from 'package:BBmisc':\n",
      "\n",
      "    explode\n",
      "\n",
      "Loading required package: ggplot2\n",
      "\n",
      "Attaching package: 'nlme'\n",
      "\n",
      "The following object is masked from 'package:BBmisc':\n",
      "\n",
      "    collapse\n",
      "\n",
      "The following object is masked from 'package:dplyr':\n",
      "\n",
      "    collapse\n",
      "\n",
      "-- Attaching packages --------------------------------------- tidyverse 1.2.1 --\n",
      "v tibble  1.4.2     v purrr   0.2.5\n",
      "v tidyr   0.8.1     v forcats 0.3.0\n",
      "-- Conflicts ------------------------------------------ tidyverse_conflicts() --\n",
      "x lubridate::as.difftime() masks base::as.difftime()\n",
      "x BBmisc::coalesce()       masks dplyr::coalesce()\n",
      "x nlme::collapse()         masks BBmisc::collapse(), dplyr::collapse()\n",
      "x lubridate::date()        masks base::date()\n",
      "x tidyr::extract()         masks magrittr::extract()\n",
      "x dplyr::filter()          masks stats::filter()\n",
      "x lubridate::intersect()   masks base::intersect()\n",
      "x dplyr::lag()             masks stats::lag()\n",
      "x purrr::lift()            masks caret::lift()\n",
      "x purrr::set_names()       masks magrittr::set_names()\n",
      "x lubridate::setdiff()     masks base::setdiff()\n",
      "x lubridate::union()       masks base::union()\n",
      "randomForest 4.6-14\n",
      "Type rfNews() to see new features/changes/bug fixes.\n",
      "\n",
      "Attaching package: 'randomForest'\n",
      "\n",
      "The following object is masked from 'package:ggplot2':\n",
      "\n",
      "    margin\n",
      "\n",
      "The following object is masked from 'package:dplyr':\n",
      "\n",
      "    combine\n",
      "\n",
      "\n",
      "Attaching package: 'Metrics'\n",
      "\n",
      "The following objects are masked from 'package:caret':\n",
      "\n",
      "    precision, recall\n",
      "\n",
      "The following object is masked from 'package:pROC':\n",
      "\n",
      "    auc\n",
      "\n"
     ]
    }
   ],
   "source": [
    "library(dplyr)\n",
    "library(glmulti) #Select the best linear regression model\n",
    "library(lubridate) #Date Time Conversion\n",
    "library(BBmisc) #Convert Rows to List\n",
    "library(pROC) #ROC\n",
    "library(DMwR) #Error Estimates\n",
    "library(readr)\n",
    "library(caret)\n",
    "library(nlme)\n",
    "library(magrittr)\n",
    "library(stringr)\n",
    "library(tidyverse)\n",
    "library(randomForest)\n",
    "library(e1071)\n",
    "library(Metrics)"
   ]
  },
  {
   "cell_type": "markdown",
   "metadata": {
    "_uuid": "6484ff419af4b6dfcce9b4addb6d76cf328305db"
   },
   "source": [
    "## Read Dataset"
   ]
  },
  {
   "cell_type": "code",
   "execution_count": 9,
   "metadata": {
    "_uuid": "c3db1ac1f66432535d8b6c8a9fa391d20a09decb"
   },
   "outputs": [],
   "source": [
    "n_max_market = 1000\n",
    "n_max_news = 100000"
   ]
  },
  {
   "cell_type": "code",
   "execution_count": 10,
   "metadata": {
    "_uuid": "347a0a64235c50cc28b4ba532117f63ba97b8061"
   },
   "outputs": [
    {
     "name": "stderr",
     "output_type": "stream",
     "text": [
      "Warning message:\n",
      "\"Missing column names filled in: 'X1' [1]\"Parsed with column specification:\n",
      "cols(\n",
      "  X1 = col_integer(),\n",
      "  time = col_datetime(format = \"\"),\n",
      "  assetCode = col_character(),\n",
      "  assetName = col_character(),\n",
      "  volume = col_double(),\n",
      "  close = col_double(),\n",
      "  open = col_double(),\n",
      "  returnsClosePrevRaw1 = col_double(),\n",
      "  returnsOpenPrevRaw1 = col_double(),\n",
      "  returnsClosePrevMktres1 = col_character(),\n",
      "  returnsOpenPrevMktres1 = col_character(),\n",
      "  returnsClosePrevRaw10 = col_double(),\n",
      "  returnsOpenPrevRaw10 = col_double(),\n",
      "  returnsClosePrevMktres10 = col_character(),\n",
      "  returnsOpenPrevMktres10 = col_character(),\n",
      "  returnsOpenNextMktres10 = col_double(),\n",
      "  universe = col_double()\n",
      ")\n"
     ]
    }
   ],
   "source": [
    "market_all = read_csv(\"market_train_df.csv\",n_max = n_max_market)"
   ]
  },
  {
   "cell_type": "code",
   "execution_count": 11,
   "metadata": {
    "_uuid": "1bf30da530dc2e1b053f36b8656f46b9ace10fcc"
   },
   "outputs": [
    {
     "data": {
      "text/html": [
       "<table>\n",
       "<thead><tr><th scope=col>X1</th><th scope=col>time</th><th scope=col>assetCode</th><th scope=col>assetName</th><th scope=col>volume</th><th scope=col>close</th><th scope=col>open</th><th scope=col>returnsClosePrevRaw1</th><th scope=col>returnsOpenPrevRaw1</th><th scope=col>returnsClosePrevMktres1</th><th scope=col>returnsOpenPrevMktres1</th><th scope=col>returnsClosePrevRaw10</th><th scope=col>returnsOpenPrevRaw10</th><th scope=col>returnsClosePrevMktres10</th><th scope=col>returnsOpenPrevMktres10</th><th scope=col>returnsOpenNextMktres10</th><th scope=col>universe</th></tr></thead>\n",
       "<tbody>\n",
       "\t<tr><td>0                       </td><td>2007-02-01 22:00:00     </td><td>A.N                     </td><td>Agilent Technologies Inc</td><td> 2606900                </td><td>32.19                   </td><td>32.17                   </td><td> 0.0059375000           </td><td> 0.005312500            </td><td>NA                      </td><td>NA                      </td><td>-0.001860465            </td><td> 0.000622084            </td><td>NA                      </td><td>NA                      </td><td> 0.034672040            </td><td>1                       </td></tr>\n",
       "\t<tr><td>1                       </td><td>2007-02-01 22:00:00     </td><td>AAI.N                   </td><td>AirTran Holdings Inc    </td><td> 2051600                </td><td>11.12                   </td><td>11.08                   </td><td> 0.0045167118           </td><td>-0.007168459            </td><td>NA                      </td><td>NA                      </td><td>-0.078707539            </td><td>-0.088065844            </td><td>NA                      </td><td>NA                      </td><td> 0.027803280            </td><td>0                       </td></tr>\n",
       "\t<tr><td>2                       </td><td>2007-02-01 22:00:00     </td><td>AAP.N                   </td><td>Advance Auto Parts Inc  </td><td> 1164800                </td><td>37.51                   </td><td>37.99                   </td><td>-0.0115942029           </td><td> 0.025647948            </td><td>NA                      </td><td>NA                      </td><td> 0.014332071            </td><td> 0.045404513            </td><td>NA                      </td><td>NA                      </td><td> 0.024432913            </td><td>1                       </td></tr>\n",
       "\t<tr><td>3                       </td><td>2007-02-01 22:00:00     </td><td>AAPL.O                  </td><td>Apple Inc               </td><td>23747329                </td><td>84.74                   </td><td>86.23                   </td><td>-0.0115478829           </td><td> 0.016323885            </td><td>NA                      </td><td>NA                      </td><td>-0.048613450            </td><td>-0.037181778            </td><td>NA                      </td><td>NA                      </td><td>-0.007424612            </td><td>1                       </td></tr>\n",
       "\t<tr><td>4                       </td><td>2007-02-01 22:00:00     </td><td>ABB.N                   </td><td>ABB Ltd                 </td><td> 1208600                </td><td>18.02                   </td><td>18.01                   </td><td> 0.0117911286           </td><td> 0.025042686            </td><td>NA                      </td><td>NA                      </td><td> 0.012928612            </td><td> 0.020396601            </td><td>NA                      </td><td>NA                      </td><td>-0.017994120            </td><td>1                       </td></tr>\n",
       "\t<tr><td>5                       </td><td>2007-02-01 22:00:00     </td><td>ABC.N                   </td><td>AmerisourceBergen Corp  </td><td> 1657300                </td><td>52.37                   </td><td>52.40                   </td><td>-0.0001909126           </td><td> 0.008468052            </td><td>NA                      </td><td>NA                      </td><td> 0.088999792            </td><td> 0.077745784            </td><td>NA                      </td><td>NA                      </td><td> 0.058680420            </td><td>1                       </td></tr>\n",
       "</tbody>\n",
       "</table>\n"
      ],
      "text/latex": [
       "\\begin{tabular}{r|lllllllllllllllll}\n",
       " X1 & time & assetCode & assetName & volume & close & open & returnsClosePrevRaw1 & returnsOpenPrevRaw1 & returnsClosePrevMktres1 & returnsOpenPrevMktres1 & returnsClosePrevRaw10 & returnsOpenPrevRaw10 & returnsClosePrevMktres10 & returnsOpenPrevMktres10 & returnsOpenNextMktres10 & universe\\\\\n",
       "\\hline\n",
       "\t 0                        & 2007-02-01 22:00:00      & A.N                      & Agilent Technologies Inc &  2606900                 & 32.19                    & 32.17                    &  0.0059375000            &  0.005312500             & NA                       & NA                       & -0.001860465             &  0.000622084             & NA                       & NA                       &  0.034672040             & 1                       \\\\\n",
       "\t 1                        & 2007-02-01 22:00:00      & AAI.N                    & AirTran Holdings Inc     &  2051600                 & 11.12                    & 11.08                    &  0.0045167118            & -0.007168459             & NA                       & NA                       & -0.078707539             & -0.088065844             & NA                       & NA                       &  0.027803280             & 0                       \\\\\n",
       "\t 2                        & 2007-02-01 22:00:00      & AAP.N                    & Advance Auto Parts Inc   &  1164800                 & 37.51                    & 37.99                    & -0.0115942029            &  0.025647948             & NA                       & NA                       &  0.014332071             &  0.045404513             & NA                       & NA                       &  0.024432913             & 1                       \\\\\n",
       "\t 3                        & 2007-02-01 22:00:00      & AAPL.O                   & Apple Inc                & 23747329                 & 84.74                    & 86.23                    & -0.0115478829            &  0.016323885             & NA                       & NA                       & -0.048613450             & -0.037181778             & NA                       & NA                       & -0.007424612             & 1                       \\\\\n",
       "\t 4                        & 2007-02-01 22:00:00      & ABB.N                    & ABB Ltd                  &  1208600                 & 18.02                    & 18.01                    &  0.0117911286            &  0.025042686             & NA                       & NA                       &  0.012928612             &  0.020396601             & NA                       & NA                       & -0.017994120             & 1                       \\\\\n",
       "\t 5                        & 2007-02-01 22:00:00      & ABC.N                    & AmerisourceBergen Corp   &  1657300                 & 52.37                    & 52.40                    & -0.0001909126            &  0.008468052             & NA                       & NA                       &  0.088999792             &  0.077745784             & NA                       & NA                       &  0.058680420             & 1                       \\\\\n",
       "\\end{tabular}\n"
      ],
      "text/markdown": [
       "\n",
       "X1 | time | assetCode | assetName | volume | close | open | returnsClosePrevRaw1 | returnsOpenPrevRaw1 | returnsClosePrevMktres1 | returnsOpenPrevMktres1 | returnsClosePrevRaw10 | returnsOpenPrevRaw10 | returnsClosePrevMktres10 | returnsOpenPrevMktres10 | returnsOpenNextMktres10 | universe | \n",
       "|---|---|---|---|---|---|\n",
       "| 0                        | 2007-02-01 22:00:00      | A.N                      | Agilent Technologies Inc |  2606900                 | 32.19                    | 32.17                    |  0.0059375000            |  0.005312500             | NA                       | NA                       | -0.001860465             |  0.000622084             | NA                       | NA                       |  0.034672040             | 1                        | \n",
       "| 1                        | 2007-02-01 22:00:00      | AAI.N                    | AirTran Holdings Inc     |  2051600                 | 11.12                    | 11.08                    |  0.0045167118            | -0.007168459             | NA                       | NA                       | -0.078707539             | -0.088065844             | NA                       | NA                       |  0.027803280             | 0                        | \n",
       "| 2                        | 2007-02-01 22:00:00      | AAP.N                    | Advance Auto Parts Inc   |  1164800                 | 37.51                    | 37.99                    | -0.0115942029            |  0.025647948             | NA                       | NA                       |  0.014332071             |  0.045404513             | NA                       | NA                       |  0.024432913             | 1                        | \n",
       "| 3                        | 2007-02-01 22:00:00      | AAPL.O                   | Apple Inc                | 23747329                 | 84.74                    | 86.23                    | -0.0115478829            |  0.016323885             | NA                       | NA                       | -0.048613450             | -0.037181778             | NA                       | NA                       | -0.007424612             | 1                        | \n",
       "| 4                        | 2007-02-01 22:00:00      | ABB.N                    | ABB Ltd                  |  1208600                 | 18.02                    | 18.01                    |  0.0117911286            |  0.025042686             | NA                       | NA                       |  0.012928612             |  0.020396601             | NA                       | NA                       | -0.017994120             | 1                        | \n",
       "| 5                        | 2007-02-01 22:00:00      | ABC.N                    | AmerisourceBergen Corp   |  1657300                 | 52.37                    | 52.40                    | -0.0001909126            |  0.008468052             | NA                       | NA                       |  0.088999792             |  0.077745784             | NA                       | NA                       |  0.058680420             | 1                        | \n",
       "\n",
       "\n"
      ],
      "text/plain": [
       "  X1 time                assetCode assetName                volume   close\n",
       "1 0  2007-02-01 22:00:00 A.N       Agilent Technologies Inc  2606900 32.19\n",
       "2 1  2007-02-01 22:00:00 AAI.N     AirTran Holdings Inc      2051600 11.12\n",
       "3 2  2007-02-01 22:00:00 AAP.N     Advance Auto Parts Inc    1164800 37.51\n",
       "4 3  2007-02-01 22:00:00 AAPL.O    Apple Inc                23747329 84.74\n",
       "5 4  2007-02-01 22:00:00 ABB.N     ABB Ltd                   1208600 18.02\n",
       "6 5  2007-02-01 22:00:00 ABC.N     AmerisourceBergen Corp    1657300 52.37\n",
       "  open  returnsClosePrevRaw1 returnsOpenPrevRaw1 returnsClosePrevMktres1\n",
       "1 32.17  0.0059375000         0.005312500        NA                     \n",
       "2 11.08  0.0045167118        -0.007168459        NA                     \n",
       "3 37.99 -0.0115942029         0.025647948        NA                     \n",
       "4 86.23 -0.0115478829         0.016323885        NA                     \n",
       "5 18.01  0.0117911286         0.025042686        NA                     \n",
       "6 52.40 -0.0001909126         0.008468052        NA                     \n",
       "  returnsOpenPrevMktres1 returnsClosePrevRaw10 returnsOpenPrevRaw10\n",
       "1 NA                     -0.001860465           0.000622084        \n",
       "2 NA                     -0.078707539          -0.088065844        \n",
       "3 NA                      0.014332071           0.045404513        \n",
       "4 NA                     -0.048613450          -0.037181778        \n",
       "5 NA                      0.012928612           0.020396601        \n",
       "6 NA                      0.088999792           0.077745784        \n",
       "  returnsClosePrevMktres10 returnsOpenPrevMktres10 returnsOpenNextMktres10\n",
       "1 NA                       NA                       0.034672040           \n",
       "2 NA                       NA                       0.027803280           \n",
       "3 NA                       NA                       0.024432913           \n",
       "4 NA                       NA                      -0.007424612           \n",
       "5 NA                       NA                      -0.017994120           \n",
       "6 NA                       NA                       0.058680420           \n",
       "  universe\n",
       "1 1       \n",
       "2 0       \n",
       "3 1       \n",
       "4 1       \n",
       "5 1       \n",
       "6 1       "
      ]
     },
     "metadata": {},
     "output_type": "display_data"
    }
   ],
   "source": [
    "head(market_all)"
   ]
  },
  {
   "cell_type": "code",
   "execution_count": 12,
   "metadata": {},
   "outputs": [
    {
     "name": "stdout",
     "output_type": "stream",
     "text": [
      "[1] \"Dimensions of Market\"\n"
     ]
    },
    {
     "data": {
      "text/html": [
       "<ol class=list-inline>\n",
       "\t<li>1000</li>\n",
       "\t<li>17</li>\n",
       "</ol>\n"
      ],
      "text/latex": [
       "\\begin{enumerate*}\n",
       "\\item 1000\n",
       "\\item 17\n",
       "\\end{enumerate*}\n"
      ],
      "text/markdown": [
       "1. 1000\n",
       "2. 17\n",
       "\n",
       "\n"
      ],
      "text/plain": [
       "[1] 1000   17"
      ]
     },
     "metadata": {},
     "output_type": "display_data"
    }
   ],
   "source": [
    "print(\"Dimensions of Market\")\n",
    "dim(market_all)"
   ]
  },
  {
   "cell_type": "code",
   "execution_count": 13,
   "metadata": {
    "_uuid": "fa43cdf8eab07d13c0e26d9d8f769a0fc77224d1"
   },
   "outputs": [
    {
     "name": "stderr",
     "output_type": "stream",
     "text": [
      "Warning message:\n",
      "\"Missing column names filled in: 'X1' [1]\"Parsed with column specification:\n",
      "cols(\n",
      "  .default = col_integer(),\n",
      "  time = col_datetime(format = \"\"),\n",
      "  sourceTimestamp = col_datetime(format = \"\"),\n",
      "  firstCreated = col_datetime(format = \"\"),\n",
      "  sourceId = col_character(),\n",
      "  headline = col_character(),\n",
      "  provider = col_character(),\n",
      "  subjects = col_character(),\n",
      "  audiences = col_character(),\n",
      "  headlineTag = col_character(),\n",
      "  marketCommentary = col_character(),\n",
      "  assetCodes = col_character(),\n",
      "  assetName = col_character(),\n",
      "  relevance = col_double(),\n",
      "  sentimentNegative = col_double(),\n",
      "  sentimentNeutral = col_double(),\n",
      "  sentimentPositive = col_double()\n",
      ")\n",
      "See spec(...) for full column specifications.\n"
     ]
    }
   ],
   "source": [
    "news_all = read_csv(\"news_train_df.csv\",n_max = n_max_news)"
   ]
  },
  {
   "cell_type": "code",
   "execution_count": 14,
   "metadata": {
    "_uuid": "b9724a93a494d016d0e8abf11d6bb63dd7dc25e2"
   },
   "outputs": [
    {
     "data": {
      "text/html": [
       "<table>\n",
       "<thead><tr><th scope=col>X1</th><th scope=col>time</th><th scope=col>sourceTimestamp</th><th scope=col>firstCreated</th><th scope=col>sourceId</th><th scope=col>headline</th><th scope=col>urgency</th><th scope=col>takeSequence</th><th scope=col>provider</th><th scope=col>subjects</th><th scope=col>...</th><th scope=col>noveltyCount12H</th><th scope=col>noveltyCount24H</th><th scope=col>noveltyCount3D</th><th scope=col>noveltyCount5D</th><th scope=col>noveltyCount7D</th><th scope=col>volumeCounts12H</th><th scope=col>volumeCounts24H</th><th scope=col>volumeCounts3D</th><th scope=col>volumeCounts5D</th><th scope=col>volumeCounts7D</th></tr></thead>\n",
       "<tbody>\n",
       "\t<tr><td>0                                                                                                           </td><td>2007-01-01 04:29:32                                                                                         </td><td>2007-01-01 04:29:32                                                                                         </td><td>2007-01-01 04:29:32                                                                                         </td><td>e58c6279551b85cf                                                                                            </td><td>China's Daqing pumps 43.41 mln tonnes of oil in 06                                                          </td><td>3                                                                                                           </td><td>1                                                                                                           </td><td>RTRS                                                                                                        </td><td>{'ENR', 'ASIA', 'CN', 'NGS', 'EMRG', 'RTRS', 'LEN', 'CRU'}                                                  </td><td>...                                                                                                         </td><td>0                                                                                                           </td><td>0                                                                                                           </td><td>0                                                                                                           </td><td>0                                                                                                           </td><td>0                                                                                                           </td><td>0                                                                                                           </td><td>0                                                                                                           </td><td>3                                                                                                           </td><td> 6                                                                                                          </td><td> 7                                                                                                          </td></tr>\n",
       "\t<tr><td>1                                                                                                           </td><td>2007-01-01 07:03:35                                                                                         </td><td>2007-01-01 07:03:34                                                                                         </td><td>2007-01-01 07:03:34                                                                                         </td><td>5a31c4327427f63f                                                                                            </td><td>FEATURE-In kidnapping, finesse works best                                                                   </td><td>3                                                                                                           </td><td>1                                                                                                           </td><td>RTRS                                                                                                        </td><td>{'FEA', 'CA', 'LATAM', 'MX', 'INS', 'ASIA', 'IL', 'MEAST', 'BD', 'US', 'HT', 'RTRS', 'CO', 'LIF', 'LEN'}    </td><td>...                                                                                                         </td><td>1                                                                                                           </td><td>1                                                                                                           </td><td>1                                                                                                           </td><td>1                                                                                                           </td><td>1                                                                                                           </td><td>1                                                                                                           </td><td>1                                                                                                           </td><td>3                                                                                                           </td><td> 3                                                                                                          </td><td> 3                                                                                                          </td></tr>\n",
       "\t<tr><td>2                                                                                                           </td><td>2007-01-01 11:29:56                                                                                         </td><td>2007-01-01 11:29:56                                                                                         </td><td>2007-01-01 11:29:56                                                                                         </td><td>1cefd27a40fabdfe                                                                                            </td><td>PRESS DIGEST - Wall Street Journal - Jan 1                                                                  </td><td>3                                                                                                           </td><td>1                                                                                                           </td><td>RTRS                                                                                                        </td><td>{'RET', 'ENR', 'ID', 'BG', 'US', 'PRESS', 'IQ', 'RO', 'NGS', 'TH', 'BY', 'RTRS', 'LEN'}                     </td><td>...                                                                                                         </td><td>0                                                                                                           </td><td>0                                                                                                           </td><td>0                                                                                                           </td><td>0                                                                                                           </td><td>0                                                                                                           </td><td>0                                                                                                           </td><td>0                                                                                                           </td><td>5                                                                                                           </td><td>11                                                                                                          </td><td>17                                                                                                          </td></tr>\n",
       "\t<tr><td>3                                                                                                           </td><td>2007-01-01 12:08:37                                                                                         </td><td>2007-01-01 12:08:37                                                                                         </td><td>2007-01-01 12:08:37                                                                                         </td><td>23768af19dc69992                                                                                            </td><td>PRESS DIGEST - New York Times - Jan 1                                                                       </td><td>3                                                                                                           </td><td>1                                                                                                           </td><td>RTRS                                                                                                        </td><td>{'FUND', 'FIN', 'CA', 'SFWR', 'INS', 'PUB', 'BUS', 'ENT', 'WWW', 'LEI', 'US', 'PRESS', 'USC', 'RTRS', 'LEN'}</td><td>...                                                                                                         </td><td>0                                                                                                           </td><td>0                                                                                                           </td><td>0                                                                                                           </td><td>0                                                                                                           </td><td>0                                                                                                           </td><td>0                                                                                                           </td><td>0                                                                                                           </td><td>5                                                                                                           </td><td>13                                                                                                          </td><td>15                                                                                                          </td></tr>\n",
       "\t<tr><td>4                                                                                                           </td><td>2007-01-01 12:08:37                                                                                         </td><td>2007-01-01 12:08:37                                                                                         </td><td>2007-01-01 12:08:37                                                                                         </td><td>23768af19dc69992                                                                                            </td><td>PRESS DIGEST - New York Times - Jan 1                                                                       </td><td>3                                                                                                           </td><td>1                                                                                                           </td><td>RTRS                                                                                                        </td><td>{'FUND', 'FIN', 'CA', 'SFWR', 'INS', 'PUB', 'BUS', 'ENT', 'WWW', 'LEI', 'US', 'PRESS', 'USC', 'RTRS', 'LEN'}</td><td>...                                                                                                         </td><td>0                                                                                                           </td><td>0                                                                                                           </td><td>0                                                                                                           </td><td>0                                                                                                           </td><td>0                                                                                                           </td><td>0                                                                                                           </td><td>0                                                                                                           </td><td>0                                                                                                           </td><td> 0                                                                                                          </td><td> 0                                                                                                          </td></tr>\n",
       "\t<tr><td>5                                                                                                           </td><td>2007-01-01 12:08:37                                                                                         </td><td>2007-01-01 12:08:37                                                                                         </td><td>2007-01-01 12:08:37                                                                                         </td><td>23768af19dc69992                                                                                            </td><td>PRESS DIGEST - New York Times - Jan 1                                                                       </td><td>3                                                                                                           </td><td>1                                                                                                           </td><td>RTRS                                                                                                        </td><td>{'FUND', 'FIN', 'CA', 'SFWR', 'INS', 'PUB', 'BUS', 'ENT', 'WWW', 'LEI', 'US', 'PRESS', 'USC', 'RTRS', 'LEN'}</td><td>...                                                                                                         </td><td>0                                                                                                           </td><td>0                                                                                                           </td><td>0                                                                                                           </td><td>0                                                                                                           </td><td>0                                                                                                           </td><td>0                                                                                                           </td><td>0                                                                                                           </td><td>0                                                                                                           </td><td> 2                                                                                                          </td><td> 3                                                                                                          </td></tr>\n",
       "</tbody>\n",
       "</table>\n"
      ],
      "text/latex": [
       "\\begin{tabular}{r|llllllllllllllllllllllllllllllllllll}\n",
       " X1 & time & sourceTimestamp & firstCreated & sourceId & headline & urgency & takeSequence & provider & subjects & ... & noveltyCount12H & noveltyCount24H & noveltyCount3D & noveltyCount5D & noveltyCount7D & volumeCounts12H & volumeCounts24H & volumeCounts3D & volumeCounts5D & volumeCounts7D\\\\\n",
       "\\hline\n",
       "\t 0                                                                                                                & 2007-01-01 04:29:32                                                                                              & 2007-01-01 04:29:32                                                                                              & 2007-01-01 04:29:32                                                                                              & e58c6279551b85cf                                                                                                 & China's Daqing pumps 43.41 mln tonnes of oil in 06                                                               & 3                                                                                                                & 1                                                                                                                & RTRS                                                                                                             & \\{'ENR', 'ASIA', 'CN', 'NGS', 'EMRG', 'RTRS', 'LEN', 'CRU'\\}                                                   & ...                                                                                                              & 0                                                                                                                & 0                                                                                                                & 0                                                                                                                & 0                                                                                                                & 0                                                                                                                & 0                                                                                                                & 0                                                                                                                & 3                                                                                                                &  6                                                                                                               &  7                                                                                                              \\\\\n",
       "\t 1                                                                                                                & 2007-01-01 07:03:35                                                                                              & 2007-01-01 07:03:34                                                                                              & 2007-01-01 07:03:34                                                                                              & 5a31c4327427f63f                                                                                                 & FEATURE-In kidnapping, finesse works best                                                                        & 3                                                                                                                & 1                                                                                                                & RTRS                                                                                                             & \\{'FEA', 'CA', 'LATAM', 'MX', 'INS', 'ASIA', 'IL', 'MEAST', 'BD', 'US', 'HT', 'RTRS', 'CO', 'LIF', 'LEN'\\}     & ...                                                                                                              & 1                                                                                                                & 1                                                                                                                & 1                                                                                                                & 1                                                                                                                & 1                                                                                                                & 1                                                                                                                & 1                                                                                                                & 3                                                                                                                &  3                                                                                                               &  3                                                                                                              \\\\\n",
       "\t 2                                                                                                                & 2007-01-01 11:29:56                                                                                              & 2007-01-01 11:29:56                                                                                              & 2007-01-01 11:29:56                                                                                              & 1cefd27a40fabdfe                                                                                                 & PRESS DIGEST - Wall Street Journal - Jan 1                                                                       & 3                                                                                                                & 1                                                                                                                & RTRS                                                                                                             & \\{'RET', 'ENR', 'ID', 'BG', 'US', 'PRESS', 'IQ', 'RO', 'NGS', 'TH', 'BY', 'RTRS', 'LEN'\\}                      & ...                                                                                                              & 0                                                                                                                & 0                                                                                                                & 0                                                                                                                & 0                                                                                                                & 0                                                                                                                & 0                                                                                                                & 0                                                                                                                & 5                                                                                                                & 11                                                                                                               & 17                                                                                                              \\\\\n",
       "\t 3                                                                                                                & 2007-01-01 12:08:37                                                                                              & 2007-01-01 12:08:37                                                                                              & 2007-01-01 12:08:37                                                                                              & 23768af19dc69992                                                                                                 & PRESS DIGEST - New York Times - Jan 1                                                                            & 3                                                                                                                & 1                                                                                                                & RTRS                                                                                                             & \\{'FUND', 'FIN', 'CA', 'SFWR', 'INS', 'PUB', 'BUS', 'ENT', 'WWW', 'LEI', 'US', 'PRESS', 'USC', 'RTRS', 'LEN'\\} & ...                                                                                                              & 0                                                                                                                & 0                                                                                                                & 0                                                                                                                & 0                                                                                                                & 0                                                                                                                & 0                                                                                                                & 0                                                                                                                & 5                                                                                                                & 13                                                                                                               & 15                                                                                                              \\\\\n",
       "\t 4                                                                                                                & 2007-01-01 12:08:37                                                                                              & 2007-01-01 12:08:37                                                                                              & 2007-01-01 12:08:37                                                                                              & 23768af19dc69992                                                                                                 & PRESS DIGEST - New York Times - Jan 1                                                                            & 3                                                                                                                & 1                                                                                                                & RTRS                                                                                                             & \\{'FUND', 'FIN', 'CA', 'SFWR', 'INS', 'PUB', 'BUS', 'ENT', 'WWW', 'LEI', 'US', 'PRESS', 'USC', 'RTRS', 'LEN'\\} & ...                                                                                                              & 0                                                                                                                & 0                                                                                                                & 0                                                                                                                & 0                                                                                                                & 0                                                                                                                & 0                                                                                                                & 0                                                                                                                & 0                                                                                                                &  0                                                                                                               &  0                                                                                                              \\\\\n",
       "\t 5                                                                                                                & 2007-01-01 12:08:37                                                                                              & 2007-01-01 12:08:37                                                                                              & 2007-01-01 12:08:37                                                                                              & 23768af19dc69992                                                                                                 & PRESS DIGEST - New York Times - Jan 1                                                                            & 3                                                                                                                & 1                                                                                                                & RTRS                                                                                                             & \\{'FUND', 'FIN', 'CA', 'SFWR', 'INS', 'PUB', 'BUS', 'ENT', 'WWW', 'LEI', 'US', 'PRESS', 'USC', 'RTRS', 'LEN'\\} & ...                                                                                                              & 0                                                                                                                & 0                                                                                                                & 0                                                                                                                & 0                                                                                                                & 0                                                                                                                & 0                                                                                                                & 0                                                                                                                & 0                                                                                                                &  2                                                                                                               &  3                                                                                                              \\\\\n",
       "\\end{tabular}\n"
      ],
      "text/markdown": [
       "\n",
       "X1 | time | sourceTimestamp | firstCreated | sourceId | headline | urgency | takeSequence | provider | subjects | ... | noveltyCount12H | noveltyCount24H | noveltyCount3D | noveltyCount5D | noveltyCount7D | volumeCounts12H | volumeCounts24H | volumeCounts3D | volumeCounts5D | volumeCounts7D | \n",
       "|---|---|---|---|---|---|\n",
       "| 0                                                                                                            | 2007-01-01 04:29:32                                                                                          | 2007-01-01 04:29:32                                                                                          | 2007-01-01 04:29:32                                                                                          | e58c6279551b85cf                                                                                             | China's Daqing pumps 43.41 mln tonnes of oil in 06                                                           | 3                                                                                                            | 1                                                                                                            | RTRS                                                                                                         | {'ENR', 'ASIA', 'CN', 'NGS', 'EMRG', 'RTRS', 'LEN', 'CRU'}                                                   | ...                                                                                                          | 0                                                                                                            | 0                                                                                                            | 0                                                                                                            | 0                                                                                                            | 0                                                                                                            | 0                                                                                                            | 0                                                                                                            | 3                                                                                                            |  6                                                                                                           |  7                                                                                                           | \n",
       "| 1                                                                                                            | 2007-01-01 07:03:35                                                                                          | 2007-01-01 07:03:34                                                                                          | 2007-01-01 07:03:34                                                                                          | 5a31c4327427f63f                                                                                             | FEATURE-In kidnapping, finesse works best                                                                    | 3                                                                                                            | 1                                                                                                            | RTRS                                                                                                         | {'FEA', 'CA', 'LATAM', 'MX', 'INS', 'ASIA', 'IL', 'MEAST', 'BD', 'US', 'HT', 'RTRS', 'CO', 'LIF', 'LEN'}     | ...                                                                                                          | 1                                                                                                            | 1                                                                                                            | 1                                                                                                            | 1                                                                                                            | 1                                                                                                            | 1                                                                                                            | 1                                                                                                            | 3                                                                                                            |  3                                                                                                           |  3                                                                                                           | \n",
       "| 2                                                                                                            | 2007-01-01 11:29:56                                                                                          | 2007-01-01 11:29:56                                                                                          | 2007-01-01 11:29:56                                                                                          | 1cefd27a40fabdfe                                                                                             | PRESS DIGEST - Wall Street Journal - Jan 1                                                                   | 3                                                                                                            | 1                                                                                                            | RTRS                                                                                                         | {'RET', 'ENR', 'ID', 'BG', 'US', 'PRESS', 'IQ', 'RO', 'NGS', 'TH', 'BY', 'RTRS', 'LEN'}                      | ...                                                                                                          | 0                                                                                                            | 0                                                                                                            | 0                                                                                                            | 0                                                                                                            | 0                                                                                                            | 0                                                                                                            | 0                                                                                                            | 5                                                                                                            | 11                                                                                                           | 17                                                                                                           | \n",
       "| 3                                                                                                            | 2007-01-01 12:08:37                                                                                          | 2007-01-01 12:08:37                                                                                          | 2007-01-01 12:08:37                                                                                          | 23768af19dc69992                                                                                             | PRESS DIGEST - New York Times - Jan 1                                                                        | 3                                                                                                            | 1                                                                                                            | RTRS                                                                                                         | {'FUND', 'FIN', 'CA', 'SFWR', 'INS', 'PUB', 'BUS', 'ENT', 'WWW', 'LEI', 'US', 'PRESS', 'USC', 'RTRS', 'LEN'} | ...                                                                                                          | 0                                                                                                            | 0                                                                                                            | 0                                                                                                            | 0                                                                                                            | 0                                                                                                            | 0                                                                                                            | 0                                                                                                            | 5                                                                                                            | 13                                                                                                           | 15                                                                                                           | \n",
       "| 4                                                                                                            | 2007-01-01 12:08:37                                                                                          | 2007-01-01 12:08:37                                                                                          | 2007-01-01 12:08:37                                                                                          | 23768af19dc69992                                                                                             | PRESS DIGEST - New York Times - Jan 1                                                                        | 3                                                                                                            | 1                                                                                                            | RTRS                                                                                                         | {'FUND', 'FIN', 'CA', 'SFWR', 'INS', 'PUB', 'BUS', 'ENT', 'WWW', 'LEI', 'US', 'PRESS', 'USC', 'RTRS', 'LEN'} | ...                                                                                                          | 0                                                                                                            | 0                                                                                                            | 0                                                                                                            | 0                                                                                                            | 0                                                                                                            | 0                                                                                                            | 0                                                                                                            | 0                                                                                                            |  0                                                                                                           |  0                                                                                                           | \n",
       "| 5                                                                                                            | 2007-01-01 12:08:37                                                                                          | 2007-01-01 12:08:37                                                                                          | 2007-01-01 12:08:37                                                                                          | 23768af19dc69992                                                                                             | PRESS DIGEST - New York Times - Jan 1                                                                        | 3                                                                                                            | 1                                                                                                            | RTRS                                                                                                         | {'FUND', 'FIN', 'CA', 'SFWR', 'INS', 'PUB', 'BUS', 'ENT', 'WWW', 'LEI', 'US', 'PRESS', 'USC', 'RTRS', 'LEN'} | ...                                                                                                          | 0                                                                                                            | 0                                                                                                            | 0                                                                                                            | 0                                                                                                            | 0                                                                                                            | 0                                                                                                            | 0                                                                                                            | 0                                                                                                            |  2                                                                                                           |  3                                                                                                           | \n",
       "\n",
       "\n"
      ],
      "text/plain": [
       "  X1 time                sourceTimestamp     firstCreated       \n",
       "1 0  2007-01-01 04:29:32 2007-01-01 04:29:32 2007-01-01 04:29:32\n",
       "2 1  2007-01-01 07:03:35 2007-01-01 07:03:34 2007-01-01 07:03:34\n",
       "3 2  2007-01-01 11:29:56 2007-01-01 11:29:56 2007-01-01 11:29:56\n",
       "4 3  2007-01-01 12:08:37 2007-01-01 12:08:37 2007-01-01 12:08:37\n",
       "5 4  2007-01-01 12:08:37 2007-01-01 12:08:37 2007-01-01 12:08:37\n",
       "6 5  2007-01-01 12:08:37 2007-01-01 12:08:37 2007-01-01 12:08:37\n",
       "  sourceId         headline                                           urgency\n",
       "1 e58c6279551b85cf China's Daqing pumps 43.41 mln tonnes of oil in 06 3      \n",
       "2 5a31c4327427f63f FEATURE-In kidnapping, finesse works best          3      \n",
       "3 1cefd27a40fabdfe PRESS DIGEST - Wall Street Journal - Jan 1         3      \n",
       "4 23768af19dc69992 PRESS DIGEST - New York Times - Jan 1              3      \n",
       "5 23768af19dc69992 PRESS DIGEST - New York Times - Jan 1              3      \n",
       "6 23768af19dc69992 PRESS DIGEST - New York Times - Jan 1              3      \n",
       "  takeSequence provider\n",
       "1 1            RTRS    \n",
       "2 1            RTRS    \n",
       "3 1            RTRS    \n",
       "4 1            RTRS    \n",
       "5 1            RTRS    \n",
       "6 1            RTRS    \n",
       "  subjects                                                                                                    \n",
       "1 {'ENR', 'ASIA', 'CN', 'NGS', 'EMRG', 'RTRS', 'LEN', 'CRU'}                                                  \n",
       "2 {'FEA', 'CA', 'LATAM', 'MX', 'INS', 'ASIA', 'IL', 'MEAST', 'BD', 'US', 'HT', 'RTRS', 'CO', 'LIF', 'LEN'}    \n",
       "3 {'RET', 'ENR', 'ID', 'BG', 'US', 'PRESS', 'IQ', 'RO', 'NGS', 'TH', 'BY', 'RTRS', 'LEN'}                     \n",
       "4 {'FUND', 'FIN', 'CA', 'SFWR', 'INS', 'PUB', 'BUS', 'ENT', 'WWW', 'LEI', 'US', 'PRESS', 'USC', 'RTRS', 'LEN'}\n",
       "5 {'FUND', 'FIN', 'CA', 'SFWR', 'INS', 'PUB', 'BUS', 'ENT', 'WWW', 'LEI', 'US', 'PRESS', 'USC', 'RTRS', 'LEN'}\n",
       "6 {'FUND', 'FIN', 'CA', 'SFWR', 'INS', 'PUB', 'BUS', 'ENT', 'WWW', 'LEI', 'US', 'PRESS', 'USC', 'RTRS', 'LEN'}\n",
       "  ... noveltyCount12H noveltyCount24H noveltyCount3D noveltyCount5D\n",
       "1 ... 0               0               0              0             \n",
       "2 ... 1               1               1              1             \n",
       "3 ... 0               0               0              0             \n",
       "4 ... 0               0               0              0             \n",
       "5 ... 0               0               0              0             \n",
       "6 ... 0               0               0              0             \n",
       "  noveltyCount7D volumeCounts12H volumeCounts24H volumeCounts3D volumeCounts5D\n",
       "1 0              0               0               3               6            \n",
       "2 1              1               1               3               3            \n",
       "3 0              0               0               5              11            \n",
       "4 0              0               0               5              13            \n",
       "5 0              0               0               0               0            \n",
       "6 0              0               0               0               2            \n",
       "  volumeCounts7D\n",
       "1  7            \n",
       "2  3            \n",
       "3 17            \n",
       "4 15            \n",
       "5  0            \n",
       "6  3            "
      ]
     },
     "metadata": {},
     "output_type": "display_data"
    }
   ],
   "source": [
    "head(news_all)"
   ]
  },
  {
   "cell_type": "code",
   "execution_count": 15,
   "metadata": {
    "_uuid": "75d4dbdeac897b2f2802fb83e78300eb1310736f"
   },
   "outputs": [
    {
     "name": "stdout",
     "output_type": "stream",
     "text": [
      "[1] \"Dimensions of News\"\n"
     ]
    },
    {
     "data": {
      "text/html": [
       "<ol class=list-inline>\n",
       "\t<li>100000</li>\n",
       "\t<li>36</li>\n",
       "</ol>\n"
      ],
      "text/latex": [
       "\\begin{enumerate*}\n",
       "\\item 100000\n",
       "\\item 36\n",
       "\\end{enumerate*}\n"
      ],
      "text/markdown": [
       "1. 100000\n",
       "2. 36\n",
       "\n",
       "\n"
      ],
      "text/plain": [
       "[1] 100000     36"
      ]
     },
     "metadata": {},
     "output_type": "display_data"
    }
   ],
   "source": [
    "print(\"Dimensions of News\")\n",
    "dim(news_all)"
   ]
  },
  {
   "cell_type": "code",
   "execution_count": 16,
   "metadata": {
    "_uuid": "8e4d00849eb2e06d50e0630167ca11b631682dc5"
   },
   "outputs": [
    {
     "name": "stdout",
     "output_type": "stream",
     "text": [
      "[1] \"Market Details Data Types\"\n"
     ]
    },
    {
     "data": {
      "text/html": [
       "<table>\n",
       "<thead><tr><th scope=col>X1</th><th scope=col>time</th><th scope=col>assetCode</th><th scope=col>assetName</th><th scope=col>volume</th><th scope=col>close</th><th scope=col>open</th><th scope=col>returnsClosePrevRaw1</th><th scope=col>returnsOpenPrevRaw1</th><th scope=col>returnsClosePrevMktres1</th><th scope=col>returnsOpenPrevMktres1</th><th scope=col>returnsClosePrevRaw10</th><th scope=col>returnsOpenPrevRaw10</th><th scope=col>returnsClosePrevMktres10</th><th scope=col>returnsOpenPrevMktres10</th><th scope=col>returnsOpenNextMktres10</th><th scope=col>universe</th></tr></thead>\n",
       "<tbody>\n",
       "\t<tr><td>integer  </td><td>POSIXct  </td><td>character</td><td>character</td><td>numeric  </td><td>numeric  </td><td>numeric  </td><td>numeric  </td><td>numeric  </td><td>character</td><td>character</td><td>numeric  </td><td>numeric  </td><td>character</td><td>character</td><td>numeric  </td><td>numeric  </td></tr>\n",
       "</tbody>\n",
       "</table>\n"
      ],
      "text/latex": [
       "\\begin{tabular}{r|lllllllllllllllll}\n",
       " X1 & time & assetCode & assetName & volume & close & open & returnsClosePrevRaw1 & returnsOpenPrevRaw1 & returnsClosePrevMktres1 & returnsOpenPrevMktres1 & returnsClosePrevRaw10 & returnsOpenPrevRaw10 & returnsClosePrevMktres10 & returnsOpenPrevMktres10 & returnsOpenNextMktres10 & universe\\\\\n",
       "\\hline\n",
       "\t integer   & POSIXct   & character & character & numeric   & numeric   & numeric   & numeric   & numeric   & character & character & numeric   & numeric   & character & character & numeric   & numeric  \\\\\n",
       "\\end{tabular}\n"
      ],
      "text/markdown": [
       "\n",
       "X1 | time | assetCode | assetName | volume | close | open | returnsClosePrevRaw1 | returnsOpenPrevRaw1 | returnsClosePrevMktres1 | returnsOpenPrevMktres1 | returnsClosePrevRaw10 | returnsOpenPrevRaw10 | returnsClosePrevMktres10 | returnsOpenPrevMktres10 | returnsOpenNextMktres10 | universe | \n",
       "|---|\n",
       "| integer   | POSIXct   | character | character | numeric   | numeric   | numeric   | numeric   | numeric   | character | character | numeric   | numeric   | character | character | numeric   | numeric   | \n",
       "\n",
       "\n"
      ],
      "text/plain": [
       "  X1      time    assetCode assetName volume  close   open   \n",
       "1 integer POSIXct character character numeric numeric numeric\n",
       "  returnsClosePrevRaw1 returnsOpenPrevRaw1 returnsClosePrevMktres1\n",
       "1 numeric              numeric             character              \n",
       "  returnsOpenPrevMktres1 returnsClosePrevRaw10 returnsOpenPrevRaw10\n",
       "1 character              numeric               numeric             \n",
       "  returnsClosePrevMktres10 returnsOpenPrevMktres10 returnsOpenNextMktres10\n",
       "1 character                character               numeric                \n",
       "  universe\n",
       "1 numeric "
      ]
     },
     "metadata": {},
     "output_type": "display_data"
    },
    {
     "name": "stdout",
     "output_type": "stream",
     "text": [
      "[1] \"News Details Data Types\"\n"
     ]
    },
    {
     "data": {
      "text/html": [
       "<table>\n",
       "<thead><tr><th scope=col>X1</th><th scope=col>time</th><th scope=col>sourceTimestamp</th><th scope=col>firstCreated</th><th scope=col>sourceId</th><th scope=col>headline</th><th scope=col>urgency</th><th scope=col>takeSequence</th><th scope=col>provider</th><th scope=col>subjects</th><th scope=col>...</th><th scope=col>noveltyCount12H</th><th scope=col>noveltyCount24H</th><th scope=col>noveltyCount3D</th><th scope=col>noveltyCount5D</th><th scope=col>noveltyCount7D</th><th scope=col>volumeCounts12H</th><th scope=col>volumeCounts24H</th><th scope=col>volumeCounts3D</th><th scope=col>volumeCounts5D</th><th scope=col>volumeCounts7D</th></tr></thead>\n",
       "<tbody>\n",
       "\t<tr><td>integer  </td><td>POSIXct  </td><td>POSIXct  </td><td>POSIXct  </td><td>character</td><td>character</td><td>integer  </td><td>integer  </td><td>character</td><td>character</td><td>...      </td><td>integer  </td><td>integer  </td><td>integer  </td><td>integer  </td><td>integer  </td><td>integer  </td><td>integer  </td><td>integer  </td><td>integer  </td><td>integer  </td></tr>\n",
       "</tbody>\n",
       "</table>\n"
      ],
      "text/latex": [
       "\\begin{tabular}{r|llllllllllllllllllllllllllllllllllll}\n",
       " X1 & time & sourceTimestamp & firstCreated & sourceId & headline & urgency & takeSequence & provider & subjects & ... & noveltyCount12H & noveltyCount24H & noveltyCount3D & noveltyCount5D & noveltyCount7D & volumeCounts12H & volumeCounts24H & volumeCounts3D & volumeCounts5D & volumeCounts7D\\\\\n",
       "\\hline\n",
       "\t integer   & POSIXct   & POSIXct   & POSIXct   & character & character & integer   & integer   & character & character & ...       & integer   & integer   & integer   & integer   & integer   & integer   & integer   & integer   & integer   & integer  \\\\\n",
       "\\end{tabular}\n"
      ],
      "text/markdown": [
       "\n",
       "X1 | time | sourceTimestamp | firstCreated | sourceId | headline | urgency | takeSequence | provider | subjects | ... | noveltyCount12H | noveltyCount24H | noveltyCount3D | noveltyCount5D | noveltyCount7D | volumeCounts12H | volumeCounts24H | volumeCounts3D | volumeCounts5D | volumeCounts7D | \n",
       "|---|\n",
       "| integer   | POSIXct   | POSIXct   | POSIXct   | character | character | integer   | integer   | character | character | ...       | integer   | integer   | integer   | integer   | integer   | integer   | integer   | integer   | integer   | integer   | \n",
       "\n",
       "\n"
      ],
      "text/plain": [
       "  X1      time    sourceTimestamp firstCreated sourceId  headline  urgency\n",
       "1 integer POSIXct POSIXct         POSIXct      character character integer\n",
       "  takeSequence provider  subjects  ... noveltyCount12H noveltyCount24H\n",
       "1 integer      character character ... integer         integer        \n",
       "  noveltyCount3D noveltyCount5D noveltyCount7D volumeCounts12H volumeCounts24H\n",
       "1 integer        integer        integer        integer         integer        \n",
       "  volumeCounts3D volumeCounts5D volumeCounts7D\n",
       "1 integer        integer        integer       "
      ]
     },
     "metadata": {},
     "output_type": "display_data"
    }
   ],
   "source": [
    "dtype.market = as.data.frame(sapply(market_all,class))\n",
    "dtype.news = as.data.frame(sapply(news_all,class))\n",
    "print(\"Market Details Data Types\")\n",
    "head(dtype.market,n=1)\n",
    "print(\"News Details Data Types\")\n",
    "head(dtype.news,n=1)"
   ]
  },
  {
   "cell_type": "markdown",
   "metadata": {
    "_uuid": "da6cd698c9aa67d8e58e0662de4d779946e2f342"
   },
   "source": [
    "## Clean Dataset"
   ]
  },
  {
   "cell_type": "code",
   "execution_count": 17,
   "metadata": {
    "_uuid": "88a99f0971000ffbb112ee3b9a28b2e6f3190552"
   },
   "outputs": [],
   "source": [
    "market = market_all[,colSums(is.na(market_all))<nrow(market_all)]"
   ]
  },
  {
   "cell_type": "code",
   "execution_count": 18,
   "metadata": {},
   "outputs": [],
   "source": [
    "news = news_all[,colSums(is.na(news_all))<nrow(news_all)]"
   ]
  },
  {
   "cell_type": "code",
   "execution_count": 19,
   "metadata": {
    "_uuid": "dc1f741df01ff6522bc5d1ebe39885b850a6758c"
   },
   "outputs": [
    {
     "name": "stdout",
     "output_type": "stream",
     "text": [
      "[1] \"Dimensions of Market after cleaning\"\n"
     ]
    },
    {
     "data": {
      "text/html": [
       "<ol class=list-inline>\n",
       "\t<li>1000</li>\n",
       "\t<li>13</li>\n",
       "</ol>\n"
      ],
      "text/latex": [
       "\\begin{enumerate*}\n",
       "\\item 1000\n",
       "\\item 13\n",
       "\\end{enumerate*}\n"
      ],
      "text/markdown": [
       "1. 1000\n",
       "2. 13\n",
       "\n",
       "\n"
      ],
      "text/plain": [
       "[1] 1000   13"
      ]
     },
     "metadata": {},
     "output_type": "display_data"
    },
    {
     "name": "stdout",
     "output_type": "stream",
     "text": [
      "[1] \"Dimensions of News after cleaning\"\n"
     ]
    },
    {
     "data": {
      "text/html": [
       "<ol class=list-inline>\n",
       "\t<li>100000</li>\n",
       "\t<li>36</li>\n",
       "</ol>\n"
      ],
      "text/latex": [
       "\\begin{enumerate*}\n",
       "\\item 100000\n",
       "\\item 36\n",
       "\\end{enumerate*}\n"
      ],
      "text/markdown": [
       "1. 100000\n",
       "2. 36\n",
       "\n",
       "\n"
      ],
      "text/plain": [
       "[1] 100000     36"
      ]
     },
     "metadata": {},
     "output_type": "display_data"
    }
   ],
   "source": [
    "print(\"Dimensions of Market after cleaning\")\n",
    "dim(market)\n",
    "print(\"Dimensions of News after cleaning\")\n",
    "dim(news)"
   ]
  },
  {
   "cell_type": "markdown",
   "metadata": {
    "_uuid": "891904f654aa783c5a1bbdf3c3caec6b81fc9aa2"
   },
   "source": [
    "## Data Preparation for Modelling"
   ]
  },
  {
   "cell_type": "markdown",
   "metadata": {
    "_uuid": "dc3a27d12deeb56870e78abdbc751dcbf4ac1603"
   },
   "source": [
    "### Functions Used"
   ]
  },
  {
   "cell_type": "code",
   "execution_count": 20,
   "metadata": {
    "_uuid": "d0ab866da1a262315d530b112a7b3a408cd0e1df"
   },
   "outputs": [],
   "source": [
    "clean_elements_function = function(x){\n",
    "  x = str_squish(x)\n",
    "  x = gsub(\"[{}]\", \"\", x)\n",
    "  x = gsub(\"'\", '', x)\n",
    "}\n",
    "\n",
    "count_function = function(x){\n",
    "  value = length(unlist(strsplit(as.character(x), \",\")))\n",
    "}\n",
    "\n",
    "last_element_list_function = function(x){\n",
    "  value = unlist(strsplit(as.character(x), \",\"))\n",
    "  value = as.character(value[length(value)])\n",
    "  clean_elements_function(value)\n",
    "}\n",
    "\n",
    "count_characters_function = function(x){\n",
    "  x = unlist(x)\n",
    "  x = nchar(str_squish(x), type = \"chars\")\n",
    "}"
   ]
  },
  {
   "cell_type": "markdown",
   "metadata": {
    "_uuid": "34f3f467441fabc01359c9976c6fef2d31001b43"
   },
   "source": [
    "### Market"
   ]
  },
  {
   "cell_type": "code",
   "execution_count": 21,
   "metadata": {
    "_uuid": "b995aa174d66071a321af48aa77ec004436101b1"
   },
   "outputs": [],
   "source": [
    "market_data_preparation = function(market){\n",
    "  \n",
    "  market$time = as.Date(market$time)\n",
    "  \n",
    "  volume_to_mean = market['volume'] / mean(market$volume)\n",
    "  volume_to_mean = as.data.frame(volume_to_mean)\n",
    "  colnames(volume_to_mean) = c(\"volume_to_mean\")\n",
    "  market = cbind(market,(volume_to_mean))\n",
    "    \n",
    "  returnsOpenPrevRaw1_to_volume = market['returnsOpenPrevRaw1'] / market['volume']\n",
    "  returnsOpenPrevRaw1_to_volume = as.data.frame(returnsOpenPrevRaw1_to_volume)\n",
    "  colnames(returnsOpenPrevRaw1_to_volume) = c(\"returnsOpenPrevRaw1_to_volume\")\n",
    "  market = cbind(market,(returnsOpenPrevRaw1_to_volume))\n",
    "  \n",
    "  close_to_open = market['close'] / market['open']\n",
    "  close_to_open = as.data.frame(close_to_open)\n",
    "  colnames(close_to_open) = c(\"close_to_open\")\n",
    "  market = cbind(market,(close_to_open))\n",
    "  \n",
    "  return((market))\n",
    "}"
   ]
  },
  {
   "cell_type": "markdown",
   "metadata": {
    "_uuid": "c406a12ffaee461d1e1b2a8ef05a14f38ad6a945"
   },
   "source": [
    "### News"
   ]
  },
  {
   "cell_type": "code",
   "execution_count": 22,
   "metadata": {
    "_uuid": "cd9b510fdcabe33ecd3c530a7dcdcf0192f943b0"
   },
   "outputs": [],
   "source": [
    "news_data_preparation = function(news){\n",
    "  news['sentence_word_count'] =  news['wordCount'] / news['sentenceCount']\n",
    "  news['time']= hour(news$time)\n",
    "  news['sourceTimestamp']= hour(news$sourceTimestamp)\n",
    "  news['firstCreated']= as.Date(news$firstCreated)\n",
    "  \n",
    "  asset.codes.list = convertRowsToList(news['assetCodes'])\n",
    "  asset.codes.len  = t(as.data.frame(lapply(asset.codes.list, count_function)))\n",
    "  colnames(asset.codes.len) = c(\"assetCodesLen\")\n",
    "  news = cbind(news,asset.codes.len)\n",
    "  news['assetCodes'] = t(as.data.frame(lapply(asset.codes.list, last_element_list_function)))\n",
    "  asset.codes.list.new = convertRowsToList(news['assetCodes'])\n",
    "  news['assetCodesLen'] = t(as.data.frame(lapply(asset.codes.list.new, count_characters_function)))\n",
    "  \n",
    "  headlines.list = convertRowsToList(news['headline'])\n",
    "  headlines.len = t(as.data.frame(lapply(headlines.list, count_characters_function)))\n",
    "  colnames(headlines.len) = c(\"headlinesLen\")\n",
    "  news = cbind(news,headlines.len)\n",
    "  \n",
    "  asset.sentiment.count.dataframe = news%>%\n",
    "    group_by(assetName,sentimentClass)%>%\n",
    "    select(time)%>%\n",
    "    tally\n",
    "  new.column = asset.sentiment.count.dataframe[match(news$assetName,asset.sentiment.count.dataframe$assetName),3]\n",
    "  asset.sentiment.count = as.data.frame(new.column)\n",
    "  colnames(asset.sentiment.count) = c(\"assetSentimentCount\")\n",
    "  news = cbind(news,asset.sentiment.count)\n",
    " \n",
    "  df_old = as.data.frame(news['headlineTag'])\n",
    "  a = convertRowsToList(unique(df_old['headlineTag']))\n",
    "  b = unlist(a)\n",
    "  x = as.array(clean_elements_function(b))\n",
    "  y = seq(0,length(x)-1)\n",
    "  df = as.data.frame(cbind(x,y))\n",
    "  new.column = df[match(df_old$headlineTag, df$x),2]\n",
    "  headline.Tag.T = as.data.frame(new.column)\n",
    "  colnames(headline.Tag.T) = c(\"headlineTagT\")\n",
    "  news = cbind(news,headline.Tag.T)\n",
    "    \n",
    "  colnames(news)[which(names(news) == \"assetName\")] = \"assetNames\"\n",
    "  colnames(news)[which(names(news) == \"time\")] = \"time.news\"\n",
    "  return(news)\n",
    "}"
   ]
  },
  {
   "cell_type": "markdown",
   "metadata": {
    "_uuid": "ce8f5e84c3f62ec83630b3f40a68e1248af80696"
   },
   "source": [
    "### Combining the datasets"
   ]
  },
  {
   "cell_type": "code",
   "execution_count": 23,
   "metadata": {
    "_uuid": "25f404aa4fdbc524572576aacdcc15f96dff0cd8"
   },
   "outputs": [],
   "source": [
    "combined_data_preparation = function(market,news){\n",
    "  combined_df = merge(x=market,y=news,by.x = c(\"time\", \"assetName\"), by.y =c(\"firstCreated\", \"assetNames\"))\n",
    "  combined_df = na.omit(combined_df)\n",
    "  return(combined_df)\n",
    "}"
   ]
  },
  {
   "cell_type": "markdown",
   "metadata": {
    "_uuid": "aab72f957e4938289d7e44ddea8c405b2e9daf68"
   },
   "source": [
    "## Modelling"
   ]
  },
  {
   "cell_type": "code",
   "execution_count": 24,
   "metadata": {
    "_uuid": "230419a0513935228c8e0d3174addabbdda3366a"
   },
   "outputs": [],
   "source": [
    "modelling.function = function(regression.function, data, fitfunction){\n",
    "  \n",
    "  model = glmulti(regression.function,\n",
    "          level = 2,               \n",
    "          method = \"g\",  \n",
    "          data = data,\n",
    "          crit = \"aicc\",   \n",
    "          deltaB = 0,\n",
    "          deltaM = 0.01, \n",
    "          conseq = 5, \n",
    "          plotty = FALSE,\n",
    "          report = FALSE,\n",
    "          confsetsize = 5,\n",
    "          fitfunction = fitfunction)\n",
    "    \n",
    "    return(model)\n",
    "  }\n"
   ]
  },
  {
   "cell_type": "code",
   "execution_count": 25,
   "metadata": {},
   "outputs": [],
   "source": [
    "calculation.function = function(model,data){\n",
    "    \n",
    "  number = length(model@formulas)\n",
    "  \n",
    "  aic = rep(0, number)\n",
    "  model.glm = rep(NA, number)\n",
    "  rsquared = rep(0, number)\n",
    "  mae = rep(0, number)\n",
    "  mse = rep(0, number)\n",
    "  rmse = rep(0, number)\n",
    "  mape = rep(0, number)\n",
    "  \n",
    "  for(i in 1:number){\n",
    "    fit = glm(paste(as.character(model@formulas[i])), data = data)\n",
    "    model.glm[i] = paste(as.character(model@formulas[i]))\n",
    "    aic[i] = fit$aic\n",
    "    predicted.values = predict(fit, data)\n",
    "    rsquared[i] = 1 - (fit$deviance/fit$null.deviance)\n",
    "    \n",
    "    predicted_actual_df = data.frame(cbind(actuals=data$returnsOpenNextMktres10, predicteds=predicted.values))\n",
    "    \n",
    "    errors = regr.eval(predicted_actual_df$actuals, predicted_actual_df$predicteds)\n",
    "    mae[i] = errors[1]\n",
    "    mse[i] = errors[2]\n",
    "    rmse[i] = errors[3]\n",
    "    mape[i] = errors[4]\n",
    "  }\n",
    "  \n",
    "  df = data.frame(model.glm,aic,rsquared,mae,mse,rmse,mape)\n",
    "  colnames(df) = c(\"MODEL\", \"AIC\", \"R_SQUARED\", \"MAE\", \"MSE\", \"RMSE\", \"MAPE\")\n",
    "    \n",
    "  return(list(best.model = model, dataframe = df))\n",
    "}"
   ]
  },
  {
   "cell_type": "code",
   "execution_count": 26,
   "metadata": {
    "_uuid": "87116d8d03665d1876e55a8e49fa264a208948ab"
   },
   "outputs": [],
   "source": [
    "display.modelling.result = function(value){\n",
    "  best.model = value$best.model\n",
    "  dataframe = value$dataframe\n",
    "  \n",
    "  print(\"Brief summary\")\n",
    "  print(best.model)\n",
    "  print(\"Best model\")\n",
    "  summary(best.model@objects[[1]])\n",
    "  print(\"Best model results\")\n",
    "  print(t(as.data.frame(head(dataframe, n=1))))\n",
    "  print(\"Top 5 model results\")\n",
    "  print(dataframe)\n",
    "}"
   ]
  },
  {
   "cell_type": "code",
   "execution_count": 27,
   "metadata": {
    "_uuid": "205d637115f7fb8fdc7049656e1f5f6af65321c9"
   },
   "outputs": [],
   "source": [
    "plot.modelling.result = function(value){\n",
    "  best.model = value$best.model\n",
    "  dataframe = value$dataframe\n",
    "\n",
    "  plot(best.model)\n",
    "  plot(best.model, type=\"s\")\n",
    "}"
   ]
  },
  {
   "cell_type": "code",
   "execution_count": 28,
   "metadata": {
    "_uuid": "59628d8ae5fa80f6697c00c230b568409ae3f0ca"
   },
   "outputs": [],
   "source": [
    "roc.curve = function(value,data){\n",
    "  best.model = value$best.model\n",
    "  fit = glm(paste(as.character(best.model@formulas[1])), data = data)\n",
    "  predicted.values = predict(fit, newdata = data)\n",
    "  data$predictions = predicted.values\n",
    "  train_data = data.frame(data)\n",
    "  plot(roc(data$returnsOpenNextMktres10 ~ data$predictions), main = \"ROC for best model\")\n",
    "  \n",
    "}"
   ]
  },
  {
   "cell_type": "markdown",
   "metadata": {
    "_uuid": "19cb3101a1d13c0270b961f90c24e8e0b2a8bee0"
   },
   "source": [
    "## Stock Data Regression"
   ]
  },
  {
   "cell_type": "markdown",
   "metadata": {
    "_uuid": "95194bba2b65fab36cf2e02c07a83f6ae4e0e26d"
   },
   "source": [
    "### Stock Data Regression without transforming the variables"
   ]
  },
  {
   "cell_type": "code",
   "execution_count": 29,
   "metadata": {
    "_uuid": "171e80e3a7429845688880989a2faaa365717b70"
   },
   "outputs": [],
   "source": [
    "m1 = market%>%\n",
    "  select(returnsOpenNextMktres10,volume,returnsClosePrevRaw1,returnsOpenPrevRaw1,returnsClosePrevRaw10,open,close)"
   ]
  },
  {
   "cell_type": "code",
   "execution_count": 30,
   "metadata": {
    "_uuid": "d58b8809a7311ca47630d3934ffdd5f8ed23821e"
   },
   "outputs": [
    {
     "data": {
      "text/html": [
       "<table>\n",
       "<thead><tr><th scope=col>returnsOpenNextMktres10</th><th scope=col>volume</th><th scope=col>returnsClosePrevRaw1</th><th scope=col>returnsOpenPrevRaw1</th><th scope=col>returnsClosePrevRaw10</th><th scope=col>open</th><th scope=col>close</th></tr></thead>\n",
       "<tbody>\n",
       "\t<tr><td> 0.034672040 </td><td> 2606900     </td><td> 0.0059375000</td><td> 0.005312500 </td><td>-0.001860465 </td><td>32.17        </td><td>32.19        </td></tr>\n",
       "\t<tr><td> 0.027803280 </td><td> 2051600     </td><td> 0.0045167118</td><td>-0.007168459 </td><td>-0.078707539 </td><td>11.08        </td><td>11.12        </td></tr>\n",
       "\t<tr><td> 0.024432913 </td><td> 1164800     </td><td>-0.0115942029</td><td> 0.025647948 </td><td> 0.014332071 </td><td>37.99        </td><td>37.51        </td></tr>\n",
       "\t<tr><td>-0.007424612 </td><td>23747329     </td><td>-0.0115478829</td><td> 0.016323885 </td><td>-0.048613450 </td><td>86.23        </td><td>84.74        </td></tr>\n",
       "\t<tr><td>-0.017994120 </td><td> 1208600     </td><td> 0.0117911286</td><td> 0.025042686 </td><td> 0.012928612 </td><td>18.01        </td><td>18.02        </td></tr>\n",
       "\t<tr><td> 0.058680420 </td><td> 1657300     </td><td>-0.0001909126</td><td> 0.008468052 </td><td> 0.088999792 </td><td>52.40        </td><td>52.37        </td></tr>\n",
       "</tbody>\n",
       "</table>\n"
      ],
      "text/latex": [
       "\\begin{tabular}{r|lllllll}\n",
       " returnsOpenNextMktres10 & volume & returnsClosePrevRaw1 & returnsOpenPrevRaw1 & returnsClosePrevRaw10 & open & close\\\\\n",
       "\\hline\n",
       "\t  0.034672040  &  2606900      &  0.0059375000 &  0.005312500  & -0.001860465  & 32.17         & 32.19        \\\\\n",
       "\t  0.027803280  &  2051600      &  0.0045167118 & -0.007168459  & -0.078707539  & 11.08         & 11.12        \\\\\n",
       "\t  0.024432913  &  1164800      & -0.0115942029 &  0.025647948  &  0.014332071  & 37.99         & 37.51        \\\\\n",
       "\t -0.007424612  & 23747329      & -0.0115478829 &  0.016323885  & -0.048613450  & 86.23         & 84.74        \\\\\n",
       "\t -0.017994120  &  1208600      &  0.0117911286 &  0.025042686  &  0.012928612  & 18.01         & 18.02        \\\\\n",
       "\t  0.058680420  &  1657300      & -0.0001909126 &  0.008468052  &  0.088999792  & 52.40         & 52.37        \\\\\n",
       "\\end{tabular}\n"
      ],
      "text/markdown": [
       "\n",
       "returnsOpenNextMktres10 | volume | returnsClosePrevRaw1 | returnsOpenPrevRaw1 | returnsClosePrevRaw10 | open | close | \n",
       "|---|---|---|---|---|---|\n",
       "|  0.034672040  |  2606900      |  0.0059375000 |  0.005312500  | -0.001860465  | 32.17         | 32.19         | \n",
       "|  0.027803280  |  2051600      |  0.0045167118 | -0.007168459  | -0.078707539  | 11.08         | 11.12         | \n",
       "|  0.024432913  |  1164800      | -0.0115942029 |  0.025647948  |  0.014332071  | 37.99         | 37.51         | \n",
       "| -0.007424612  | 23747329      | -0.0115478829 |  0.016323885  | -0.048613450  | 86.23         | 84.74         | \n",
       "| -0.017994120  |  1208600      |  0.0117911286 |  0.025042686  |  0.012928612  | 18.01         | 18.02         | \n",
       "|  0.058680420  |  1657300      | -0.0001909126 |  0.008468052  |  0.088999792  | 52.40         | 52.37         | \n",
       "\n",
       "\n"
      ],
      "text/plain": [
       "  returnsOpenNextMktres10 volume   returnsClosePrevRaw1 returnsOpenPrevRaw1\n",
       "1  0.034672040             2606900  0.0059375000         0.005312500       \n",
       "2  0.027803280             2051600  0.0045167118        -0.007168459       \n",
       "3  0.024432913             1164800 -0.0115942029         0.025647948       \n",
       "4 -0.007424612            23747329 -0.0115478829         0.016323885       \n",
       "5 -0.017994120             1208600  0.0117911286         0.025042686       \n",
       "6  0.058680420             1657300 -0.0001909126         0.008468052       \n",
       "  returnsClosePrevRaw10 open  close\n",
       "1 -0.001860465          32.17 32.19\n",
       "2 -0.078707539          11.08 11.12\n",
       "3  0.014332071          37.99 37.51\n",
       "4 -0.048613450          86.23 84.74\n",
       "5  0.012928612          18.01 18.02\n",
       "6  0.088999792          52.40 52.37"
      ]
     },
     "metadata": {},
     "output_type": "display_data"
    }
   ],
   "source": [
    "head(m1)"
   ]
  },
  {
   "cell_type": "markdown",
   "metadata": {
    "_uuid": "35c32dabf40808d0f475522ce41fcd5088d0b305"
   },
   "source": [
    "### LM"
   ]
  },
  {
   "cell_type": "code",
   "execution_count": 31,
   "metadata": {
    "_uuid": "e4f3f8547d79cc4fa9b71d045f53d7e8f6c53d66"
   },
   "outputs": [
    {
     "name": "stdout",
     "output_type": "stream",
     "text": [
      "TASK: Genetic algorithm in the candidate set.\n",
      "Initialization...\n",
      "Algorithm started...\n",
      "Improvements in best and average IC have bebingo en below the specified goals.\n",
      "Algorithm is declared to have converged.\n",
      "Completed.\n"
     ]
    }
   ],
   "source": [
    "a11 = modelling.function(returnsOpenNextMktres10~., m1,\"lm\")"
   ]
  },
  {
   "cell_type": "code",
   "execution_count": 32,
   "metadata": {},
   "outputs": [],
   "source": [
    "a1 = calculation.function(a11,m1)"
   ]
  },
  {
   "cell_type": "code",
   "execution_count": 33,
   "metadata": {
    "_uuid": "054cf50029d3d724c4890909cb887c4f98d44b77"
   },
   "outputs": [
    {
     "name": "stdout",
     "output_type": "stream",
     "text": [
      "[1] \"Brief summary\"\n",
      "glmulti.analysis\n",
      "Method: g / Fitting: lm / IC used: aicc\n",
      "Level: 2 / Marginality: FALSE\n",
      "From 5 models:\n",
      "Best IC: -3139.19108430718\n",
      "Best model:\n",
      "[1] \"returnsOpenNextMktres10 ~ 1 + returnsClosePrevRaw1 + returnsClosePrevRaw10:returnsOpenPrevRaw1 + \"\n",
      "[2] \"    open:returnsClosePrevRaw1 + close:returnsClosePrevRaw1 + \"                                    \n",
      "[3] \"    close:returnsOpenPrevRaw1\"                                                                    \n",
      "Evidence weight: 0.279399374050002\n",
      "Worst IC: -3137.73102693368\n",
      "5 models within 2 IC units.\n",
      "4 models to reach 95% of evidence weight.\n",
      "Convergence after 220 generations.\n",
      "Time elapsed: 19.1503460407257 minutes.\n",
      "[1] \"Best model\"\n",
      "[1] \"Best model results\"\n",
      "          1                                                                                                                                                                                    \n",
      "MODEL     \"returnsOpenNextMktres10 ~ 1 + returnsClosePrevRaw1 + returnsClosePrevRaw10:returnsOpenPrevRaw1 + open:returnsClosePrevRaw1 + close:returnsClosePrevRaw1 + close:returnsOpenPrevRaw1\"\n",
      "AIC       \"-3139.304\"                                                                                                                                                                          \n",
      "R_SQUARED \"0.05238457\"                                                                                                                                                                         \n",
      "MAE       \"0.03495162\"                                                                                                                                                                         \n",
      "MSE       \"0.002500709\"                                                                                                                                                                        \n",
      "RMSE      \"0.05000709\"                                                                                                                                                                         \n",
      "MAPE      \"2.358657\"                                                                                                                                                                           \n",
      "[1] \"Top 5 model results\"\n",
      "                                                                                                                                                                                                             MODEL\n",
      "1                              returnsOpenNextMktres10 ~ 1 + returnsClosePrevRaw1 + returnsClosePrevRaw10:returnsOpenPrevRaw1 + open:returnsClosePrevRaw1 + close:returnsClosePrevRaw1 + close:returnsOpenPrevRaw1\n",
      "2 returnsOpenNextMktres10 ~ 1 + returnsClosePrevRaw1 + returnsClosePrevRaw10:returnsOpenPrevRaw1 + open:returnsClosePrevRaw1 + open:returnsClosePrevRaw10 + close:returnsClosePrevRaw1 + close:returnsOpenPrevRaw1\n",
      "3      returnsOpenNextMktres10 ~ 1 + returnsClosePrevRaw1 + returnsClosePrevRaw10 + returnsClosePrevRaw10:returnsOpenPrevRaw1 + open:returnsClosePrevRaw1 + close:returnsClosePrevRaw1 + close:returnsOpenPrevRaw1\n",
      "4                     returnsOpenNextMktres10 ~ 1 + volume + returnsClosePrevRaw1 + returnsClosePrevRaw10:returnsOpenPrevRaw1 + open:returnsClosePrevRaw1 + close:returnsClosePrevRaw1 + close:returnsOpenPrevRaw1\n",
      "5                returnsOpenNextMktres10 ~ 1 + returnsClosePrevRaw1 + returnsClosePrevRaw10:returnsOpenPrevRaw1 + open:volume + open:returnsClosePrevRaw1 + close:returnsClosePrevRaw1 + close:returnsOpenPrevRaw1\n",
      "        AIC  R_SQUARED        MAE         MSE       RMSE     MAPE\n",
      "1 -3139.304 0.05238457 0.03495162 0.002500709 0.05000709 2.358657\n",
      "2 -3139.162 0.05414366 0.03492939 0.002496067 0.04996065 2.486133\n",
      "3 -3138.571 0.05358421 0.03494502 0.002497543 0.04997542 2.405604\n",
      "4 -3137.945 0.05299193 0.03497789 0.002499106 0.04999106 2.390339\n",
      "5 -3137.876 0.05292678 0.03494842 0.002499278 0.04999278 2.347365\n"
     ]
    }
   ],
   "source": [
    "display.modelling.result(a1)"
   ]
  },
  {
   "cell_type": "code",
   "execution_count": 34,
   "metadata": {
    "_uuid": "49d45a7ffbe24853256b3c4cc5741c2747cff9a2"
   },
   "outputs": [
    {
     "data": {
      "image/png": "[encoded data removed]",
      "text/plain": [
       "Plot with title \"IC profile\""
      ]
     },
     "metadata": {},
     "output_type": "display_data"
    },
    {
     "data": {
      "image/png": "[encoded data removed]",
      "text/plain": [
       "Plot with title \"Model-averaged importance of terms\""
      ]
     },
     "metadata": {},
     "output_type": "display_data"
    }
   ],
   "source": [
    "plot.modelling.result(a1)"
   ]
  },
  {
   "cell_type": "code",
   "execution_count": 35,
   "metadata": {
    "_uuid": "fa807d1372ce103f79b1ca95f6221682331dc97b"
   },
   "outputs": [
    {
     "name": "stderr",
     "output_type": "stream",
     "text": [
      "Warning message in roc.default(response, m[[predictors]], ...):\n",
      "\"'response' has more than two levels. Consider setting 'levels' explicitly or using 'multiclass.roc' instead\""
     ]
    },
    {
     "data": {
      "image/png": "[encoded data removed]",
      "text/plain": [
       "Plot with title \"ROC for best model\""
      ]
     },
     "metadata": {},
     "output_type": "display_data"
    }
   ],
   "source": [
    "roc.curve(a1,m1)"
   ]
  },
  {
   "cell_type": "markdown",
   "metadata": {
    "_uuid": "8b9f66e0eb341d282484aaa64503a58c5f974994"
   },
   "source": [
    "## GLM"
   ]
  },
  {
   "cell_type": "code",
   "execution_count": 36,
   "metadata": {
    "_uuid": "ffe1caf367c79d0539d92919801b3c0650f3e93e"
   },
   "outputs": [
    {
     "name": "stdout",
     "output_type": "stream",
     "text": [
      "TASK: Genetic algorithm in the candidate set.\n",
      "Initialization...\n",
      "Algorithm started...\n",
      "Improvements in best and average IC have bebingo en below the specified goals.\n",
      "Algorithm is declared to have converged.\n",
      "Completed.\n"
     ]
    }
   ],
   "source": [
    "a21 = modelling.function(returnsOpenNextMktres10~., m1,\"glm\")"
   ]
  },
  {
   "cell_type": "code",
   "execution_count": 38,
   "metadata": {},
   "outputs": [],
   "source": [
    "a2 = calculation.function(a21,m1)"
   ]
  },
  {
   "cell_type": "code",
   "execution_count": 39,
   "metadata": {
    "_uuid": "622660d3adad67b63fe22ca11a34c3e72fe8651c"
   },
   "outputs": [
    {
     "name": "stdout",
     "output_type": "stream",
     "text": [
      "[1] \"Brief summary\"\n",
      "glmulti.analysis\n",
      "Method: g / Fitting: glm / IC used: aicc\n",
      "Level: 2 / Marginality: FALSE\n",
      "From 5 models:\n",
      "Best IC: -3139.19108430718\n",
      "Best model:\n",
      "[1] \"returnsOpenNextMktres10 ~ 1 + returnsClosePrevRaw1 + returnsClosePrevRaw10:returnsOpenPrevRaw1 + \"\n",
      "[2] \"    open:returnsClosePrevRaw1 + close:returnsClosePrevRaw1 + \"                                    \n",
      "[3] \"    close:returnsOpenPrevRaw1\"                                                                    \n",
      "Evidence weight: 0.244222228934114\n",
      "Worst IC: -3138.00938177735\n",
      "5 models within 2 IC units.\n",
      "4 models to reach 95% of evidence weight.\n",
      "Convergence after 180 generations.\n",
      "Time elapsed: 24.6798851490021 minutes.\n",
      "[1] \"Best model\"\n",
      "[1] \"Best model results\"\n",
      "          1                                                                                                                                                                                    \n",
      "MODEL     \"returnsOpenNextMktres10 ~ 1 + returnsClosePrevRaw1 + returnsClosePrevRaw10:returnsOpenPrevRaw1 + open:returnsClosePrevRaw1 + close:returnsClosePrevRaw1 + close:returnsOpenPrevRaw1\"\n",
      "AIC       \"-3139.304\"                                                                                                                                                                          \n",
      "R_SQUARED \"0.05238457\"                                                                                                                                                                         \n",
      "MAE       \"0.03495162\"                                                                                                                                                                         \n",
      "MSE       \"0.002500709\"                                                                                                                                                                        \n",
      "RMSE      \"0.05000709\"                                                                                                                                                                         \n",
      "MAPE      \"2.358657\"                                                                                                                                                                           \n",
      "[1] \"Top 5 model results\"\n",
      "                                                                                                                                                                                                              MODEL\n",
      "1                               returnsOpenNextMktres10 ~ 1 + returnsClosePrevRaw1 + returnsClosePrevRaw10:returnsOpenPrevRaw1 + open:returnsClosePrevRaw1 + close:returnsClosePrevRaw1 + close:returnsOpenPrevRaw1\n",
      "2 returnsOpenNextMktres10 ~ 1 + returnsClosePrevRaw1 + returnsClosePrevRaw10:returnsOpenPrevRaw1 + open:returnsClosePrevRaw1 + close:returnsClosePrevRaw1 + close:returnsOpenPrevRaw1 + close:returnsClosePrevRaw10\n",
      "3  returnsOpenNextMktres10 ~ 1 + returnsClosePrevRaw1 + returnsClosePrevRaw10:returnsOpenPrevRaw1 + open:returnsClosePrevRaw1 + open:returnsClosePrevRaw10 + close:returnsClosePrevRaw1 + close:returnsOpenPrevRaw1\n",
      "4       returnsOpenNextMktres10 ~ 1 + returnsClosePrevRaw1 + returnsClosePrevRaw10 + returnsClosePrevRaw10:returnsOpenPrevRaw1 + open:returnsClosePrevRaw1 + close:returnsClosePrevRaw1 + close:returnsOpenPrevRaw1\n",
      "5         returnsOpenNextMktres10 ~ 1 + returnsClosePrevRaw1 + returnsOpenPrevRaw1 + returnsClosePrevRaw10:returnsOpenPrevRaw1 + open:returnsClosePrevRaw1 + close:returnsClosePrevRaw1 + close:returnsOpenPrevRaw1\n",
      "        AIC  R_SQUARED        MAE         MSE       RMSE     MAPE\n",
      "1 -3139.304 0.05238457 0.03495162 0.002500709 0.05000709 2.358657\n",
      "2 -3139.218 0.05419618 0.03492972 0.002495928 0.04995926 2.488565\n",
      "3 -3139.162 0.05414366 0.03492939 0.002496067 0.04996065 2.486133\n",
      "4 -3138.571 0.05358421 0.03494502 0.002497543 0.04997542 2.405604\n",
      "5 -3138.155 0.05319037 0.03493211 0.002498582 0.04998582 2.345954\n"
     ]
    }
   ],
   "source": [
    "display.modelling.result(a2)"
   ]
  },
  {
   "cell_type": "code",
   "execution_count": 40,
   "metadata": {
    "_uuid": "398ebff96238693820c6a1593a59e7232932bff7"
   },
   "outputs": [
    {
     "data": {
      "image/png": "[encoded data removed]",
      "text/plain": [
       "Plot with title \"IC profile\""
      ]
     },
     "metadata": {},
     "output_type": "display_data"
    },
    {
     "data": {
      "image/png": "[encoded data removed]",
      "text/plain": [
       "Plot with title \"Model-averaged importance of terms\""
      ]
     },
     "metadata": {},
     "output_type": "display_data"
    }
   ],
   "source": [
    "plot.modelling.result(a2)"
   ]
  },
  {
   "cell_type": "code",
   "execution_count": 41,
   "metadata": {
    "_uuid": "71a04b91eabfb404f70a874d954b79b92b542d67"
   },
   "outputs": [
    {
     "name": "stderr",
     "output_type": "stream",
     "text": [
      "Warning message in roc.default(response, m[[predictors]], ...):\n",
      "\"'response' has more than two levels. Consider setting 'levels' explicitly or using 'multiclass.roc' instead\""
     ]
    },
    {
     "data": {
      "image/png": "[encoded data removed]",
      "text/plain": [
       "Plot with title \"ROC for best model\""
      ]
     },
     "metadata": {},
     "output_type": "display_data"
    }
   ],
   "source": [
    "roc.curve(a2,m1)"
   ]
  },
  {
   "cell_type": "markdown",
   "metadata": {
    "_uuid": "d8036fb519f5e493697ff4178ab55bb774a7e49c"
   },
   "source": [
    "## GLS"
   ]
  },
  {
   "cell_type": "code",
   "execution_count": 42,
   "metadata": {
    "_uuid": "40df6cefb5caf7d6cd63c61e28b785544cc62ee6"
   },
   "outputs": [
    {
     "name": "stdout",
     "output_type": "stream",
     "text": [
      "TASK: Genetic algorithm in the candidate set.\n",
      "Initialization...\n",
      "Algorithm started...\n",
      "Improvements in best and average IC have bebingo en below the specified goals.\n",
      "Algorithm is declared to have converged.\n",
      "Completed.\n"
     ]
    }
   ],
   "source": [
    "a31 = modelling.function(returnsOpenNextMktres10~., m1,\"gls\")"
   ]
  },
  {
   "cell_type": "code",
   "execution_count": 43,
   "metadata": {},
   "outputs": [],
   "source": [
    "a3 = calculation.function(a31,m1)"
   ]
  },
  {
   "cell_type": "code",
   "execution_count": 44,
   "metadata": {
    "_uuid": "2512a84774780f94550aa70e38903297813c504c"
   },
   "outputs": [
    {
     "name": "stdout",
     "output_type": "stream",
     "text": [
      "[1] \"Brief summary\"\n",
      "glmulti.analysis\n",
      "Method: g / Fitting: gls / IC used: aicc\n",
      "Level: 2 / Marginality: FALSE\n",
      "From 5 models:\n",
      "Best IC: -3116.22899164311\n",
      "Best model:\n",
      "[1] \"returnsOpenNextMktres10 ~ 1 + returnsOpenPrevRaw1:returnsClosePrevRaw1 + \"                    \n",
      "[2] \"    returnsClosePrevRaw10:returnsClosePrevRaw1 + returnsClosePrevRaw10:returnsOpenPrevRaw1 + \"\n",
      "[3] \"    open:returnsOpenPrevRaw1\"                                                                 \n",
      "Evidence weight: 0.497068156148542\n",
      "Worst IC: -3105.12492391756\n",
      "2 models within 2 IC units.\n",
      "3 models to reach 95% of evidence weight.\n",
      "Convergence after 140 generations.\n",
      "Time elapsed: 15.1870641708374 minutes.\n",
      "[1] \"Best model\"\n",
      "[1] \"Best model results\"\n",
      "          1                                                                                                                                                                                           \n",
      "MODEL     \"returnsOpenNextMktres10 ~ 1 + returnsOpenPrevRaw1:returnsClosePrevRaw1 + returnsClosePrevRaw10:returnsClosePrevRaw1 + returnsClosePrevRaw10:returnsOpenPrevRaw1 + open:returnsOpenPrevRaw1\"\n",
      "AIC       \"-3131.372\"                                                                                                                                                                                 \n",
      "R_SQUARED \"0.0429256\"                                                                                                                                                                                 \n",
      "MAE       \"0.03527361\"                                                                                                                                                                                \n",
      "MSE       \"0.002525671\"                                                                                                                                                                               \n",
      "RMSE      \"0.05025605\"                                                                                                                                                                                \n",
      "MAPE      \"2.511567\"                                                                                                                                                                                  \n",
      "[1] \"Top 5 model results\"\n",
      "                                                                                                                                                                                       MODEL\n",
      "1 returnsOpenNextMktres10 ~ 1 + returnsOpenPrevRaw1:returnsClosePrevRaw1 + returnsClosePrevRaw10:returnsClosePrevRaw1 + returnsClosePrevRaw10:returnsOpenPrevRaw1 + open:returnsOpenPrevRaw1\n",
      "2                                              returnsOpenNextMktres10 ~ 1 + returnsOpenPrevRaw1:returnsClosePrevRaw1 + returnsClosePrevRaw10:returnsOpenPrevRaw1 + open:returnsOpenPrevRaw1\n",
      "3                        returnsOpenNextMktres10 ~ 1 + returnsOpenPrevRaw1 + returnsOpenPrevRaw1:returnsClosePrevRaw1 + returnsClosePrevRaw10:returnsOpenPrevRaw1 + open:returnsOpenPrevRaw1\n",
      "4                       returnsOpenNextMktres10 ~ 1 + returnsClosePrevRaw1 + returnsOpenPrevRaw1:returnsClosePrevRaw1 + returnsClosePrevRaw10:returnsOpenPrevRaw1 + open:returnsOpenPrevRaw1\n",
      "5                                                                                         returnsOpenNextMktres10 ~ 1 + returnsClosePrevRaw10:returnsOpenPrevRaw1 + open:returnsOpenPrevRaw1\n",
      "        AIC  R_SQUARED        MAE         MSE       RMSE     MAPE\n",
      "1 -3131.372 0.04292560 0.03527361 0.002525671 0.05025605 2.511567\n",
      "2 -3133.105 0.04267039 0.03527248 0.002526344 0.05026275 2.486866\n",
      "3 -3131.975 0.04350248 0.03522198 0.002524148 0.05024090 2.451338\n",
      "4 -3131.494 0.04304285 0.03527701 0.002525361 0.05025297 2.500943\n",
      "5 -3125.613 0.03354036 0.03533313 0.002550438 0.05050186 2.371787\n"
     ]
    }
   ],
   "source": [
    "display.modelling.result(a3)"
   ]
  },
  {
   "cell_type": "code",
   "execution_count": 46,
   "metadata": {
    "_uuid": "8dcde1712147d29ccc5fa6b7c42ae65c33ff368c"
   },
   "outputs": [
    {
     "data": {
      "image/png": "[encoded data removed]",
      "text/plain": [
       "Plot with title \"IC profile\""
      ]
     },
     "metadata": {},
     "output_type": "display_data"
    },
    {
     "data": {
      "image/png": "[encoded data removed]",
      "text/plain": [
       "Plot with title \"Model-averaged importance of terms\""
      ]
     },
     "metadata": {},
     "output_type": "display_data"
    }
   ],
   "source": [
    "plot.modelling.result(a3)"
   ]
  },
  {
   "cell_type": "code",
   "execution_count": 45,
   "metadata": {
    "_uuid": "94f9218ff8ba978b3fce98eff950166f56aa8c8d"
   },
   "outputs": [
    {
     "name": "stderr",
     "output_type": "stream",
     "text": [
      "Warning message in roc.default(response, m[[predictors]], ...):\n",
      "\"'response' has more than two levels. Consider setting 'levels' explicitly or using 'multiclass.roc' instead\""
     ]
    },
    {
     "data": {
      "image/png": "[encoded data removed]",
      "text/plain": [
       "Plot with title \"ROC for best model\""
      ]
     },
     "metadata": {},
     "output_type": "display_data"
    }
   ],
   "source": [
    "roc.curve(a3,m1)"
   ]
  },
  {
   "cell_type": "markdown",
   "metadata": {
    "_uuid": "059679d397db270484b332c037426db9ee67d936"
   },
   "source": [
    "### Stock Data Regression after transforming the variables"
   ]
  },
  {
   "cell_type": "code",
   "execution_count": 46,
   "metadata": {
    "_uuid": "afe3a2e4835e1afb6de630eb0af9fdc9e0723b52"
   },
   "outputs": [],
   "source": [
    "market_changed1 = market_data_preparation(market)%>%\n",
    "  select(returnsOpenNextMktres10,volume_to_mean,returnsOpenPrevRaw1_to_volume,close_to_open)"
   ]
  },
  {
   "cell_type": "code",
   "execution_count": 47,
   "metadata": {
    "_uuid": "0ebb98b80dbfa9d83153197f33e624acf231df7c"
   },
   "outputs": [
    {
     "data": {
      "text/html": [
       "<table>\n",
       "<thead><tr><th scope=col>returnsOpenNextMktres10</th><th scope=col>volume_to_mean</th><th scope=col>returnsOpenPrevRaw1_to_volume</th><th scope=col>close_to_open</th></tr></thead>\n",
       "<tbody>\n",
       "\t<tr><td> 0.034672040 </td><td>1.0498578    </td><td> 2.037861e-09</td><td>1.0006217    </td></tr>\n",
       "\t<tr><td> 0.027803280 </td><td>0.8262259    </td><td>-3.494082e-09</td><td>1.0036101    </td></tr>\n",
       "\t<tr><td> 0.024432913 </td><td>0.4690914    </td><td> 2.201919e-08</td><td>0.9873651    </td></tr>\n",
       "\t<tr><td>-0.007424612 </td><td>9.5635880    </td><td> 6.873988e-10</td><td>0.9827206    </td></tr>\n",
       "\t<tr><td>-0.017994120 </td><td>0.4867306    </td><td> 2.072041e-08</td><td>1.0005552    </td></tr>\n",
       "\t<tr><td> 0.058680420 </td><td>0.6674323    </td><td> 5.109547e-09</td><td>0.9994275    </td></tr>\n",
       "</tbody>\n",
       "</table>\n"
      ],
      "text/latex": [
       "\\begin{tabular}{r|llll}\n",
       " returnsOpenNextMktres10 & volume\\_to\\_mean & returnsOpenPrevRaw1\\_to\\_volume & close\\_to\\_open\\\\\n",
       "\\hline\n",
       "\t  0.034672040  & 1.0498578     &  2.037861e-09 & 1.0006217    \\\\\n",
       "\t  0.027803280  & 0.8262259     & -3.494082e-09 & 1.0036101    \\\\\n",
       "\t  0.024432913  & 0.4690914     &  2.201919e-08 & 0.9873651    \\\\\n",
       "\t -0.007424612  & 9.5635880     &  6.873988e-10 & 0.9827206    \\\\\n",
       "\t -0.017994120  & 0.4867306     &  2.072041e-08 & 1.0005552    \\\\\n",
       "\t  0.058680420  & 0.6674323     &  5.109547e-09 & 0.9994275    \\\\\n",
       "\\end{tabular}\n"
      ],
      "text/markdown": [
       "\n",
       "returnsOpenNextMktres10 | volume_to_mean | returnsOpenPrevRaw1_to_volume | close_to_open | \n",
       "|---|---|---|---|---|---|\n",
       "|  0.034672040  | 1.0498578     |  2.037861e-09 | 1.0006217     | \n",
       "|  0.027803280  | 0.8262259     | -3.494082e-09 | 1.0036101     | \n",
       "|  0.024432913  | 0.4690914     |  2.201919e-08 | 0.9873651     | \n",
       "| -0.007424612  | 9.5635880     |  6.873988e-10 | 0.9827206     | \n",
       "| -0.017994120  | 0.4867306     |  2.072041e-08 | 1.0005552     | \n",
       "|  0.058680420  | 0.6674323     |  5.109547e-09 | 0.9994275     | \n",
       "\n",
       "\n"
      ],
      "text/plain": [
       "  returnsOpenNextMktres10 volume_to_mean returnsOpenPrevRaw1_to_volume\n",
       "1  0.034672040            1.0498578       2.037861e-09                \n",
       "2  0.027803280            0.8262259      -3.494082e-09                \n",
       "3  0.024432913            0.4690914       2.201919e-08                \n",
       "4 -0.007424612            9.5635880       6.873988e-10                \n",
       "5 -0.017994120            0.4867306       2.072041e-08                \n",
       "6  0.058680420            0.6674323       5.109547e-09                \n",
       "  close_to_open\n",
       "1 1.0006217    \n",
       "2 1.0036101    \n",
       "3 0.9873651    \n",
       "4 0.9827206    \n",
       "5 1.0005552    \n",
       "6 0.9994275    "
      ]
     },
     "metadata": {},
     "output_type": "display_data"
    }
   ],
   "source": [
    "head(market_changed1)"
   ]
  },
  {
   "cell_type": "markdown",
   "metadata": {
    "_uuid": "e521bec25b89c58a9b4256105ca3663343391d28"
   },
   "source": [
    "### LM"
   ]
  },
  {
   "cell_type": "code",
   "execution_count": 48,
   "metadata": {
    "_uuid": "ad1b5a77733dfe741541820b42054d8c03733135"
   },
   "outputs": [
    {
     "name": "stdout",
     "output_type": "stream",
     "text": [
      "TASK: Genetic algorithm in the candidate set.\n",
      "Initialization...\n",
      "Algorithm started...\n",
      "Improvements in best and average IC have bebingo en below the specified goals.\n",
      "Algorithm is declared to have converged.\n",
      "Completed.\n"
     ]
    }
   ],
   "source": [
    "b11 = modelling.function(as.formula(returnsOpenNextMktres10~.), market_changed1,\"lm\")"
   ]
  },
  {
   "cell_type": "code",
   "execution_count": 49,
   "metadata": {},
   "outputs": [],
   "source": [
    "b1 = calculation.function(b11,market_changed1)"
   ]
  },
  {
   "cell_type": "code",
   "execution_count": 50,
   "metadata": {
    "_uuid": "94388961e827883b1c17660530d7d1132b0ff9c3"
   },
   "outputs": [
    {
     "name": "stdout",
     "output_type": "stream",
     "text": [
      "[1] \"Brief summary\"\n",
      "glmulti.analysis\n",
      "Method: g / Fitting: lm / IC used: aicc\n",
      "Level: 2 / Marginality: FALSE\n",
      "From 5 models:\n",
      "Best IC: -3129.0904630328\n",
      "Best model:\n",
      "[1] \"returnsOpenNextMktres10 ~ 1 + volume_to_mean + returnsOpenPrevRaw1_to_volume + \"\n",
      "[2] \"    close_to_open + returnsOpenPrevRaw1_to_volume:volume_to_mean\"               \n",
      "Evidence weight: 0.219178747491457\n",
      "Worst IC: -3128.13454777891\n",
      "5 models within 2 IC units.\n",
      "4 models to reach 95% of evidence weight.\n",
      "Convergence after 60 generations.\n",
      "Time elapsed: 0.124333143234253 minutes.\n",
      "[1] \"Best model\"\n",
      "[1] \"Best model results\"\n",
      "          1                                                                                                                                            \n",
      "MODEL     \"returnsOpenNextMktres10 ~ 1 + volume_to_mean + returnsOpenPrevRaw1_to_volume + close_to_open + returnsOpenPrevRaw1_to_volume:volume_to_mean\"\n",
      "AIC       \"-3129.175\"                                                                                                                                  \n",
      "R_SQUARED \"0.04082102\"                                                                                                                                 \n",
      "MAE       \"0.03516496\"                                                                                                                                 \n",
      "MSE       \"0.002531224\"                                                                                                                                \n",
      "RMSE      \"0.05031128\"                                                                                                                                 \n",
      "MAPE      \"2.322896\"                                                                                                                                   \n",
      "[1] \"Top 5 model results\"\n",
      "                                                                                                                                                                    MODEL\n",
      "1                             returnsOpenNextMktres10 ~ 1 + volume_to_mean + returnsOpenPrevRaw1_to_volume + close_to_open + returnsOpenPrevRaw1_to_volume:volume_to_mean\n",
      "2               returnsOpenNextMktres10 ~ 1 + returnsOpenPrevRaw1_to_volume + close_to_open + returnsOpenPrevRaw1_to_volume:volume_to_mean + close_to_open:volume_to_mean\n",
      "3               returnsOpenNextMktres10 ~ 1 + volume_to_mean + close_to_open + returnsOpenPrevRaw1_to_volume:volume_to_mean + close_to_open:returnsOpenPrevRaw1_to_volume\n",
      "4 returnsOpenNextMktres10 ~ 1 + close_to_open + returnsOpenPrevRaw1_to_volume:volume_to_mean + close_to_open:volume_to_mean + close_to_open:returnsOpenPrevRaw1_to_volume\n",
      "5                                              returnsOpenNextMktres10 ~ 1 + returnsOpenPrevRaw1_to_volume + close_to_open + returnsOpenPrevRaw1_to_volume:volume_to_mean\n",
      "        AIC  R_SQUARED        MAE         MSE       RMSE     MAPE\n",
      "1 -3129.175 0.04082102 0.03516496 0.002531224 0.05031128 2.322896\n",
      "2 -3129.154 0.04080109 0.03516500 0.002531277 0.05031180 2.321916\n",
      "3 -3129.137 0.04078476 0.03516405 0.002531320 0.05031223 2.322129\n",
      "4 -3129.117 0.04076555 0.03516414 0.002531371 0.05031273 2.321167\n",
      "5 -3128.195 0.03795827 0.03520347 0.002538779 0.05038630 2.307239\n"
     ]
    }
   ],
   "source": [
    "display.modelling.result(b1)"
   ]
  },
  {
   "cell_type": "code",
   "execution_count": 51,
   "metadata": {},
   "outputs": [
    {
     "data": {
      "image/png": "[encoded data removed]",
      "text/plain": [
       "Plot with title \"IC profile\""
      ]
     },
     "metadata": {},
     "output_type": "display_data"
    },
    {
     "data": {
      "image/png": "[encoded data removed]",
      "text/plain": [
       "Plot with title \"Model-averaged importance of terms\""
      ]
     },
     "metadata": {},
     "output_type": "display_data"
    }
   ],
   "source": [
    "plot.modelling.result(b1)"
   ]
  },
  {
   "cell_type": "code",
   "execution_count": 54,
   "metadata": {},
   "outputs": [
    {
     "name": "stderr",
     "output_type": "stream",
     "text": [
      "Warning message in roc.default(response, m[[predictors]], ...):\n",
      "\"'response' has more than two levels. Consider setting 'levels' explicitly or using 'multiclass.roc' instead\""
     ]
    },
    {
     "data": {
      "image/png": "[encoded data removed]",
      "text/plain": [
       "Plot with title \"ROC for best model\""
      ]
     },
     "metadata": {},
     "output_type": "display_data"
    }
   ],
   "source": [
    "roc.curve(b1,market_changed1)"
   ]
  },
  {
   "cell_type": "markdown",
   "metadata": {
    "_uuid": "edfbf6480384b3a5f17916c580e8e70624df08aa"
   },
   "source": [
    "### GLM"
   ]
  },
  {
   "cell_type": "code",
   "execution_count": 52,
   "metadata": {
    "_uuid": "833d643b5ec66af4c24fe3eec11798e76d0b8679"
   },
   "outputs": [
    {
     "name": "stdout",
     "output_type": "stream",
     "text": [
      "TASK: Genetic algorithm in the candidate set.\n",
      "Initialization...\n",
      "Algorithm started...\n",
      "Improvements in best and average IC have bebingo en below the specified goals.\n",
      "Algorithm is declared to have converged.\n",
      "Completed.\n"
     ]
    }
   ],
   "source": [
    "b21 = modelling.function(as.formula(returnsOpenNextMktres10~.), market_changed1,\"glm\")"
   ]
  },
  {
   "cell_type": "code",
   "execution_count": 53,
   "metadata": {},
   "outputs": [],
   "source": [
    "b2 = calculation.function(b21,market_changed1)"
   ]
  },
  {
   "cell_type": "code",
   "execution_count": 54,
   "metadata": {},
   "outputs": [
    {
     "name": "stdout",
     "output_type": "stream",
     "text": [
      "[1] \"Brief summary\"\n",
      "glmulti.analysis\n",
      "Method: g / Fitting: glm / IC used: aicc\n",
      "Level: 2 / Marginality: FALSE\n",
      "From 5 models:\n",
      "Best IC: -3129.0904630328\n",
      "Best model:\n",
      "[1] \"returnsOpenNextMktres10 ~ 1 + volume_to_mean + returnsOpenPrevRaw1_to_volume + \"\n",
      "[2] \"    close_to_open + returnsOpenPrevRaw1_to_volume:volume_to_mean\"               \n",
      "Evidence weight: 0.219178747491461\n",
      "Worst IC: -3128.13454777892\n",
      "5 models within 2 IC units.\n",
      "4 models to reach 95% of evidence weight.\n",
      "Convergence after 70 generations.\n",
      "Time elapsed: 0.218078136444092 minutes.\n",
      "[1] \"Best model\"\n",
      "[1] \"Best model results\"\n",
      "          1                                                                                                                                            \n",
      "MODEL     \"returnsOpenNextMktres10 ~ 1 + volume_to_mean + returnsOpenPrevRaw1_to_volume + close_to_open + returnsOpenPrevRaw1_to_volume:volume_to_mean\"\n",
      "AIC       \"-3129.175\"                                                                                                                                  \n",
      "R_SQUARED \"0.04082102\"                                                                                                                                 \n",
      "MAE       \"0.03516496\"                                                                                                                                 \n",
      "MSE       \"0.002531224\"                                                                                                                                \n",
      "RMSE      \"0.05031128\"                                                                                                                                 \n",
      "MAPE      \"2.322896\"                                                                                                                                   \n",
      "[1] \"Top 5 model results\"\n",
      "                                                                                                                                                                    MODEL\n",
      "1                             returnsOpenNextMktres10 ~ 1 + volume_to_mean + returnsOpenPrevRaw1_to_volume + close_to_open + returnsOpenPrevRaw1_to_volume:volume_to_mean\n",
      "2               returnsOpenNextMktres10 ~ 1 + returnsOpenPrevRaw1_to_volume + close_to_open + returnsOpenPrevRaw1_to_volume:volume_to_mean + close_to_open:volume_to_mean\n",
      "3               returnsOpenNextMktres10 ~ 1 + volume_to_mean + close_to_open + returnsOpenPrevRaw1_to_volume:volume_to_mean + close_to_open:returnsOpenPrevRaw1_to_volume\n",
      "4 returnsOpenNextMktres10 ~ 1 + close_to_open + returnsOpenPrevRaw1_to_volume:volume_to_mean + close_to_open:volume_to_mean + close_to_open:returnsOpenPrevRaw1_to_volume\n",
      "5                                              returnsOpenNextMktres10 ~ 1 + returnsOpenPrevRaw1_to_volume + close_to_open + returnsOpenPrevRaw1_to_volume:volume_to_mean\n",
      "        AIC  R_SQUARED        MAE         MSE       RMSE     MAPE\n",
      "1 -3129.175 0.04082102 0.03516496 0.002531224 0.05031128 2.322896\n",
      "2 -3129.154 0.04080109 0.03516500 0.002531277 0.05031180 2.321916\n",
      "3 -3129.137 0.04078476 0.03516405 0.002531320 0.05031223 2.322129\n",
      "4 -3129.117 0.04076555 0.03516414 0.002531371 0.05031273 2.321167\n",
      "5 -3128.195 0.03795827 0.03520347 0.002538779 0.05038630 2.307239\n"
     ]
    }
   ],
   "source": [
    "display.modelling.result(b2)"
   ]
  },
  {
   "cell_type": "code",
   "execution_count": 55,
   "metadata": {},
   "outputs": [
    {
     "data": {
      "image/png": "[encoded data removed]",
      "text/plain": [
       "Plot with title \"IC profile\""
      ]
     },
     "metadata": {},
     "output_type": "display_data"
    },
    {
     "data": {
      "image/png": "[encoded data removed]",
      "text/plain": [
       "Plot with title \"Model-averaged importance of terms\""
      ]
     },
     "metadata": {},
     "output_type": "display_data"
    }
   ],
   "source": [
    "plot.modelling.result(b2)"
   ]
  },
  {
   "cell_type": "code",
   "execution_count": 56,
   "metadata": {},
   "outputs": [
    {
     "name": "stderr",
     "output_type": "stream",
     "text": [
      "Warning message in roc.default(response, m[[predictors]], ...):\n",
      "\"'response' has more than two levels. Consider setting 'levels' explicitly or using 'multiclass.roc' instead\""
     ]
    },
    {
     "data": {
      "image/png": "[encoded data removed]",
      "text/plain": [
       "Plot with title \"ROC for best model\""
      ]
     },
     "metadata": {},
     "output_type": "display_data"
    }
   ],
   "source": [
    "roc.curve(b2,market_changed1)"
   ]
  },
  {
   "cell_type": "markdown",
   "metadata": {
    "_uuid": "3e6f1fdc3fed18ca2c5b06af4394fc55865a37e1"
   },
   "source": [
    "### GLS"
   ]
  },
  {
   "cell_type": "code",
   "execution_count": 57,
   "metadata": {
    "_uuid": "21f332513606ae9cff453eaf889e05407de745e1"
   },
   "outputs": [
    {
     "name": "stdout",
     "output_type": "stream",
     "text": [
      "TASK: Genetic algorithm in the candidate set.\n",
      "Initialization...\n",
      "Algorithm started...\n",
      "Improvements in best and average IC have bebingo en below the specified goals.\n",
      "Algorithm is declared to have converged.\n",
      "Completed.\n"
     ]
    }
   ],
   "source": [
    "b31 = modelling.function(as.formula(returnsOpenNextMktres10~.), market_changed1,\"gls\")"
   ]
  },
  {
   "cell_type": "code",
   "execution_count": 58,
   "metadata": {},
   "outputs": [],
   "source": [
    "b3 = calculation.function(b31,market_changed1)"
   ]
  },
  {
   "cell_type": "code",
   "execution_count": 59,
   "metadata": {},
   "outputs": [
    {
     "name": "stdout",
     "output_type": "stream",
     "text": [
      "[1] \"Brief summary\"\n",
      "glmulti.analysis\n",
      "Method: g / Fitting: gls / IC used: aicc\n",
      "Level: 2 / Marginality: FALSE\n",
      "From 5 models:\n",
      "Best IC: -3195.19742475582\n",
      "Best model:\n",
      "[1] \"returnsOpenNextMktres10 ~ 1 + returnsOpenPrevRaw1_to_volume + \"                                \n",
      "[2] \"    returnsOpenPrevRaw1_to_volume:volume_to_mean + close_to_open:returnsOpenPrevRaw1_to_volume\"\n",
      "Evidence weight: 0.513634401170661\n",
      "Worst IC: -3182.86461177043\n",
      "2 models within 2 IC units.\n",
      "1 models to reach 95% of evidence weight.\n",
      "Convergence after 70 generations.\n",
      "Time elapsed: 0.183524131774902 minutes.\n",
      "[1] \"Best model\"\n",
      "[1] \"Best model results\"\n",
      "          1                                                                                                                                                         \n",
      "MODEL     \"returnsOpenNextMktres10 ~ 1 + returnsOpenPrevRaw1_to_volume + returnsOpenPrevRaw1_to_volume:volume_to_mean + close_to_open:returnsOpenPrevRaw1_to_volume\"\n",
      "AIC       \"-3124.11\"                                                                                                                                                \n",
      "R_SQUARED \"0.03402046\"                                                                                                                                              \n",
      "MAE       \"0.0352709\"                                                                                                                                               \n",
      "MSE       \"0.002549171\"                                                                                                                                             \n",
      "RMSE      \"0.05048931\"                                                                                                                                              \n",
      "MAPE      \"2.335594\"                                                                                                                                                \n",
      "[1] \"Top 5 model results\"\n",
      "                                                                                                                                                                                                    MODEL\n",
      "1                                                returnsOpenNextMktres10 ~ 1 + returnsOpenPrevRaw1_to_volume + returnsOpenPrevRaw1_to_volume:volume_to_mean + close_to_open:returnsOpenPrevRaw1_to_volume\n",
      "2                                returnsOpenNextMktres10 ~ 1 + returnsOpenPrevRaw1_to_volume + close_to_open + returnsOpenPrevRaw1_to_volume:volume_to_mean + close_to_open:returnsOpenPrevRaw1_to_volume\n",
      "3               returnsOpenNextMktres10 ~ 1 + volume_to_mean + returnsOpenPrevRaw1_to_volume + close_to_open + returnsOpenPrevRaw1_to_volume:volume_to_mean + close_to_open:returnsOpenPrevRaw1_to_volume\n",
      "4 returnsOpenNextMktres10 ~ 1 + returnsOpenPrevRaw1_to_volume + close_to_open + returnsOpenPrevRaw1_to_volume:volume_to_mean + close_to_open:volume_to_mean + close_to_open:returnsOpenPrevRaw1_to_volume\n",
      "5                 returnsOpenNextMktres10 ~ 1 + returnsOpenPrevRaw1_to_volume + returnsOpenPrevRaw1_to_volume:volume_to_mean + close_to_open:volume_to_mean + close_to_open:returnsOpenPrevRaw1_to_volume\n",
      "        AIC  R_SQUARED        MAE         MSE       RMSE     MAPE\n",
      "1 -3124.110 0.03402046 0.03527090 0.002549171 0.05048931 2.335594\n",
      "2 -3126.331 0.03808948 0.03520597 0.002538433 0.05038286 2.310367\n",
      "3 -3127.300 0.04094123 0.03517008 0.002530907 0.05030812 2.325177\n",
      "4 -3127.274 0.04091593 0.03517009 0.002530974 0.05030879 2.324112\n",
      "5 -3124.374 0.03620495 0.03524151 0.002543406 0.05043219 2.362462\n"
     ]
    }
   ],
   "source": [
    "display.modelling.result(b3)"
   ]
  },
  {
   "cell_type": "code",
   "execution_count": 60,
   "metadata": {},
   "outputs": [
    {
     "data": {
      "image/png": "[encoded data removed]",
      "text/plain": [
       "Plot with title \"IC profile\""
      ]
     },
     "metadata": {},
     "output_type": "display_data"
    },
    {
     "data": {
      "image/png": "[encoded data removed]",
      "text/plain": [
       "Plot with title \"Model-averaged importance of terms\""
      ]
     },
     "metadata": {},
     "output_type": "display_data"
    }
   ],
   "source": [
    "plot.modelling.result(b3)"
   ]
  },
  {
   "cell_type": "code",
   "execution_count": 61,
   "metadata": {},
   "outputs": [
    {
     "name": "stderr",
     "output_type": "stream",
     "text": [
      "Warning message in roc.default(response, m[[predictors]], ...):\n",
      "\"'response' has more than two levels. Consider setting 'levels' explicitly or using 'multiclass.roc' instead\""
     ]
    },
    {
     "data": {
      "image/png": "[encoded data removed]",
      "text/plain": [
       "Plot with title \"ROC for best model\""
      ]
     },
     "metadata": {},
     "output_type": "display_data"
    }
   ],
   "source": [
    "roc.curve(b3,market_changed1)"
   ]
  },
  {
   "cell_type": "markdown",
   "metadata": {
    "_uuid": "fb2a80d0af07e0592e2299fd64ad6b16f6ce0ca9"
   },
   "source": [
    "### Stock Data Regression using variables before and after transforming them"
   ]
  },
  {
   "cell_type": "code",
   "execution_count": 62,
   "metadata": {
    "_uuid": "3c06d30de87cd1756f23bb73ee011d7dbcb3fbb4"
   },
   "outputs": [],
   "source": [
    "market_changed2 = market_data_preparation(market)%>%\n",
    "  select(returnsOpenNextMktres10,volume_to_mean,returnsOpenPrevRaw1_to_volume,close_to_open,\n",
    "         volume,returnsClosePrevRaw1,returnsOpenPrevRaw1,returnsClosePrevRaw10,open,close)"
   ]
  },
  {
   "cell_type": "code",
   "execution_count": 63,
   "metadata": {
    "_uuid": "20dd77ac40e84e5e364a705f646b0d4c46f46b46"
   },
   "outputs": [
    {
     "data": {
      "text/html": [
       "<table>\n",
       "<thead><tr><th scope=col>returnsOpenNextMktres10</th><th scope=col>volume_to_mean</th><th scope=col>returnsOpenPrevRaw1_to_volume</th><th scope=col>close_to_open</th><th scope=col>volume</th><th scope=col>returnsClosePrevRaw1</th><th scope=col>returnsOpenPrevRaw1</th><th scope=col>returnsClosePrevRaw10</th><th scope=col>open</th><th scope=col>close</th></tr></thead>\n",
       "<tbody>\n",
       "\t<tr><td> 0.034672040 </td><td>1.0498578    </td><td> 2.037861e-09</td><td>1.0006217    </td><td> 2606900     </td><td> 0.0059375000</td><td> 0.005312500 </td><td>-0.001860465 </td><td>32.17        </td><td>32.19        </td></tr>\n",
       "\t<tr><td> 0.027803280 </td><td>0.8262259    </td><td>-3.494082e-09</td><td>1.0036101    </td><td> 2051600     </td><td> 0.0045167118</td><td>-0.007168459 </td><td>-0.078707539 </td><td>11.08        </td><td>11.12        </td></tr>\n",
       "\t<tr><td> 0.024432913 </td><td>0.4690914    </td><td> 2.201919e-08</td><td>0.9873651    </td><td> 1164800     </td><td>-0.0115942029</td><td> 0.025647948 </td><td> 0.014332071 </td><td>37.99        </td><td>37.51        </td></tr>\n",
       "\t<tr><td>-0.007424612 </td><td>9.5635880    </td><td> 6.873988e-10</td><td>0.9827206    </td><td>23747329     </td><td>-0.0115478829</td><td> 0.016323885 </td><td>-0.048613450 </td><td>86.23        </td><td>84.74        </td></tr>\n",
       "\t<tr><td>-0.017994120 </td><td>0.4867306    </td><td> 2.072041e-08</td><td>1.0005552    </td><td> 1208600     </td><td> 0.0117911286</td><td> 0.025042686 </td><td> 0.012928612 </td><td>18.01        </td><td>18.02        </td></tr>\n",
       "\t<tr><td> 0.058680420 </td><td>0.6674323    </td><td> 5.109547e-09</td><td>0.9994275    </td><td> 1657300     </td><td>-0.0001909126</td><td> 0.008468052 </td><td> 0.088999792 </td><td>52.40        </td><td>52.37        </td></tr>\n",
       "</tbody>\n",
       "</table>\n"
      ],
      "text/latex": [
       "\\begin{tabular}{r|llllllllll}\n",
       " returnsOpenNextMktres10 & volume\\_to\\_mean & returnsOpenPrevRaw1\\_to\\_volume & close\\_to\\_open & volume & returnsClosePrevRaw1 & returnsOpenPrevRaw1 & returnsClosePrevRaw10 & open & close\\\\\n",
       "\\hline\n",
       "\t  0.034672040  & 1.0498578     &  2.037861e-09 & 1.0006217     &  2606900      &  0.0059375000 &  0.005312500  & -0.001860465  & 32.17         & 32.19        \\\\\n",
       "\t  0.027803280  & 0.8262259     & -3.494082e-09 & 1.0036101     &  2051600      &  0.0045167118 & -0.007168459  & -0.078707539  & 11.08         & 11.12        \\\\\n",
       "\t  0.024432913  & 0.4690914     &  2.201919e-08 & 0.9873651     &  1164800      & -0.0115942029 &  0.025647948  &  0.014332071  & 37.99         & 37.51        \\\\\n",
       "\t -0.007424612  & 9.5635880     &  6.873988e-10 & 0.9827206     & 23747329      & -0.0115478829 &  0.016323885  & -0.048613450  & 86.23         & 84.74        \\\\\n",
       "\t -0.017994120  & 0.4867306     &  2.072041e-08 & 1.0005552     &  1208600      &  0.0117911286 &  0.025042686  &  0.012928612  & 18.01         & 18.02        \\\\\n",
       "\t  0.058680420  & 0.6674323     &  5.109547e-09 & 0.9994275     &  1657300      & -0.0001909126 &  0.008468052  &  0.088999792  & 52.40         & 52.37        \\\\\n",
       "\\end{tabular}\n"
      ],
      "text/markdown": [
       "\n",
       "returnsOpenNextMktres10 | volume_to_mean | returnsOpenPrevRaw1_to_volume | close_to_open | volume | returnsClosePrevRaw1 | returnsOpenPrevRaw1 | returnsClosePrevRaw10 | open | close | \n",
       "|---|---|---|---|---|---|\n",
       "|  0.034672040  | 1.0498578     |  2.037861e-09 | 1.0006217     |  2606900      |  0.0059375000 |  0.005312500  | -0.001860465  | 32.17         | 32.19         | \n",
       "|  0.027803280  | 0.8262259     | -3.494082e-09 | 1.0036101     |  2051600      |  0.0045167118 | -0.007168459  | -0.078707539  | 11.08         | 11.12         | \n",
       "|  0.024432913  | 0.4690914     |  2.201919e-08 | 0.9873651     |  1164800      | -0.0115942029 |  0.025647948  |  0.014332071  | 37.99         | 37.51         | \n",
       "| -0.007424612  | 9.5635880     |  6.873988e-10 | 0.9827206     | 23747329      | -0.0115478829 |  0.016323885  | -0.048613450  | 86.23         | 84.74         | \n",
       "| -0.017994120  | 0.4867306     |  2.072041e-08 | 1.0005552     |  1208600      |  0.0117911286 |  0.025042686  |  0.012928612  | 18.01         | 18.02         | \n",
       "|  0.058680420  | 0.6674323     |  5.109547e-09 | 0.9994275     |  1657300      | -0.0001909126 |  0.008468052  |  0.088999792  | 52.40         | 52.37         | \n",
       "\n",
       "\n"
      ],
      "text/plain": [
       "  returnsOpenNextMktres10 volume_to_mean returnsOpenPrevRaw1_to_volume\n",
       "1  0.034672040            1.0498578       2.037861e-09                \n",
       "2  0.027803280            0.8262259      -3.494082e-09                \n",
       "3  0.024432913            0.4690914       2.201919e-08                \n",
       "4 -0.007424612            9.5635880       6.873988e-10                \n",
       "5 -0.017994120            0.4867306       2.072041e-08                \n",
       "6  0.058680420            0.6674323       5.109547e-09                \n",
       "  close_to_open volume   returnsClosePrevRaw1 returnsOpenPrevRaw1\n",
       "1 1.0006217      2606900  0.0059375000         0.005312500       \n",
       "2 1.0036101      2051600  0.0045167118        -0.007168459       \n",
       "3 0.9873651      1164800 -0.0115942029         0.025647948       \n",
       "4 0.9827206     23747329 -0.0115478829         0.016323885       \n",
       "5 1.0005552      1208600  0.0117911286         0.025042686       \n",
       "6 0.9994275      1657300 -0.0001909126         0.008468052       \n",
       "  returnsClosePrevRaw10 open  close\n",
       "1 -0.001860465          32.17 32.19\n",
       "2 -0.078707539          11.08 11.12\n",
       "3  0.014332071          37.99 37.51\n",
       "4 -0.048613450          86.23 84.74\n",
       "5  0.012928612          18.01 18.02\n",
       "6  0.088999792          52.40 52.37"
      ]
     },
     "metadata": {},
     "output_type": "display_data"
    }
   ],
   "source": [
    "head(market_changed2)"
   ]
  },
  {
   "cell_type": "markdown",
   "metadata": {},
   "source": [
    "### LM"
   ]
  },
  {
   "cell_type": "code",
   "execution_count": 64,
   "metadata": {
    "_uuid": "aeb8574e4b78e533dd717e65770b5fed3f07d504"
   },
   "outputs": [
    {
     "name": "stdout",
     "output_type": "stream",
     "text": [
      "TASK: Genetic algorithm in the candidate set.\n",
      "Initialization...\n",
      "Algorithm started...\n",
      "Improvements in best and average IC have bebingo en below the specified goals.\n",
      "Algorithm is declared to have converged.\n",
      "Completed.\n"
     ]
    }
   ],
   "source": [
    "c11 = modelling.function(as.formula(returnsOpenNextMktres10~.), market_changed2,\"lm\")"
   ]
  },
  {
   "cell_type": "code",
   "execution_count": 65,
   "metadata": {},
   "outputs": [
    {
     "name": "stderr",
     "output_type": "stream",
     "text": [
      "Warning message in predict.lm(object, newdata, se.fit, scale = 1, type = ifelse(type == :\n",
      "\"prediction from a rank-deficient fit may be misleading\"Warning message in predict.lm(object, newdata, se.fit, scale = 1, type = ifelse(type == :\n",
      "\"prediction from a rank-deficient fit may be misleading\"Warning message in predict.lm(object, newdata, se.fit, scale = 1, type = ifelse(type == :\n",
      "\"prediction from a rank-deficient fit may be misleading\"Warning message in predict.lm(object, newdata, se.fit, scale = 1, type = ifelse(type == :\n",
      "\"prediction from a rank-deficient fit may be misleading\"Warning message in predict.lm(object, newdata, se.fit, scale = 1, type = ifelse(type == :\n",
      "\"prediction from a rank-deficient fit may be misleading\""
     ]
    }
   ],
   "source": [
    "c1 = calculation.function(c11,market_changed2)"
   ]
  },
  {
   "cell_type": "code",
   "execution_count": 66,
   "metadata": {},
   "outputs": [
    {
     "name": "stdout",
     "output_type": "stream",
     "text": [
      "[1] \"Brief summary\"\n",
      "glmulti.analysis\n",
      "Method: g / Fitting: lm / IC used: aicc\n",
      "Level: 2 / Marginality: FALSE\n",
      "From 5 models:\n",
      "Best IC: -3148.86296946769\n",
      "Best model:\n",
      "[1] \"returnsOpenNextMktres10 ~ 1 + close_to_open + returnsClosePrevRaw1 + \"                         \n",
      "[2] \"    returnsOpenPrevRaw1 + open + returnsOpenPrevRaw1_to_volume:volume_to_mean + \"              \n",
      "[3] \"    close_to_open:returnsOpenPrevRaw1_to_volume + volume:volume_to_mean + \"                    \n",
      "[4] \"    returnsOpenPrevRaw1:returnsOpenPrevRaw1_to_volume + returnsClosePrevRaw10:close_to_open + \"\n",
      "[5] \"    open:returnsClosePrevRaw1 + close:close_to_open + close:returnsClosePrevRaw1\"              \n",
      "[1] \"returnsOpenNextMktres10 ~ 1 + close_to_open + returnsClosePrevRaw1 + \"                          \n",
      "[2] \"    returnsOpenPrevRaw1 + open + returnsOpenPrevRaw1_to_volume:volume_to_mean + \"               \n",
      "[3] \"    close_to_open:returnsOpenPrevRaw1_to_volume + volume:volume_to_mean + \"                     \n",
      "[4] \"    volume:returnsOpenPrevRaw1_to_volume + returnsOpenPrevRaw1:returnsOpenPrevRaw1_to_volume + \"\n",
      "[5] \"    returnsClosePrevRaw10:close_to_open + open:returnsClosePrevRaw1 + \"                         \n",
      "[6] \"    close:close_to_open + close:returnsClosePrevRaw1\"                                           \n",
      "[1] \"returnsOpenNextMktres10 ~ 1 + close_to_open + returnsClosePrevRaw1 + \"                         \n",
      "[2] \"    returnsOpenPrevRaw1 + open + close_to_open:returnsOpenPrevRaw1_to_volume + \"               \n",
      "[3] \"    volume:volume_to_mean + volume:returnsOpenPrevRaw1_to_volume + \"                           \n",
      "[4] \"    returnsOpenPrevRaw1:returnsOpenPrevRaw1_to_volume + returnsClosePrevRaw10:close_to_open + \"\n",
      "[5] \"    open:returnsClosePrevRaw1 + close:close_to_open + close:returnsClosePrevRaw1\"              \n",
      "Evidence weight: 0.201993830824546\n",
      "Worst IC: -3148.76174293128\n",
      "5 models within 2 IC units.\n",
      "4 models to reach 95% of evidence weight.\n",
      "Convergence after 140 generations.\n",
      "Time elapsed: 14.8308808803558 minutes.\n",
      "[1] \"Best model\"\n",
      "[1] \"Best model results\"\n",
      "          1                                                                                                                                                                                                                                                                                                                                                                                              \n",
      "MODEL     \"returnsOpenNextMktres10 ~ 1 + close_to_open + returnsClosePrevRaw1 + returnsOpenPrevRaw1 + open + returnsOpenPrevRaw1_to_volume:volume_to_mean + close_to_open:returnsOpenPrevRaw1_to_volume + volume:volume_to_mean + returnsOpenPrevRaw1:returnsOpenPrevRaw1_to_volume + returnsClosePrevRaw10:close_to_open + open:returnsClosePrevRaw1 + close:close_to_open + close:returnsClosePrevRaw1\"\n",
      "AIC       \"-3149.232\"                                                                                                                                                                                                                                                                                                                                                                                    \n",
      "R_SQUARED \"0.07293785\"                                                                                                                                                                                                                                                                                                                                                                                   \n",
      "MAE       \"0.03463241\"                                                                                                                                                                                                                                                                                                                                                                                   \n",
      "MSE       \"0.00244647\"                                                                                                                                                                                                                                                                                                                                                                                   \n",
      "RMSE      \"0.0494618\"                                                                                                                                                                                                                                                                                                                                                                                    \n",
      "MAPE      \"2.489381\"                                                                                                                                                                                                                                                                                                                                                                                     \n",
      "[1] \"Top 5 model results\"\n",
      "                                                                                                                                                                                                                                                                                                                                                                                                                                 MODEL\n",
      "1                                        returnsOpenNextMktres10 ~ 1 + close_to_open + returnsClosePrevRaw1 + returnsOpenPrevRaw1 + open + returnsOpenPrevRaw1_to_volume:volume_to_mean + close_to_open:returnsOpenPrevRaw1_to_volume + volume:volume_to_mean + returnsOpenPrevRaw1:returnsOpenPrevRaw1_to_volume + returnsClosePrevRaw10:close_to_open + open:returnsClosePrevRaw1 + close:close_to_open + close:returnsClosePrevRaw1\n",
      "2 returnsOpenNextMktres10 ~ 1 + close_to_open + returnsClosePrevRaw1 + returnsOpenPrevRaw1 + open + returnsOpenPrevRaw1_to_volume:volume_to_mean + close_to_open:returnsOpenPrevRaw1_to_volume + volume:volume_to_mean + volume:returnsOpenPrevRaw1_to_volume + returnsOpenPrevRaw1:returnsOpenPrevRaw1_to_volume + returnsClosePrevRaw10:close_to_open + open:returnsClosePrevRaw1 + close:close_to_open + close:returnsClosePrevRaw1\n",
      "3                                                returnsOpenNextMktres10 ~ 1 + close_to_open + returnsClosePrevRaw1 + returnsOpenPrevRaw1 + open + close_to_open:returnsOpenPrevRaw1_to_volume + volume:volume_to_mean + volume:returnsOpenPrevRaw1_to_volume + returnsOpenPrevRaw1:returnsOpenPrevRaw1_to_volume + returnsClosePrevRaw10:close_to_open + open:returnsClosePrevRaw1 + close:close_to_open + close:returnsClosePrevRaw1\n",
      "4                       returnsOpenNextMktres10 ~ 1 + close_to_open + returnsClosePrevRaw1 + open + returnsOpenPrevRaw1_to_volume:volume_to_mean + close_to_open:returnsOpenPrevRaw1_to_volume + volume:volume_to_mean + volume:returnsOpenPrevRaw1_to_volume + returnsOpenPrevRaw1:returnsOpenPrevRaw1_to_volume + returnsClosePrevRaw10:close_to_open + open:returnsClosePrevRaw1 + close:close_to_open + close:returnsClosePrevRaw1\n",
      "5                         returnsOpenNextMktres10 ~ 1 + close_to_open + returnsClosePrevRaw1 + returnsOpenPrevRaw1 + open + returnsOpenPrevRaw1_to_volume:volume_to_mean + close_to_open:returnsOpenPrevRaw1_to_volume + volume:returnsOpenPrevRaw1_to_volume + returnsOpenPrevRaw1:returnsOpenPrevRaw1_to_volume + returnsClosePrevRaw10:close_to_open + open:returnsClosePrevRaw1 + close:close_to_open + close:returnsClosePrevRaw1\n",
      "        AIC  R_SQUARED        MAE         MSE       RMSE     MAPE\n",
      "1 -3149.232 0.07293785 0.03463241 0.002446470 0.04946180 2.489381\n",
      "2 -3149.232 0.07293785 0.03463241 0.002446470 0.04946180 2.489381\n",
      "3 -3149.232 0.07293785 0.03463241 0.002446470 0.04946180 2.489381\n",
      "4 -3149.232 0.07293785 0.03463241 0.002446470 0.04946180 2.489381\n",
      "5 -3149.078 0.07093854 0.03466104 0.002451746 0.04951511 2.447819\n"
     ]
    }
   ],
   "source": [
    "display.modelling.result(c1)"
   ]
  },
  {
   "cell_type": "code",
   "execution_count": 67,
   "metadata": {},
   "outputs": [
    {
     "data": {
      "image/png": "[encoded data removed]",
      "text/plain": [
       "Plot with title \"IC profile\""
      ]
     },
     "metadata": {},
     "output_type": "display_data"
    },
    {
     "data": {
      "image/png": "[encoded data removed]",
      "text/plain": [
       "Plot with title \"Model-averaged importance of terms\""
      ]
     },
     "metadata": {},
     "output_type": "display_data"
    }
   ],
   "source": [
    "plot.modelling.result(c1)"
   ]
  },
  {
   "cell_type": "code",
   "execution_count": 68,
   "metadata": {},
   "outputs": [
    {
     "name": "stderr",
     "output_type": "stream",
     "text": [
      "Warning message in predict.lm(object, newdata, se.fit, scale = 1, type = ifelse(type == :\n",
      "\"prediction from a rank-deficient fit may be misleading\"Warning message in roc.default(response, m[[predictors]], ...):\n",
      "\"'response' has more than two levels. Consider setting 'levels' explicitly or using 'multiclass.roc' instead\""
     ]
    },
    {
     "data": {
      "image/png": "[encoded data removed]",
      "text/plain": [
       "Plot with title \"ROC for best model\""
      ]
     },
     "metadata": {},
     "output_type": "display_data"
    }
   ],
   "source": [
    "roc.curve(c1,market_changed2)"
   ]
  },
  {
   "cell_type": "markdown",
   "metadata": {
    "_uuid": "632374ebd6502ec26f8d4e6509018bd06654c786"
   },
   "source": [
    "### GLM"
   ]
  },
  {
   "cell_type": "code",
   "execution_count": 69,
   "metadata": {
    "_uuid": "a3101f0521c450c3cfb7d83b6a880d20a7ca2220"
   },
   "outputs": [
    {
     "name": "stdout",
     "output_type": "stream",
     "text": [
      "TASK: Genetic algorithm in the candidate set.\n",
      "Initialization...\n",
      "Algorithm started...\n",
      "Improvements in best and average IC have bebingo en below the specified goals.\n",
      "Algorithm is declared to have converged.\n",
      "Completed.\n"
     ]
    }
   ],
   "source": [
    "c21 = modelling.function(as.formula(returnsOpenNextMktres10~.), market_changed2,\"glm\")"
   ]
  },
  {
   "cell_type": "code",
   "execution_count": 70,
   "metadata": {},
   "outputs": [
    {
     "name": "stderr",
     "output_type": "stream",
     "text": [
      "Warning message in predict.lm(object, newdata, se.fit, scale = 1, type = ifelse(type == :\n",
      "\"prediction from a rank-deficient fit may be misleading\"Warning message in predict.lm(object, newdata, se.fit, scale = 1, type = ifelse(type == :\n",
      "\"prediction from a rank-deficient fit may be misleading\"Warning message in predict.lm(object, newdata, se.fit, scale = 1, type = ifelse(type == :\n",
      "\"prediction from a rank-deficient fit may be misleading\"Warning message in predict.lm(object, newdata, se.fit, scale = 1, type = ifelse(type == :\n",
      "\"prediction from a rank-deficient fit may be misleading\"Warning message in predict.lm(object, newdata, se.fit, scale = 1, type = ifelse(type == :\n",
      "\"prediction from a rank-deficient fit may be misleading\""
     ]
    }
   ],
   "source": [
    "c2 = calculation.function(c21,market_changed2)"
   ]
  },
  {
   "cell_type": "code",
   "execution_count": 71,
   "metadata": {},
   "outputs": [
    {
     "name": "stdout",
     "output_type": "stream",
     "text": [
      "[1] \"Brief summary\"\n",
      "glmulti.analysis\n",
      "Method: g / Fitting: glm / IC used: aicc\n",
      "Level: 2 / Marginality: FALSE\n",
      "From 5 models:\n",
      "Best IC: -3149.97373366043\n",
      "Best model:\n",
      "[1] \"returnsOpenNextMktres10 ~ 1 + returnsOpenPrevRaw1_to_volume + \"                                               \n",
      "[2] \"    close_to_open + close + close_to_open:volume_to_mean + volume:close_to_open + \"                           \n",
      "[3] \"    returnsClosePrevRaw1:returnsOpenPrevRaw1_to_volume + returnsOpenPrevRaw1:returnsOpenPrevRaw1_to_volume + \"\n",
      "[4] \"    returnsClosePrevRaw10:returnsOpenPrevRaw1 + open:returnsOpenPrevRaw1_to_volume + \"                        \n",
      "[5] \"    open:close_to_open + open:returnsClosePrevRaw1 + open:returnsOpenPrevRaw1 + \"                             \n",
      "[6] \"    open:returnsClosePrevRaw10 + close:returnsOpenPrevRaw1_to_volume + \"                                      \n",
      "[7] \"    close:returnsClosePrevRaw1 + close:returnsClosePrevRaw10\"                                                 \n",
      "[1] \"returnsOpenNextMktres10 ~ 1 + returnsOpenPrevRaw1_to_volume + \"                                               \n",
      "[2] \"    close_to_open + close + close_to_open:volume_to_mean + volume:close_to_open + \"                           \n",
      "[3] \"    returnsClosePrevRaw1:returnsOpenPrevRaw1_to_volume + returnsOpenPrevRaw1:returnsOpenPrevRaw1_to_volume + \"\n",
      "[4] \"    returnsClosePrevRaw10:returnsOpenPrevRaw1 + open:returnsOpenPrevRaw1_to_volume + \"                        \n",
      "[5] \"    open:returnsClosePrevRaw1 + open:returnsOpenPrevRaw1 + open:returnsClosePrevRaw10 + \"                     \n",
      "[6] \"    close:returnsOpenPrevRaw1_to_volume + close:returnsClosePrevRaw1 + \"                                      \n",
      "[7] \"    close:returnsClosePrevRaw10\"                                                                              \n",
      "[1] \"returnsOpenNextMktres10 ~ 1 + returnsOpenPrevRaw1_to_volume + \"                                          \n",
      "[2] \"    close_to_open + close + volume:close_to_open + returnsClosePrevRaw1:returnsOpenPrevRaw1_to_volume + \"\n",
      "[3] \"    returnsOpenPrevRaw1:returnsOpenPrevRaw1_to_volume + returnsClosePrevRaw10:returnsOpenPrevRaw1 + \"    \n",
      "[4] \"    open:returnsOpenPrevRaw1_to_volume + open:close_to_open + \"                                          \n",
      "[5] \"    open:returnsClosePrevRaw1 + open:returnsOpenPrevRaw1 + open:returnsClosePrevRaw10 + \"                \n",
      "[6] \"    close:returnsOpenPrevRaw1_to_volume + close:returnsClosePrevRaw1 + \"                                 \n",
      "[7] \"    close:returnsClosePrevRaw10\"                                                                         \n",
      "Evidence weight: 0.208875089111922\n",
      "Worst IC: -3149.71226136529\n",
      "5 models within 2 IC units.\n",
      "4 models to reach 95% of evidence weight.\n",
      "Convergence after 130 generations.\n",
      "Time elapsed: 22.6428298950195 minutes.\n",
      "[1] \"Best model\"\n",
      "[1] \"Best model results\"\n",
      "          1                                                                                                                                                                                                                                                                                                                                                                                                                                                                                                                                              \n",
      "MODEL     \"returnsOpenNextMktres10 ~ 1 + returnsOpenPrevRaw1_to_volume + close_to_open + close + close_to_open:volume_to_mean + volume:close_to_open + returnsClosePrevRaw1:returnsOpenPrevRaw1_to_volume + returnsOpenPrevRaw1:returnsOpenPrevRaw1_to_volume + returnsClosePrevRaw10:returnsOpenPrevRaw1 + open:returnsOpenPrevRaw1_to_volume + open:close_to_open + open:returnsClosePrevRaw1 + open:returnsOpenPrevRaw1 + open:returnsClosePrevRaw10 + close:returnsOpenPrevRaw1_to_volume + close:returnsClosePrevRaw1 + close:returnsClosePrevRaw10\"\n",
      "AIC       \"-3150.527\"                                                                                                                                                                                                                                                                                                                                                                                                                                                                                                                                    \n",
      "R_SQUARED \"0.07967617\"                                                                                                                                                                                                                                                                                                                                                                                                                                                                                                                                   \n",
      "MAE       \"0.03457457\"                                                                                                                                                                                                                                                                                                                                                                                                                                                                                                                                   \n",
      "MSE       \"0.002428688\"                                                                                                                                                                                                                                                                                                                                                                                                                                                                                                                                  \n",
      "RMSE      \"0.04928172\"                                                                                                                                                                                                                                                                                                                                                                                                                                                                                                                                   \n",
      "MAPE      \"2.319298\"                                                                                                                                                                                                                                                                                                                                                                                                                                                                                                                                     \n",
      "[1] \"Top 5 model results\"\n",
      "                                                                                                                                                                                                                                                                                                                                                                                                                                                                                                                                          MODEL\n",
      "1 returnsOpenNextMktres10 ~ 1 + returnsOpenPrevRaw1_to_volume + close_to_open + close + close_to_open:volume_to_mean + volume:close_to_open + returnsClosePrevRaw1:returnsOpenPrevRaw1_to_volume + returnsOpenPrevRaw1:returnsOpenPrevRaw1_to_volume + returnsClosePrevRaw10:returnsOpenPrevRaw1 + open:returnsOpenPrevRaw1_to_volume + open:close_to_open + open:returnsClosePrevRaw1 + open:returnsOpenPrevRaw1 + open:returnsClosePrevRaw10 + close:returnsOpenPrevRaw1_to_volume + close:returnsClosePrevRaw1 + close:returnsClosePrevRaw10\n",
      "2                      returnsOpenNextMktres10 ~ 1 + returnsOpenPrevRaw1_to_volume + close_to_open + close + close_to_open:volume_to_mean + volume:close_to_open + returnsClosePrevRaw1:returnsOpenPrevRaw1_to_volume + returnsOpenPrevRaw1:returnsOpenPrevRaw1_to_volume + returnsClosePrevRaw10:returnsOpenPrevRaw1 + open:returnsOpenPrevRaw1_to_volume + open:returnsClosePrevRaw1 + open:returnsOpenPrevRaw1 + open:returnsClosePrevRaw10 + close:returnsOpenPrevRaw1_to_volume + close:returnsClosePrevRaw1 + close:returnsClosePrevRaw10\n",
      "3                                returnsOpenNextMktres10 ~ 1 + returnsOpenPrevRaw1_to_volume + close_to_open + close + volume:close_to_open + returnsClosePrevRaw1:returnsOpenPrevRaw1_to_volume + returnsOpenPrevRaw1:returnsOpenPrevRaw1_to_volume + returnsClosePrevRaw10:returnsOpenPrevRaw1 + open:returnsOpenPrevRaw1_to_volume + open:close_to_open + open:returnsClosePrevRaw1 + open:returnsOpenPrevRaw1 + open:returnsClosePrevRaw10 + close:returnsOpenPrevRaw1_to_volume + close:returnsClosePrevRaw1 + close:returnsClosePrevRaw10\n",
      "4        returnsOpenNextMktres10 ~ 1 + returnsOpenPrevRaw1_to_volume + close_to_open + close + close_to_open:volume_to_mean + volume:close_to_open + returnsClosePrevRaw1:returnsOpenPrevRaw1_to_volume + returnsClosePrevRaw1:close_to_open + returnsOpenPrevRaw1:returnsOpenPrevRaw1_to_volume + open:returnsOpenPrevRaw1_to_volume + open:close_to_open + open:returnsClosePrevRaw1 + open:returnsOpenPrevRaw1 + open:returnsClosePrevRaw10 + close:returnsOpenPrevRaw1_to_volume + close:returnsClosePrevRaw1 + close:returnsClosePrevRaw10\n",
      "5                                                     returnsOpenNextMktres10 ~ 1 + returnsOpenPrevRaw1_to_volume + close_to_open + close + close_to_open:volume_to_mean + volume:close_to_open + returnsClosePrevRaw1:returnsOpenPrevRaw1_to_volume + returnsClosePrevRaw10:returnsOpenPrevRaw1 + open:returnsOpenPrevRaw1_to_volume + open:close_to_open + open:returnsClosePrevRaw1 + open:returnsOpenPrevRaw1 + open:returnsClosePrevRaw10 + close:returnsOpenPrevRaw1_to_volume + close:returnsClosePrevRaw1 + close:returnsClosePrevRaw10\n",
      "        AIC  R_SQUARED        MAE         MSE       RMSE     MAPE\n",
      "1 -3150.527 0.07967617 0.03457457 0.002428688 0.04928172 2.319298\n",
      "2 -3150.527 0.07967617 0.03457457 0.002428688 0.04928172 2.319298\n",
      "3 -3150.527 0.07967617 0.03457457 0.002428688 0.04928172 2.319298\n",
      "4 -3150.339 0.07950276 0.03456575 0.002429145 0.04928636 2.325519\n",
      "5 -3150.200 0.07753201 0.03468702 0.002434346 0.04933909 2.378039\n"
     ]
    }
   ],
   "source": [
    "display.modelling.result(c2)"
   ]
  },
  {
   "cell_type": "code",
   "execution_count": 72,
   "metadata": {},
   "outputs": [
    {
     "data": {
      "image/png": "[encoded data removed]",
      "text/plain": [
       "Plot with title \"IC profile\""
      ]
     },
     "metadata": {},
     "output_type": "display_data"
    },
    {
     "data": {
      "image/png": "[encoded data removed]",
      "text/plain": [
       "Plot with title \"Model-averaged importance of terms\""
      ]
     },
     "metadata": {},
     "output_type": "display_data"
    }
   ],
   "source": [
    "plot.modelling.result(c2)"
   ]
  },
  {
   "cell_type": "code",
   "execution_count": 73,
   "metadata": {},
   "outputs": [
    {
     "name": "stderr",
     "output_type": "stream",
     "text": [
      "Warning message in predict.lm(object, newdata, se.fit, scale = 1, type = ifelse(type == :\n",
      "\"prediction from a rank-deficient fit may be misleading\"Warning message in roc.default(response, m[[predictors]], ...):\n",
      "\"'response' has more than two levels. Consider setting 'levels' explicitly or using 'multiclass.roc' instead\""
     ]
    },
    {
     "data": {
      "image/png": "[encoded data removed]",
      "text/plain": [
       "Plot with title \"ROC for best model\""
      ]
     },
     "metadata": {},
     "output_type": "display_data"
    }
   ],
   "source": [
    "roc.curve(c2,market_changed2)"
   ]
  },
  {
   "cell_type": "markdown",
   "metadata": {
    "_uuid": "9bb5b2224e462166ebdd674fce7c4024034b3ecc"
   },
   "source": [
    "## Stock and News Data Regression "
   ]
  },
  {
   "cell_type": "markdown",
   "metadata": {},
   "source": [
    "### Data Merging"
   ]
  },
  {
   "cell_type": "code",
   "execution_count": 74,
   "metadata": {
    "_uuid": "cf38a555e06f4bf580ee9111035575e68159793c"
   },
   "outputs": [],
   "source": [
    "market_new = market_data_preparation(market)"
   ]
  },
  {
   "cell_type": "code",
   "execution_count": 75,
   "metadata": {},
   "outputs": [
    {
     "name": "stderr",
     "output_type": "stream",
     "text": [
      "Adding missing grouping variables: `assetName`, `sentimentClass`\n"
     ]
    }
   ],
   "source": [
    "news_new = news_data_preparation(news)"
   ]
  },
  {
   "cell_type": "code",
   "execution_count": 76,
   "metadata": {},
   "outputs": [],
   "source": [
    "combined_df = combined_data_preparation(market_new,news_new)"
   ]
  },
  {
   "cell_type": "code",
   "execution_count": 77,
   "metadata": {
    "_uuid": "a58d89060dd2180241fb9ca5783367a3ebb9fe72"
   },
   "outputs": [
    {
     "data": {
      "text/html": [
       "<table>\n",
       "<thead><tr><th></th><th scope=col>time</th><th scope=col>assetName</th><th scope=col>X1.x</th><th scope=col>assetCode</th><th scope=col>volume</th><th scope=col>close</th><th scope=col>open</th><th scope=col>returnsClosePrevRaw1</th><th scope=col>returnsOpenPrevRaw1</th><th scope=col>returnsClosePrevRaw10</th><th scope=col>...</th><th scope=col>volumeCounts12H</th><th scope=col>volumeCounts24H</th><th scope=col>volumeCounts3D</th><th scope=col>volumeCounts5D</th><th scope=col>volumeCounts7D</th><th scope=col>sentence_word_count</th><th scope=col>assetCodesLen</th><th scope=col>headlinesLen</th><th scope=col>assetSentimentCount</th><th scope=col>headlineTagT</th></tr></thead>\n",
       "<tbody>\n",
       "\t<tr><th scope=row>1</th><td>2007-02-01                </td><td>3M Co                     </td><td>844                       </td><td>MMM.N                     </td><td>6503300                   </td><td> 73.99                    </td><td> 74.75                    </td><td>-0.004172275              </td><td> 0.007276647              </td><td>-0.061159751              </td><td>...                       </td><td> 4                        </td><td> 4                        </td><td>72                        </td><td>72                        </td><td>74                        </td><td>22.87500                  </td><td>5                         </td><td>59                        </td><td>29                        </td><td>5                         </td></tr>\n",
       "\t<tr><th scope=row>10</th><td>2007-02-01                </td><td>Abbott Laboratories       </td><td>  8                       </td><td>ABT.N                     </td><td>5692300                   </td><td> 52.87                    </td><td> 52.50                    </td><td>-0.002452830              </td><td>-0.004739336              </td><td> 0.001515439              </td><td>...                       </td><td> 1                        </td><td> 1                        </td><td> 2                        </td><td>10                        </td><td>10                        </td><td>25.81818                  </td><td>5                         </td><td>58                        </td><td>39                        </td><td>5                         </td></tr>\n",
       "\t<tr><th scope=row>22</th><td>2007-02-01                </td><td>Agrium Inc                </td><td> 44                       </td><td>AGU.N                     </td><td>2034900                   </td><td> 34.91                    </td><td> 34.91                    </td><td> 0.006632065              </td><td> 0.018972563              </td><td> 0.038678965              </td><td>...                       </td><td> 2                        </td><td> 2                        </td><td> 2                        </td><td> 2                        </td><td> 2                        </td><td>23.03125                  </td><td>6                         </td><td>58                        </td><td> 2                        </td><td>11                        </td></tr>\n",
       "\t<tr><th scope=row>29</th><td>2007-02-01                </td><td>AirTran Holdings Inc      </td><td>  1                       </td><td>AAI.N                     </td><td>2051600                   </td><td> 11.12                    </td><td> 11.08                    </td><td> 0.004516712              </td><td>-0.007168459              </td><td>-0.078707539              </td><td>...                       </td><td> 6                        </td><td> 6                        </td><td>10                        </td><td>10                        </td><td>42                        </td><td>18.64286                  </td><td>5                         </td><td>58                        </td><td>27                        </td><td>5                         </td></tr>\n",
       "\t<tr><th scope=row>30</th><td>2007-02-01                </td><td>AirTran Holdings Inc      </td><td>  1                       </td><td>AAI.N                     </td><td>2051600                   </td><td> 11.12                    </td><td> 11.08                    </td><td> 0.004516712              </td><td>-0.007168459              </td><td>-0.078707539              </td><td>...                       </td><td>14                        </td><td>14                        </td><td>17                        </td><td>18                        </td><td>30                        </td><td>20.11765                  </td><td>5                         </td><td>58                        </td><td>27                        </td><td>11                        </td></tr>\n",
       "\t<tr><th scope=row>48</th><td>2007-02-01                </td><td>Allegheny Technologies Inc</td><td>112                       </td><td>ATI.N                     </td><td>2279900                   </td><td>103.90                    </td><td>104.20                    </td><td> 0.003961735              </td><td> 0.019569472              </td><td> 0.149845064              </td><td>...                       </td><td> 1                        </td><td> 1                        </td><td> 2                        </td><td> 2                        </td><td> 7                        </td><td>14.89362                  </td><td>5                         </td><td>40                        </td><td> 4                        </td><td>19                        </td></tr>\n",
       "</tbody>\n",
       "</table>\n"
      ],
      "text/latex": [
       "\\begin{tabular}{r|lllllllllllllllllllllllllllllllllllllllllllllllllllllll}\n",
       "  & time & assetName & X1.x & assetCode & volume & close & open & returnsClosePrevRaw1 & returnsOpenPrevRaw1 & returnsClosePrevRaw10 & ... & volumeCounts12H & volumeCounts24H & volumeCounts3D & volumeCounts5D & volumeCounts7D & sentence\\_word\\_count & assetCodesLen & headlinesLen & assetSentimentCount & headlineTagT\\\\\n",
       "\\hline\n",
       "\t1 & 2007-02-01                 & 3M Co                      & 844                        & MMM.N                      & 6503300                    &  73.99                     &  74.75                     & -0.004172275               &  0.007276647               & -0.061159751               & ...                        &  4                         &  4                         & 72                         & 72                         & 74                         & 22.87500                   & 5                          & 59                         & 29                         & 5                         \\\\\n",
       "\t10 & 2007-02-01                 & Abbott Laboratories        &   8                        & ABT.N                      & 5692300                    &  52.87                     &  52.50                     & -0.002452830               & -0.004739336               &  0.001515439               & ...                        &  1                         &  1                         &  2                         & 10                         & 10                         & 25.81818                   & 5                          & 58                         & 39                         & 5                         \\\\\n",
       "\t22 & 2007-02-01                 & Agrium Inc                 &  44                        & AGU.N                      & 2034900                    &  34.91                     &  34.91                     &  0.006632065               &  0.018972563               &  0.038678965               & ...                        &  2                         &  2                         &  2                         &  2                         &  2                         & 23.03125                   & 6                          & 58                         &  2                         & 11                        \\\\\n",
       "\t29 & 2007-02-01                 & AirTran Holdings Inc       &   1                        & AAI.N                      & 2051600                    &  11.12                     &  11.08                     &  0.004516712               & -0.007168459               & -0.078707539               & ...                        &  6                         &  6                         & 10                         & 10                         & 42                         & 18.64286                   & 5                          & 58                         & 27                         & 5                         \\\\\n",
       "\t30 & 2007-02-01                 & AirTran Holdings Inc       &   1                        & AAI.N                      & 2051600                    &  11.12                     &  11.08                     &  0.004516712               & -0.007168459               & -0.078707539               & ...                        & 14                         & 14                         & 17                         & 18                         & 30                         & 20.11765                   & 5                          & 58                         & 27                         & 11                        \\\\\n",
       "\t48 & 2007-02-01                 & Allegheny Technologies Inc & 112                        & ATI.N                      & 2279900                    & 103.90                     & 104.20                     &  0.003961735               &  0.019569472               &  0.149845064               & ...                        &  1                         &  1                         &  2                         &  2                         &  7                         & 14.89362                   & 5                          & 40                         &  4                         & 19                        \\\\\n",
       "\\end{tabular}\n"
      ],
      "text/markdown": [
       "\n",
       "| <!--/--> | time | assetName | X1.x | assetCode | volume | close | open | returnsClosePrevRaw1 | returnsOpenPrevRaw1 | returnsClosePrevRaw10 | ... | volumeCounts12H | volumeCounts24H | volumeCounts3D | volumeCounts5D | volumeCounts7D | sentence_word_count | assetCodesLen | headlinesLen | assetSentimentCount | headlineTagT | \n",
       "|---|---|---|---|---|---|\n",
       "| 1 | 2007-02-01                 | 3M Co                      | 844                        | MMM.N                      | 6503300                    |  73.99                     |  74.75                     | -0.004172275               |  0.007276647               | -0.061159751               | ...                        |  4                         |  4                         | 72                         | 72                         | 74                         | 22.87500                   | 5                          | 59                         | 29                         | 5                          | \n",
       "| 10 | 2007-02-01                 | Abbott Laboratories        |   8                        | ABT.N                      | 5692300                    |  52.87                     |  52.50                     | -0.002452830               | -0.004739336               |  0.001515439               | ...                        |  1                         |  1                         |  2                         | 10                         | 10                         | 25.81818                   | 5                          | 58                         | 39                         | 5                          | \n",
       "| 22 | 2007-02-01                 | Agrium Inc                 |  44                        | AGU.N                      | 2034900                    |  34.91                     |  34.91                     |  0.006632065               |  0.018972563               |  0.038678965               | ...                        |  2                         |  2                         |  2                         |  2                         |  2                         | 23.03125                   | 6                          | 58                         |  2                         | 11                         | \n",
       "| 29 | 2007-02-01                 | AirTran Holdings Inc       |   1                        | AAI.N                      | 2051600                    |  11.12                     |  11.08                     |  0.004516712               | -0.007168459               | -0.078707539               | ...                        |  6                         |  6                         | 10                         | 10                         | 42                         | 18.64286                   | 5                          | 58                         | 27                         | 5                          | \n",
       "| 30 | 2007-02-01                 | AirTran Holdings Inc       |   1                        | AAI.N                      | 2051600                    |  11.12                     |  11.08                     |  0.004516712               | -0.007168459               | -0.078707539               | ...                        | 14                         | 14                         | 17                         | 18                         | 30                         | 20.11765                   | 5                          | 58                         | 27                         | 11                         | \n",
       "| 48 | 2007-02-01                 | Allegheny Technologies Inc | 112                        | ATI.N                      | 2279900                    | 103.90                     | 104.20                     |  0.003961735               |  0.019569472               |  0.149845064               | ...                        |  1                         |  1                         |  2                         |  2                         |  7                         | 14.89362                   | 5                          | 40                         |  4                         | 19                         | \n",
       "\n",
       "\n"
      ],
      "text/plain": [
       "   time       assetName                  X1.x assetCode volume  close  open  \n",
       "1  2007-02-01 3M Co                      844  MMM.N     6503300  73.99  74.75\n",
       "10 2007-02-01 Abbott Laboratories          8  ABT.N     5692300  52.87  52.50\n",
       "22 2007-02-01 Agrium Inc                  44  AGU.N     2034900  34.91  34.91\n",
       "29 2007-02-01 AirTran Holdings Inc         1  AAI.N     2051600  11.12  11.08\n",
       "30 2007-02-01 AirTran Holdings Inc         1  AAI.N     2051600  11.12  11.08\n",
       "48 2007-02-01 Allegheny Technologies Inc 112  ATI.N     2279900 103.90 104.20\n",
       "   returnsClosePrevRaw1 returnsOpenPrevRaw1 returnsClosePrevRaw10 ...\n",
       "1  -0.004172275          0.007276647        -0.061159751          ...\n",
       "10 -0.002452830         -0.004739336         0.001515439          ...\n",
       "22  0.006632065          0.018972563         0.038678965          ...\n",
       "29  0.004516712         -0.007168459        -0.078707539          ...\n",
       "30  0.004516712         -0.007168459        -0.078707539          ...\n",
       "48  0.003961735          0.019569472         0.149845064          ...\n",
       "   volumeCounts12H volumeCounts24H volumeCounts3D volumeCounts5D volumeCounts7D\n",
       "1   4               4              72             72             74            \n",
       "10  1               1               2             10             10            \n",
       "22  2               2               2              2              2            \n",
       "29  6               6              10             10             42            \n",
       "30 14              14              17             18             30            \n",
       "48  1               1               2              2              7            \n",
       "   sentence_word_count assetCodesLen headlinesLen assetSentimentCount\n",
       "1  22.87500            5             59           29                 \n",
       "10 25.81818            5             58           39                 \n",
       "22 23.03125            6             58            2                 \n",
       "29 18.64286            5             58           27                 \n",
       "30 20.11765            5             58           27                 \n",
       "48 14.89362            5             40            4                 \n",
       "   headlineTagT\n",
       "1  5           \n",
       "10 5           \n",
       "22 11          \n",
       "29 5           \n",
       "30 11          \n",
       "48 19          "
      ]
     },
     "metadata": {},
     "output_type": "display_data"
    }
   ],
   "source": [
    "head(combined_df)"
   ]
  },
  {
   "cell_type": "code",
   "execution_count": 78,
   "metadata": {
    "_uuid": "40a6b64805b859c2e73cbd3de796e16cce85dcb4"
   },
   "outputs": [
    {
     "name": "stdout",
     "output_type": "stream",
     "text": [
      "[1] \"Dimensions of combined table:\"\n"
     ]
    },
    {
     "data": {
      "text/html": [
       "<ol class=list-inline>\n",
       "\t<li>526</li>\n",
       "\t<li>55</li>\n",
       "</ol>\n"
      ],
      "text/latex": [
       "\\begin{enumerate*}\n",
       "\\item 526\n",
       "\\item 55\n",
       "\\end{enumerate*}\n"
      ],
      "text/markdown": [
       "1. 526\n",
       "2. 55\n",
       "\n",
       "\n"
      ],
      "text/plain": [
       "[1] 526  55"
      ]
     },
     "metadata": {},
     "output_type": "display_data"
    }
   ],
   "source": [
    "print(\"Dimensions of combined table:\")\n",
    "dim(combined_df)"
   ]
  },
  {
   "cell_type": "code",
   "execution_count": 79,
   "metadata": {
    "_uuid": "011dfe52e371c729f5e51133a08db8a317c8b420"
   },
   "outputs": [],
   "source": [
    "market_changed3 = combined_df%>%\n",
    "  select(returnsOpenNextMktres10,volume_to_mean,returnsOpenPrevRaw1_to_volume,close_to_open,assetCodesLen,sentence_word_count,\n",
    "        assetCodesLen,headlinesLen,assetSentimentCount,headlineTagT)"
   ]
  },
  {
   "cell_type": "markdown",
   "metadata": {},
   "source": [
    "### LM"
   ]
  },
  {
   "cell_type": "code",
   "execution_count": 80,
   "metadata": {},
   "outputs": [
    {
     "name": "stdout",
     "output_type": "stream",
     "text": [
      "TASK: Genetic algorithm in the candidate set.\n",
      "Initialization...\n",
      "Algorithm started...\n",
      "Improvements in best and average IC have bebingo en below the specified goals.\n",
      "Algorithm is declared to have converged.\n",
      "Completed.\n"
     ]
    }
   ],
   "source": [
    "d11 = modelling.function(as.formula(returnsOpenNextMktres10~.), market_changed3,\"lm\")"
   ]
  },
  {
   "cell_type": "code",
   "execution_count": 81,
   "metadata": {},
   "outputs": [],
   "source": [
    "d1 = calculation.function(d11,market_changed3)"
   ]
  },
  {
   "cell_type": "code",
   "execution_count": 82,
   "metadata": {},
   "outputs": [
    {
     "name": "stdout",
     "output_type": "stream",
     "text": [
      "[1] \"Brief summary\"\n",
      "glmulti.analysis\n",
      "Method: g / Fitting: lm / IC used: aicc\n",
      "Level: 2 / Marginality: FALSE\n",
      "From 5 models:\n",
      "Best IC: -2090.64392399751\n",
      "Best model:\n",
      "[1] \"returnsOpenNextMktres10 ~ 1 + returnsOpenPrevRaw1_to_volume + \"                                           \n",
      "[2] \"    close_to_open + assetCodesLen + assetSentimentCount + returnsOpenPrevRaw1_to_volume:volume_to_mean + \"\n",
      "[3] \"    close_to_open:volume_to_mean + close_to_open:returnsOpenPrevRaw1_to_volume + \"                        \n",
      "[4] \"    assetCodesLen:volume_to_mean + assetCodesLen:returnsOpenPrevRaw1_to_volume + \"                        \n",
      "[5] \"    assetCodesLen:close_to_open + sentence_word_count:returnsOpenPrevRaw1_to_volume + \"                   \n",
      "[6] \"    sentence_word_count:assetCodesLen + headlinesLen:returnsOpenPrevRaw1_to_volume + \"                    \n",
      "[7] \"    headlinesLen:sentence_word_count + assetSentimentCount:returnsOpenPrevRaw1_to_volume + \"              \n",
      "[8] \"    assetSentimentCount:assetCodesLen\"                                                                    \n",
      "Evidence weight: 0.29461891135093\n",
      "Worst IC: -2088.528543628\n",
      "4 models within 2 IC units.\n",
      "4 models to reach 95% of evidence weight.\n",
      "Convergence after 220 generations.\n",
      "Time elapsed: 1.22036211490631 minutes.\n",
      "[1] \"Best model\"\n",
      "[1] \"Best model results\"\n",
      "          1                                                                                                                                                                                                                                                                                                                                                                                                                                                                                                                                                                                                                               \n",
      "MODEL     \"returnsOpenNextMktres10 ~ 1 + returnsOpenPrevRaw1_to_volume + close_to_open + assetCodesLen + assetSentimentCount + returnsOpenPrevRaw1_to_volume:volume_to_mean + close_to_open:volume_to_mean + close_to_open:returnsOpenPrevRaw1_to_volume + assetCodesLen:volume_to_mean + assetCodesLen:returnsOpenPrevRaw1_to_volume + assetCodesLen:close_to_open + sentence_word_count:returnsOpenPrevRaw1_to_volume + sentence_word_count:assetCodesLen + headlinesLen:returnsOpenPrevRaw1_to_volume + headlinesLen:sentence_word_count + \\n    assetSentimentCount:returnsOpenPrevRaw1_to_volume + assetSentimentCount:assetCodesLen\"\n",
      "AIC       \"-2091.993\"                                                                                                                                                                                                                                                                                                                                                                                                                                                                                                                                                                                                                     \n",
      "R_SQUARED \"0.3398928\"                                                                                                                                                                                                                                                                                                                                                                                                                                                                                                                                                                                                                     \n",
      "MAE       \"0.02277771\"                                                                                                                                                                                                                                                                                                                                                                                                                                                                                                                                                                                                                    \n",
      "MSE       \"0.001024561\"                                                                                                                                                                                                                                                                                                                                                                                                                                                                                                                                                                                                                   \n",
      "RMSE      \"0.03200876\"                                                                                                                                                                                                                                                                                                                                                                                                                                                                                                                                                                                                                    \n",
      "MAPE      \"1.449402\"                                                                                                                                                                                                                                                                                                                                                                                                                                                                                                                                                                                                                      \n",
      "[1] \"Top 5 model results\"\n",
      "                                                                                                                                                                                                                                                                                                                                                                                                                                                                                                                                                                                                                                                                MODEL\n",
      "1                                      returnsOpenNextMktres10 ~ 1 + returnsOpenPrevRaw1_to_volume + close_to_open + assetCodesLen + assetSentimentCount + returnsOpenPrevRaw1_to_volume:volume_to_mean + close_to_open:volume_to_mean + close_to_open:returnsOpenPrevRaw1_to_volume + assetCodesLen:volume_to_mean + assetCodesLen:returnsOpenPrevRaw1_to_volume + assetCodesLen:close_to_open + sentence_word_count:returnsOpenPrevRaw1_to_volume + sentence_word_count:assetCodesLen + headlinesLen:returnsOpenPrevRaw1_to_volume + headlinesLen:sentence_word_count + \\n    assetSentimentCount:returnsOpenPrevRaw1_to_volume + assetSentimentCount:assetCodesLen\n",
      "2                                                                         returnsOpenNextMktres10 ~ 1 + returnsOpenPrevRaw1_to_volume + close_to_open + assetCodesLen + assetSentimentCount + returnsOpenPrevRaw1_to_volume:volume_to_mean + close_to_open:volume_to_mean + close_to_open:returnsOpenPrevRaw1_to_volume + assetCodesLen:volume_to_mean + assetCodesLen:returnsOpenPrevRaw1_to_volume + assetCodesLen:close_to_open + sentence_word_count:returnsOpenPrevRaw1_to_volume + sentence_word_count:assetCodesLen + headlinesLen:returnsOpenPrevRaw1_to_volume + assetSentimentCount:returnsOpenPrevRaw1_to_volume + \\n    assetSentimentCount:assetCodesLen\n",
      "3 returnsOpenNextMktres10 ~ 1 + returnsOpenPrevRaw1_to_volume + close_to_open + assetCodesLen + assetSentimentCount + returnsOpenPrevRaw1_to_volume:volume_to_mean + close_to_open:volume_to_mean + close_to_open:returnsOpenPrevRaw1_to_volume + assetCodesLen:volume_to_mean + assetCodesLen:returnsOpenPrevRaw1_to_volume + assetCodesLen:close_to_open + sentence_word_count:volume_to_mean + sentence_word_count:returnsOpenPrevRaw1_to_volume + sentence_word_count:assetCodesLen + headlinesLen:returnsOpenPrevRaw1_to_volume + \\n    headlinesLen:sentence_word_count + assetSentimentCount:returnsOpenPrevRaw1_to_volume + assetSentimentCount:assetCodesLen\n",
      "4                                                                                          returnsOpenNextMktres10 ~ 1 + returnsOpenPrevRaw1_to_volume + close_to_open + assetCodesLen + assetSentimentCount + returnsOpenPrevRaw1_to_volume:volume_to_mean + close_to_open:volume_to_mean + close_to_open:returnsOpenPrevRaw1_to_volume + assetCodesLen:volume_to_mean + assetCodesLen:returnsOpenPrevRaw1_to_volume + assetCodesLen:close_to_open + sentence_word_count:assetCodesLen + headlinesLen:returnsOpenPrevRaw1_to_volume + headlinesLen:sentence_word_count + assetSentimentCount:returnsOpenPrevRaw1_to_volume + \\n    assetSentimentCount:assetCodesLen\n",
      "5                     returnsOpenNextMktres10 ~ 1 + volume_to_mean + returnsOpenPrevRaw1_to_volume + close_to_open + assetCodesLen + assetSentimentCount + returnsOpenPrevRaw1_to_volume:volume_to_mean + close_to_open:volume_to_mean + close_to_open:returnsOpenPrevRaw1_to_volume + assetCodesLen:volume_to_mean + assetCodesLen:returnsOpenPrevRaw1_to_volume + assetCodesLen:close_to_open + sentence_word_count:returnsOpenPrevRaw1_to_volume + sentence_word_count:assetCodesLen + headlinesLen:returnsOpenPrevRaw1_to_volume + headlinesLen:sentence_word_count + \\n    assetSentimentCount:returnsOpenPrevRaw1_to_volume + assetSentimentCount:assetCodesLen\n",
      "        AIC R_SQUARED        MAE         MSE       RMSE     MAPE\n",
      "1 -2091.993 0.3398928 0.02277771 0.001024561 0.03200876 1.449402\n",
      "2 -2091.295 0.3364978 0.02288123 0.001029830 0.03209097 1.474212\n",
      "3 -2091.443 0.3417100 0.02274059 0.001021740 0.03196467 1.456814\n",
      "4 -2090.777 0.3358444 0.02281488 0.001030844 0.03210676 1.429903\n",
      "5 -2090.031 0.3399398 0.02280721 0.001024488 0.03200762 1.453106\n"
     ]
    }
   ],
   "source": [
    "display.modelling.result(d1)"
   ]
  },
  {
   "cell_type": "code",
   "execution_count": 83,
   "metadata": {},
   "outputs": [
    {
     "data": {
      "image/png": "[encoded data removed]",
      "text/plain": [
       "Plot with title \"IC profile\""
      ]
     },
     "metadata": {},
     "output_type": "display_data"
    },
    {
     "data": {
      "image/png": "[encoded data removed]",
      "text/plain": [
       "Plot with title \"Model-averaged importance of terms\""
      ]
     },
     "metadata": {},
     "output_type": "display_data"
    }
   ],
   "source": [
    "plot.modelling.result(d1)"
   ]
  },
  {
   "cell_type": "code",
   "execution_count": 84,
   "metadata": {},
   "outputs": [
    {
     "name": "stderr",
     "output_type": "stream",
     "text": [
      "Warning message in roc.default(response, m[[predictors]], ...):\n",
      "\"'response' has more than two levels. Consider setting 'levels' explicitly or using 'multiclass.roc' instead\""
     ]
    },
    {
     "data": {
      "image/png": "[encoded data removed]",
      "text/plain": [
       "Plot with title \"ROC for best model\""
      ]
     },
     "metadata": {},
     "output_type": "display_data"
    }
   ],
   "source": [
    "roc.curve(d1,market_changed3)"
   ]
  },
  {
   "cell_type": "markdown",
   "metadata": {},
   "source": [
    "### GLM"
   ]
  },
  {
   "cell_type": "code",
   "execution_count": 85,
   "metadata": {},
   "outputs": [
    {
     "name": "stdout",
     "output_type": "stream",
     "text": [
      "TASK: Genetic algorithm in the candidate set.\n",
      "Initialization...\n",
      "Algorithm started...\n"
     ]
    },
    {
     "name": "stderr",
     "output_type": "stream",
     "text": [
      "Warning message:\n",
      "\"glm.fit: algorithm did not converge\"Warning message:\n",
      "\"glm.fit: algorithm did not converge\"Warning message:\n",
      "\"glm.fit: algorithm did not converge\"Warning message:\n",
      "\"glm.fit: algorithm did not converge\"Warning message:\n",
      "\"glm.fit: algorithm did not converge\"Warning message:\n",
      "\"glm.fit: algorithm did not converge\"Warning message:\n",
      "\"glm.fit: algorithm did not converge\"Warning message:\n",
      "\"glm.fit: algorithm did not converge\"Warning message:\n",
      "\"glm.fit: algorithm did not converge\"Warning message:\n",
      "\"glm.fit: algorithm did not converge\"Warning message:\n",
      "\"glm.fit: algorithm did not converge\"Warning message:\n",
      "\"glm.fit: algorithm did not converge\"Warning message:\n",
      "\"glm.fit: algorithm did not converge\"Warning message:\n",
      "\"glm.fit: algorithm did not converge\"Warning message:\n",
      "\"glm.fit: algorithm did not converge\"Warning message:\n",
      "\"glm.fit: algorithm did not converge\"Warning message:\n",
      "\"glm.fit: algorithm did not converge\"Warning message:\n",
      "\"glm.fit: algorithm did not converge\"Warning message:\n",
      "\"glm.fit: algorithm did not converge\"Warning message:\n",
      "\"glm.fit: algorithm did not converge\"Warning message:\n",
      "\"glm.fit: algorithm did not converge\"Warning message:\n",
      "\"glm.fit: algorithm did not converge\"Warning message:\n",
      "\"glm.fit: algorithm did not converge\"Warning message:\n",
      "\"glm.fit: algorithm did not converge\"Warning message:\n",
      "\"glm.fit: algorithm did not converge\""
     ]
    },
    {
     "name": "stdout",
     "output_type": "stream",
     "text": [
      "Improvements in best and average IC have bebingo en below the specified goals.\n",
      "Algorithm is declared to have converged.\n",
      "Completed.\n"
     ]
    }
   ],
   "source": [
    "d21 = modelling.function(as.formula(returnsOpenNextMktres10~.), market_changed3,\"glm\")"
   ]
  },
  {
   "cell_type": "code",
   "execution_count": 86,
   "metadata": {},
   "outputs": [],
   "source": [
    "d2 = calculation.function(d21,market_changed3)"
   ]
  },
  {
   "cell_type": "code",
   "execution_count": 87,
   "metadata": {},
   "outputs": [
    {
     "name": "stdout",
     "output_type": "stream",
     "text": [
      "[1] \"Brief summary\"\n",
      "glmulti.analysis\n",
      "Method: g / Fitting: glm / IC used: aicc\n",
      "Level: 2 / Marginality: FALSE\n",
      "From 5 models:\n",
      "Best IC: -2089.8693095927\n",
      "Best model:\n",
      "[1] \"returnsOpenNextMktres10 ~ 1 + volume_to_mean + returnsOpenPrevRaw1_to_volume + \"             \n",
      "[2] \"    close_to_open + assetCodesLen + returnsOpenPrevRaw1_to_volume:volume_to_mean + \"         \n",
      "[3] \"    close_to_open:returnsOpenPrevRaw1_to_volume + assetCodesLen:volume_to_mean + \"           \n",
      "[4] \"    assetCodesLen:returnsOpenPrevRaw1_to_volume + assetCodesLen:close_to_open + \"            \n",
      "[5] \"    headlinesLen:returnsOpenPrevRaw1_to_volume + headlinesLen:assetCodesLen + \"              \n",
      "[6] \"    assetSentimentCount:returnsOpenPrevRaw1_to_volume + assetSentimentCount:close_to_open + \"\n",
      "[7] \"    assetSentimentCount:assetCodesLen\"                                                       \n",
      "Evidence weight: 0.287656713092788\n",
      "Worst IC: -2088.65553363404\n",
      "5 models within 2 IC units.\n",
      "4 models to reach 95% of evidence weight.\n",
      "Convergence after 300 generations.\n",
      "Time elapsed: 3.77783493598302 minutes.\n",
      "[1] \"Best model\"\n",
      "[1] \"Best model results\"\n",
      "          1                                                                                                                                                                                                                                                                                                                                                                                                                                                                                                                           \n",
      "MODEL     \"returnsOpenNextMktres10 ~ 1 + volume_to_mean + returnsOpenPrevRaw1_to_volume + close_to_open + assetCodesLen + returnsOpenPrevRaw1_to_volume:volume_to_mean + close_to_open:returnsOpenPrevRaw1_to_volume + assetCodesLen:volume_to_mean + assetCodesLen:returnsOpenPrevRaw1_to_volume + assetCodesLen:close_to_open + headlinesLen:returnsOpenPrevRaw1_to_volume + headlinesLen:assetCodesLen + assetSentimentCount:returnsOpenPrevRaw1_to_volume + assetSentimentCount:close_to_open + assetSentimentCount:assetCodesLen\"\n",
      "AIC       \"-2090.938\"                                                                                                                                                                                                                                                                                                                                                                                                                                                                                                                 \n",
      "R_SQUARED \"0.3335184\"                                                                                                                                                                                                                                                                                                                                                                                                                                                                                                                 \n",
      "MAE       \"0.02275796\"                                                                                                                                                                                                                                                                                                                                                                                                                                                                                                                \n",
      "MSE       \"0.001034455\"                                                                                                                                                                                                                                                                                                                                                                                                                                                                                                               \n",
      "RMSE      \"0.03216294\"                                                                                                                                                                                                                                                                                                                                                                                                                                                                                                                \n",
      "MAPE      \"1.417951\"                                                                                                                                                                                                                                                                                                                                                                                                                                                                                                                  \n",
      "[1] \"Top 5 model results\"\n",
      "                                                                                                                                                                                                                                                                                                                                                                                                                                                                                                                                                                                 MODEL\n",
      "1                                                           returnsOpenNextMktres10 ~ 1 + volume_to_mean + returnsOpenPrevRaw1_to_volume + close_to_open + assetCodesLen + returnsOpenPrevRaw1_to_volume:volume_to_mean + close_to_open:returnsOpenPrevRaw1_to_volume + assetCodesLen:volume_to_mean + assetCodesLen:returnsOpenPrevRaw1_to_volume + assetCodesLen:close_to_open + headlinesLen:returnsOpenPrevRaw1_to_volume + headlinesLen:assetCodesLen + assetSentimentCount:returnsOpenPrevRaw1_to_volume + assetSentimentCount:close_to_open + assetSentimentCount:assetCodesLen\n",
      "2 returnsOpenNextMktres10 ~ 1 + volume_to_mean + returnsOpenPrevRaw1_to_volume + close_to_open + assetCodesLen + returnsOpenPrevRaw1_to_volume:volume_to_mean + close_to_open:returnsOpenPrevRaw1_to_volume + assetCodesLen:volume_to_mean + assetCodesLen:returnsOpenPrevRaw1_to_volume + assetCodesLen:close_to_open + sentence_word_count:returnsOpenPrevRaw1_to_volume + headlinesLen:returnsOpenPrevRaw1_to_volume + headlinesLen:assetCodesLen + assetSentimentCount:returnsOpenPrevRaw1_to_volume + assetSentimentCount:close_to_open + \\n    assetSentimentCount:assetCodesLen\n",
      "3                 returnsOpenNextMktres10 ~ 1 + volume_to_mean + returnsOpenPrevRaw1_to_volume + close_to_open + assetCodesLen + returnsOpenPrevRaw1_to_volume:volume_to_mean + close_to_open:returnsOpenPrevRaw1_to_volume + assetCodesLen:volume_to_mean + assetCodesLen:returnsOpenPrevRaw1_to_volume + assetCodesLen:close_to_open + sentence_word_count:assetCodesLen + headlinesLen:returnsOpenPrevRaw1_to_volume + headlinesLen:assetCodesLen + assetSentimentCount:returnsOpenPrevRaw1_to_volume + assetSentimentCount:close_to_open + \\n    assetSentimentCount:assetCodesLen\n",
      "4                                                                                        returnsOpenNextMktres10 ~ 1 + volume_to_mean + returnsOpenPrevRaw1_to_volume + close_to_open + assetCodesLen + returnsOpenPrevRaw1_to_volume:volume_to_mean + close_to_open:returnsOpenPrevRaw1_to_volume + assetCodesLen:volume_to_mean + assetCodesLen:returnsOpenPrevRaw1_to_volume + assetCodesLen:close_to_open + headlinesLen:returnsOpenPrevRaw1_to_volume + assetSentimentCount:returnsOpenPrevRaw1_to_volume + assetSentimentCount:close_to_open + assetSentimentCount:assetCodesLen\n",
      "5                                     returnsOpenNextMktres10 ~ 1 + volume_to_mean + returnsOpenPrevRaw1_to_volume + close_to_open + assetCodesLen + sentence_word_count + returnsOpenPrevRaw1_to_volume:volume_to_mean + close_to_open:returnsOpenPrevRaw1_to_volume + assetCodesLen:volume_to_mean + assetCodesLen:returnsOpenPrevRaw1_to_volume + assetCodesLen:close_to_open + headlinesLen:returnsOpenPrevRaw1_to_volume + headlinesLen:assetCodesLen + assetSentimentCount:returnsOpenPrevRaw1_to_volume + assetSentimentCount:close_to_open + assetSentimentCount:assetCodesLen\n",
      "        AIC R_SQUARED        MAE         MSE       RMSE     MAPE\n",
      "1 -2090.938 0.3335184 0.02275796 0.001034455 0.03216294 1.417951\n",
      "2 -2090.478 0.3354662 0.02265795 0.001031431 0.03211591 1.412024\n",
      "3 -2090.158 0.3350624 0.02284673 0.001032058 0.03212566 1.447076\n",
      "4 -2089.639 0.3293250 0.02275094 0.001040963 0.03226396 1.388307\n",
      "5 -2089.860 0.3346859 0.02285845 0.001032643 0.03213476 1.441741\n"
     ]
    }
   ],
   "source": [
    "display.modelling.result(d2)"
   ]
  },
  {
   "cell_type": "code",
   "execution_count": 88,
   "metadata": {},
   "outputs": [
    {
     "data": {
      "image/png": "[encoded data removed]",
      "text/plain": [
       "Plot with title \"IC profile\""
      ]
     },
     "metadata": {},
     "output_type": "display_data"
    },
    {
     "data": {
      "image/png": "[encoded data removed]",
      "text/plain": [
       "Plot with title \"Model-averaged importance of terms\""
      ]
     },
     "metadata": {},
     "output_type": "display_data"
    }
   ],
   "source": [
    "plot.modelling.result(d2)"
   ]
  },
  {
   "cell_type": "code",
   "execution_count": 89,
   "metadata": {},
   "outputs": [
    {
     "name": "stderr",
     "output_type": "stream",
     "text": [
      "Warning message in roc.default(response, m[[predictors]], ...):\n",
      "\"'response' has more than two levels. Consider setting 'levels' explicitly or using 'multiclass.roc' instead\""
     ]
    },
    {
     "data": {
      "image/png": "[encoded data removed]",
      "text/plain": [
       "Plot with title \"ROC for best model\""
      ]
     },
     "metadata": {},
     "output_type": "display_data"
    }
   ],
   "source": [
    "roc.curve(d2,market_changed3)"
   ]
  },
  {
   "cell_type": "code",
   "execution_count": 90,
   "metadata": {},
   "outputs": [],
   "source": [
    "market_changed4 = combined_df%>%\n",
    "  select(returnsOpenNextMktres10,volume_to_mean,returnsOpenPrevRaw1_to_volume,close_to_open,sentence_word_count,\n",
    "        headlinesLen,assetSentimentCount)"
   ]
  },
  {
   "cell_type": "markdown",
   "metadata": {},
   "source": [
    "## LM"
   ]
  },
  {
   "cell_type": "code",
   "execution_count": 91,
   "metadata": {},
   "outputs": [
    {
     "name": "stdout",
     "output_type": "stream",
     "text": [
      "TASK: Genetic algorithm in the candidate set.\n",
      "Initialization...\n",
      "Algorithm started...\n",
      "Improvements in best and average IC have bebingo en below the specified goals.\n",
      "Algorithm is declared to have converged.\n",
      "Completed.\n"
     ]
    }
   ],
   "source": [
    "e11 = modelling.function(as.formula(returnsOpenNextMktres10~.), market_changed4,\"lm\")"
   ]
  },
  {
   "cell_type": "code",
   "execution_count": 92,
   "metadata": {},
   "outputs": [],
   "source": [
    "e1 = calculation.function(e11,market_changed4)"
   ]
  },
  {
   "cell_type": "code",
   "execution_count": 93,
   "metadata": {},
   "outputs": [
    {
     "name": "stdout",
     "output_type": "stream",
     "text": [
      "[1] \"Brief summary\"\n",
      "glmulti.analysis\n",
      "Method: g / Fitting: lm / IC used: aicc\n",
      "Level: 2 / Marginality: FALSE\n",
      "From 5 models:\n",
      "Best IC: -2026.49167183545\n",
      "Best model:\n",
      "[1] \"returnsOpenNextMktres10 ~ 1 + returnsOpenPrevRaw1_to_volume + \"                               \n",
      "[2] \"    close_to_open + sentence_word_count + returnsOpenPrevRaw1_to_volume:volume_to_mean + \"    \n",
      "[3] \"    close_to_open:returnsOpenPrevRaw1_to_volume + sentence_word_count:volume_to_mean + \"      \n",
      "[4] \"    sentence_word_count:returnsOpenPrevRaw1_to_volume + assetSentimentCount:volume_to_mean + \"\n",
      "[5] \"    assetSentimentCount:headlinesLen\"                                                         \n",
      "Evidence weight: 0.24913158412086\n",
      "Worst IC: -2025.53078734251\n",
      "5 models within 2 IC units.\n",
      "4 models to reach 95% of evidence weight.\n",
      "Convergence after 300 generations.\n",
      "Time elapsed: 17.7300219535828 minutes.\n",
      "[1] \"Best model\"\n",
      "[1] \"Best model results\"\n",
      "          1                                                                                                                                                                                                                                                                                                                                                                \n",
      "MODEL     \"returnsOpenNextMktres10 ~ 1 + returnsOpenPrevRaw1_to_volume + close_to_open + sentence_word_count + returnsOpenPrevRaw1_to_volume:volume_to_mean + close_to_open:returnsOpenPrevRaw1_to_volume + sentence_word_count:volume_to_mean + sentence_word_count:returnsOpenPrevRaw1_to_volume + assetSentimentCount:volume_to_mean + assetSentimentCount:headlinesLen\"\n",
      "AIC       \"-2027.005\"                                                                                                                                                                                                                                                                                                                                                      \n",
      "R_SQUARED \"0.2329369\"                                                                                                                                                                                                                                                                                                                                                      \n",
      "MAE       \"0.02544857\"                                                                                                                                                                                                                                                                                                                                                     \n",
      "MSE       \"0.001190568\"                                                                                                                                                                                                                                                                                                                                                    \n",
      "RMSE      \"0.03450462\"                                                                                                                                                                                                                                                                                                                                                     \n",
      "MAPE      \"1.495792\"                                                                                                                                                                                                                                                                                                                                                       \n",
      "[1] \"Top 5 model results\"\n",
      "                                                                                                                                                                                                                                                                                                                                                                                                MODEL\n",
      "1                                     returnsOpenNextMktres10 ~ 1 + returnsOpenPrevRaw1_to_volume + close_to_open + sentence_word_count + returnsOpenPrevRaw1_to_volume:volume_to_mean + close_to_open:returnsOpenPrevRaw1_to_volume + sentence_word_count:volume_to_mean + sentence_word_count:returnsOpenPrevRaw1_to_volume + assetSentimentCount:volume_to_mean + assetSentimentCount:headlinesLen\n",
      "2 returnsOpenNextMktres10 ~ 1 + returnsOpenPrevRaw1_to_volume + close_to_open + sentence_word_count + returnsOpenPrevRaw1_to_volume:volume_to_mean + close_to_open:returnsOpenPrevRaw1_to_volume + sentence_word_count:volume_to_mean + sentence_word_count:returnsOpenPrevRaw1_to_volume + sentence_word_count:close_to_open + assetSentimentCount:volume_to_mean + assetSentimentCount:headlinesLen\n",
      "3                                                                          returnsOpenNextMktres10 ~ 1 + returnsOpenPrevRaw1_to_volume + close_to_open + sentence_word_count + returnsOpenPrevRaw1_to_volume:volume_to_mean + close_to_open:returnsOpenPrevRaw1_to_volume + sentence_word_count:returnsOpenPrevRaw1_to_volume + assetSentimentCount:volume_to_mean + assetSentimentCount:headlinesLen\n",
      "4                                                    returnsOpenNextMktres10 ~ 1 + returnsOpenPrevRaw1_to_volume + close_to_open + sentence_word_count + assetSentimentCount + returnsOpenPrevRaw1_to_volume:volume_to_mean + close_to_open:returnsOpenPrevRaw1_to_volume + sentence_word_count:returnsOpenPrevRaw1_to_volume + assetSentimentCount:volume_to_mean + assetSentimentCount:headlinesLen\n",
      "5                                                            returnsOpenNextMktres10 ~ 1 + returnsOpenPrevRaw1_to_volume + close_to_open + returnsOpenPrevRaw1_to_volume:volume_to_mean + close_to_open:returnsOpenPrevRaw1_to_volume + sentence_word_count:returnsOpenPrevRaw1_to_volume + assetSentimentCount:volume_to_mean + assetSentimentCount:close_to_open + assetSentimentCount:headlinesLen\n",
      "        AIC R_SQUARED        MAE         MSE       RMSE     MAPE\n",
      "1 -2027.005 0.2329369 0.02544857 0.001190568 0.03450462 1.495792\n",
      "2 -2027.023 0.2358735 0.02543705 0.001186010 0.03443850 1.515959\n",
      "3 -2026.484 0.2292520 0.02542256 0.001196288 0.03458739 1.443824\n",
      "4 -2026.076 0.2315807 0.02548287 0.001192673 0.03453510 1.458728\n",
      "5 -2025.958 0.2284801 0.02542078 0.001197486 0.03460471 1.438497\n"
     ]
    }
   ],
   "source": [
    "display.modelling.result(e1)"
   ]
  },
  {
   "cell_type": "code",
   "execution_count": 94,
   "metadata": {},
   "outputs": [
    {
     "data": {
      "image/png": "[encoded data removed]",
      "text/plain": [
       "Plot with title \"IC profile\""
      ]
     },
     "metadata": {},
     "output_type": "display_data"
    },
    {
     "data": {
      "image/png": "[encoded data removed]",
      "text/plain": [
       "Plot with title \"Model-averaged importance of terms\""
      ]
     },
     "metadata": {},
     "output_type": "display_data"
    }
   ],
   "source": [
    "plot.modelling.result(e1)"
   ]
  },
  {
   "cell_type": "code",
   "execution_count": 95,
   "metadata": {},
   "outputs": [
    {
     "data": {
      "image/png": "[encoded data removed]",
      "text/plain": [
       "Plot with title \"IC profile\""
      ]
     },
     "metadata": {},
     "output_type": "display_data"
    },
    {
     "data": {
      "image/png": "[encoded data removed]",
      "text/plain": [
       "Plot with title \"Model-averaged importance of terms\""
      ]
     },
     "metadata": {},
     "output_type": "display_data"
    }
   ],
   "source": [
    "plot.modelling.result(e1)"
   ]
  },
  {
   "cell_type": "code",
   "execution_count": 96,
   "metadata": {},
   "outputs": [
    {
     "name": "stderr",
     "output_type": "stream",
     "text": [
      "Warning message in roc.default(response, m[[predictors]], ...):\n",
      "\"'response' has more than two levels. Consider setting 'levels' explicitly or using 'multiclass.roc' instead\""
     ]
    },
    {
     "data": {
      "image/png": "[encoded data removed]",
      "text/plain": [
       "Plot with title \"ROC for best model\""
      ]
     },
     "metadata": {},
     "output_type": "display_data"
    }
   ],
   "source": [
    "roc.curve(e1,market_changed4)"
   ]
  },
  {
   "cell_type": "markdown",
   "metadata": {},
   "source": [
    "## GLM"
   ]
  },
  {
   "cell_type": "code",
   "execution_count": 97,
   "metadata": {},
   "outputs": [
    {
     "name": "stdout",
     "output_type": "stream",
     "text": [
      "TASK: Genetic algorithm in the candidate set.\n",
      "Initialization...\n",
      "Algorithm started...\n",
      "Improvements in best and average IC have bebingo en below the specified goals.\n",
      "Algorithm is declared to have converged.\n",
      "Completed.\n"
     ]
    }
   ],
   "source": [
    "e21 = modelling.function(as.formula(returnsOpenNextMktres10~.), market_changed4,\"glm\")"
   ]
  },
  {
   "cell_type": "code",
   "execution_count": 98,
   "metadata": {},
   "outputs": [],
   "source": [
    "e2 = calculation.function(e21,market_changed4)"
   ]
  },
  {
   "cell_type": "code",
   "execution_count": 99,
   "metadata": {},
   "outputs": [
    {
     "name": "stdout",
     "output_type": "stream",
     "text": [
      "[1] \"Brief summary\"\n",
      "glmulti.analysis\n",
      "Method: g / Fitting: glm / IC used: aicc\n",
      "Level: 2 / Marginality: FALSE\n",
      "From 5 models:\n",
      "Best IC: -2026.41717743399\n",
      "Best model:\n",
      "[1] \"returnsOpenNextMktres10 ~ 1 + volume_to_mean + returnsOpenPrevRaw1_to_volume + \"                         \n",
      "[2] \"    close_to_open + sentence_word_count + headlinesLen + returnsOpenPrevRaw1_to_volume:volume_to_mean + \"\n",
      "[3] \"    close_to_open:returnsOpenPrevRaw1_to_volume + sentence_word_count:volume_to_mean + \"                 \n",
      "[4] \"    sentence_word_count:returnsOpenPrevRaw1_to_volume + sentence_word_count:close_to_open + \"            \n",
      "[5] \"    headlinesLen:volume_to_mean + headlinesLen:returnsOpenPrevRaw1_to_volume + \"                         \n",
      "[6] \"    headlinesLen:close_to_open + assetSentimentCount:volume_to_mean + \"                                  \n",
      "[7] \"    assetSentimentCount:sentence_word_count\"                                                             \n",
      "Evidence weight: 0.357053885127155\n",
      "Worst IC: -2024.67185093386\n",
      "5 models within 2 IC units.\n",
      "4 models to reach 95% of evidence weight.\n",
      "Convergence after 180 generations.\n",
      "Time elapsed: 15.2681558132172 minutes.\n",
      "[1] \"Best model\"\n",
      "[1] \"Best model results\"\n",
      "          1                                                                                                                                                                                                                                                                                                                                                                                                                                                                                                                                                   \n",
      "MODEL     \"returnsOpenNextMktres10 ~ 1 + volume_to_mean + returnsOpenPrevRaw1_to_volume + close_to_open + sentence_word_count + headlinesLen + returnsOpenPrevRaw1_to_volume:volume_to_mean + close_to_open:returnsOpenPrevRaw1_to_volume + sentence_word_count:volume_to_mean + sentence_word_count:returnsOpenPrevRaw1_to_volume + sentence_word_count:close_to_open + headlinesLen:volume_to_mean + headlinesLen:returnsOpenPrevRaw1_to_volume + headlinesLen:close_to_open + assetSentimentCount:volume_to_mean + assetSentimentCount:sentence_word_count\"\n",
      "AIC       \"-2027.622\"                                                                                                                                                                                                                                                                                                                                                                                                                                                                                                                                         \n",
      "R_SQUARED \"0.2511167\"                                                                                                                                                                                                                                                                                                                                                                                                                                                                                                                                         \n",
      "MAE       \"0.02496061\"                                                                                                                                                                                                                                                                                                                                                                                                                                                                                                                                        \n",
      "MSE       \"0.001162351\"                                                                                                                                                                                                                                                                                                                                                                                                                                                                                                                                       \n",
      "RMSE      \"0.03409327\"                                                                                                                                                                                                                                                                                                                                                                                                                                                                                                                                        \n",
      "MAPE      \"1.420296\"                                                                                                                                                                                                                                                                                                                                                                                                                                                                                                                                          \n",
      "[1] \"Top 5 model results\"\n",
      "                                                                                                                                                                                                                                                                                                                                                                                                                                                                                                                                                                                        MODEL\n",
      "1                                          returnsOpenNextMktres10 ~ 1 + volume_to_mean + returnsOpenPrevRaw1_to_volume + close_to_open + sentence_word_count + headlinesLen + returnsOpenPrevRaw1_to_volume:volume_to_mean + close_to_open:returnsOpenPrevRaw1_to_volume + sentence_word_count:volume_to_mean + sentence_word_count:returnsOpenPrevRaw1_to_volume + sentence_word_count:close_to_open + headlinesLen:volume_to_mean + headlinesLen:returnsOpenPrevRaw1_to_volume + headlinesLen:close_to_open + assetSentimentCount:volume_to_mean + assetSentimentCount:sentence_word_count\n",
      "2                                                                                              returnsOpenNextMktres10 ~ 1 + volume_to_mean + returnsOpenPrevRaw1_to_volume + close_to_open + sentence_word_count + headlinesLen + returnsOpenPrevRaw1_to_volume:volume_to_mean + close_to_open:returnsOpenPrevRaw1_to_volume + sentence_word_count:volume_to_mean + sentence_word_count:close_to_open + headlinesLen:volume_to_mean + headlinesLen:returnsOpenPrevRaw1_to_volume + headlinesLen:close_to_open + assetSentimentCount:volume_to_mean + assetSentimentCount:sentence_word_count\n",
      "3     returnsOpenNextMktres10 ~ 1 + volume_to_mean + returnsOpenPrevRaw1_to_volume + close_to_open + sentence_word_count + headlinesLen + returnsOpenPrevRaw1_to_volume:volume_to_mean + close_to_open:volume_to_mean + close_to_open:returnsOpenPrevRaw1_to_volume + sentence_word_count:volume_to_mean + sentence_word_count:returnsOpenPrevRaw1_to_volume + sentence_word_count:close_to_open + headlinesLen:volume_to_mean + headlinesLen:returnsOpenPrevRaw1_to_volume + headlinesLen:close_to_open + assetSentimentCount:volume_to_mean + \\n    assetSentimentCount:sentence_word_count\n",
      "4                                                                                       returnsOpenNextMktres10 ~ 1 + volume_to_mean + returnsOpenPrevRaw1_to_volume + close_to_open + sentence_word_count + returnsOpenPrevRaw1_to_volume:volume_to_mean + close_to_open:returnsOpenPrevRaw1_to_volume + sentence_word_count:volume_to_mean + sentence_word_count:returnsOpenPrevRaw1_to_volume + sentence_word_count:close_to_open + headlinesLen:returnsOpenPrevRaw1_to_volume + headlinesLen:close_to_open + assetSentimentCount:volume_to_mean + assetSentimentCount:sentence_word_count\n",
      "5 returnsOpenNextMktres10 ~ 1 + volume_to_mean + returnsOpenPrevRaw1_to_volume + close_to_open + sentence_word_count + headlinesLen + returnsOpenPrevRaw1_to_volume:volume_to_mean + close_to_open:returnsOpenPrevRaw1_to_volume + sentence_word_count:volume_to_mean + sentence_word_count:returnsOpenPrevRaw1_to_volume + sentence_word_count:close_to_open + headlinesLen:volume_to_mean + headlinesLen:returnsOpenPrevRaw1_to_volume + headlinesLen:close_to_open + assetSentimentCount:volume_to_mean + assetSentimentCount:sentence_word_count + \\n    assetSentimentCount:headlinesLen\n",
      "        AIC R_SQUARED        MAE         MSE       RMSE     MAPE\n",
      "1 -2027.622 0.2511167 0.02496061 0.001162351 0.03409327 1.420296\n",
      "2 -2026.033 0.2459901 0.02496449 0.001170308 0.03420977 1.388251\n",
      "3 -2026.300 0.2520811 0.02482758 0.001160854 0.03407131 1.408501\n",
      "4 -2025.618 0.2425195 0.02531427 0.001175695 0.03428841 1.478493\n",
      "5 -2026.021 0.2516847 0.02491419 0.001161470 0.03408034 1.424296\n"
     ]
    }
   ],
   "source": [
    "display.modelling.result(e2)"
   ]
  },
  {
   "cell_type": "code",
   "execution_count": 100,
   "metadata": {},
   "outputs": [
    {
     "data": {
      "image/png": "[encoded data removed]",
      "text/plain": [
       "Plot with title \"IC profile\""
      ]
     },
     "metadata": {},
     "output_type": "display_data"
    },
    {
     "data": {
      "image/png": "[encoded data removed]",
      "text/plain": [
       "Plot with title \"Model-averaged importance of terms\""
      ]
     },
     "metadata": {},
     "output_type": "display_data"
    }
   ],
   "source": [
    "plot.modelling.result(e2)"
   ]
  },
  {
   "cell_type": "code",
   "execution_count": 101,
   "metadata": {},
   "outputs": [
    {
     "name": "stderr",
     "output_type": "stream",
     "text": [
      "Warning message in roc.default(response, m[[predictors]], ...):\n",
      "\"'response' has more than two levels. Consider setting 'levels' explicitly or using 'multiclass.roc' instead\""
     ]
    },
    {
     "data": {
      "image/png": "[encoded data removed]",
      "text/plain": [
       "Plot with title \"ROC for best model\""
      ]
     },
     "metadata": {},
     "output_type": "display_data"
    }
   ],
   "source": [
    "roc.curve(e2,market_changed4)"
   ]
  },
  {
   "cell_type": "markdown",
   "metadata": {},
   "source": [
    "## GLS"
   ]
  },
  {
   "cell_type": "code",
   "execution_count": 102,
   "metadata": {},
   "outputs": [
    {
     "name": "stdout",
     "output_type": "stream",
     "text": [
      "TASK: Genetic algorithm in the candidate set.\n",
      "Initialization...\n",
      "Algorithm started...\n",
      "Improvements in best and average IC have bebingo en below the specified goals.\n",
      "Algorithm is declared to have converged.\n",
      "Completed.\n"
     ]
    }
   ],
   "source": [
    "e31 = modelling.function(as.formula(returnsOpenNextMktres10~.), market_changed4,\"gls\")"
   ]
  },
  {
   "cell_type": "code",
   "execution_count": 103,
   "metadata": {},
   "outputs": [],
   "source": [
    "e3 = calculation.function(e31,market_changed4)"
   ]
  },
  {
   "cell_type": "code",
   "execution_count": 104,
   "metadata": {},
   "outputs": [
    {
     "name": "stdout",
     "output_type": "stream",
     "text": [
      "[1] \"Brief summary\"\n",
      "glmulti.analysis\n",
      "Method: g / Fitting: gls / IC used: aicc\n",
      "Level: 2 / Marginality: FALSE\n",
      "From 5 models:\n",
      "Best IC: -2139.55075626627\n",
      "Best model:\n",
      "[1] \"returnsOpenNextMktres10 ~ 1 + returnsOpenPrevRaw1_to_volume + \"                                       \n",
      "[2] \"    returnsOpenPrevRaw1_to_volume:volume_to_mean + close_to_open:returnsOpenPrevRaw1_to_volume + \"    \n",
      "[3] \"    sentence_word_count:returnsOpenPrevRaw1_to_volume + headlinesLen:returnsOpenPrevRaw1_to_volume + \"\n",
      "[4] \"    assetSentimentCount:returnsOpenPrevRaw1_to_volume\"                                                \n",
      "Evidence weight: 0.675376438125578\n",
      "Worst IC: -2125.68519886402\n",
      "2 models within 2 IC units.\n",
      "1 models to reach 95% of evidence weight.\n",
      "Convergence after 220 generations.\n",
      "Time elapsed: 21.673131942749 minutes.\n",
      "[1] \"Best model\"\n",
      "[1] \"Best model results\"\n",
      "          1                                                                                                                                                                                                                                                                                                              \n",
      "MODEL     \"returnsOpenNextMktres10 ~ 1 + returnsOpenPrevRaw1_to_volume + returnsOpenPrevRaw1_to_volume:volume_to_mean + close_to_open:returnsOpenPrevRaw1_to_volume + sentence_word_count:returnsOpenPrevRaw1_to_volume + headlinesLen:returnsOpenPrevRaw1_to_volume + assetSentimentCount:returnsOpenPrevRaw1_to_volume\"\n",
      "AIC       \"-2013.746\"                                                                                                                                                                                                                                                                                                    \n",
      "R_SQUARED \"0.2043305\"                                                                                                                                                                                                                                                                                                    \n",
      "MAE       \"0.02642987\"                                                                                                                                                                                                                                                                                                   \n",
      "MSE       \"0.001234969\"                                                                                                                                                                                                                                                                                                  \n",
      "RMSE      \"0.03514212\"                                                                                                                                                                                                                                                                                                   \n",
      "MAPE      \"1.298203\"                                                                                                                                                                                                                                                                                                     \n",
      "[1] \"Top 5 model results\"\n",
      "                                                                                                                                                                                                                                                                                                                                       MODEL\n",
      "1                              returnsOpenNextMktres10 ~ 1 + returnsOpenPrevRaw1_to_volume + returnsOpenPrevRaw1_to_volume:volume_to_mean + close_to_open:returnsOpenPrevRaw1_to_volume + sentence_word_count:returnsOpenPrevRaw1_to_volume + headlinesLen:returnsOpenPrevRaw1_to_volume + assetSentimentCount:returnsOpenPrevRaw1_to_volume\n",
      "2              returnsOpenNextMktres10 ~ 1 + returnsOpenPrevRaw1_to_volume + close_to_open + returnsOpenPrevRaw1_to_volume:volume_to_mean + close_to_open:returnsOpenPrevRaw1_to_volume + sentence_word_count:returnsOpenPrevRaw1_to_volume + headlinesLen:returnsOpenPrevRaw1_to_volume + assetSentimentCount:returnsOpenPrevRaw1_to_volume\n",
      "3        returnsOpenNextMktres10 ~ 1 + returnsOpenPrevRaw1_to_volume + sentence_word_count + returnsOpenPrevRaw1_to_volume:volume_to_mean + close_to_open:returnsOpenPrevRaw1_to_volume + sentence_word_count:returnsOpenPrevRaw1_to_volume + headlinesLen:returnsOpenPrevRaw1_to_volume + assetSentimentCount:returnsOpenPrevRaw1_to_volume\n",
      "4               returnsOpenNextMktres10 ~ 1 + returnsOpenPrevRaw1_to_volume + headlinesLen + returnsOpenPrevRaw1_to_volume:volume_to_mean + close_to_open:returnsOpenPrevRaw1_to_volume + sentence_word_count:returnsOpenPrevRaw1_to_volume + headlinesLen:returnsOpenPrevRaw1_to_volume + assetSentimentCount:returnsOpenPrevRaw1_to_volume\n",
      "5 returnsOpenNextMktres10 ~ 1 + returnsOpenPrevRaw1_to_volume + returnsOpenPrevRaw1_to_volume:volume_to_mean + close_to_open:returnsOpenPrevRaw1_to_volume + sentence_word_count:returnsOpenPrevRaw1_to_volume + headlinesLen:returnsOpenPrevRaw1_to_volume + headlinesLen:close_to_open + assetSentimentCount:returnsOpenPrevRaw1_to_volume\n",
      "        AIC R_SQUARED        MAE         MSE       RMSE     MAPE\n",
      "1 -2013.746 0.2043305 0.02642987 0.001234969 0.03514212 1.298203\n",
      "2 -2015.619 0.2101683 0.02668698 0.001225908 0.03501297 1.601843\n",
      "3 -2016.095 0.2108823 0.02650411 0.001224800 0.03499714 1.384367\n",
      "4 -2016.872 0.2120469 0.02615952 0.001222992 0.03497130 1.323655\n",
      "5 -2016.122 0.2109225 0.02615582 0.001224737 0.03499625 1.296318\n"
     ]
    }
   ],
   "source": [
    "display.modelling.result(e3)"
   ]
  },
  {
   "cell_type": "code",
   "execution_count": 105,
   "metadata": {},
   "outputs": [
    {
     "data": {
      "image/png": "[encoded data removed]",
      "text/plain": [
       "Plot with title \"IC profile\""
      ]
     },
     "metadata": {},
     "output_type": "display_data"
    },
    {
     "data": {
      "image/png": "[encoded data removed]",
      "text/plain": [
       "Plot with title \"Model-averaged importance of terms\""
      ]
     },
     "metadata": {},
     "output_type": "display_data"
    }
   ],
   "source": [
    "plot.modelling.result(e3)"
   ]
  },
  {
   "cell_type": "code",
   "execution_count": 106,
   "metadata": {},
   "outputs": [
    {
     "name": "stderr",
     "output_type": "stream",
     "text": [
      "Warning message in roc.default(response, m[[predictors]], ...):\n",
      "\"'response' has more than two levels. Consider setting 'levels' explicitly or using 'multiclass.roc' instead\""
     ]
    },
    {
     "data": {
      "image/png": "[encoded data removed]",
      "text/plain": [
       "Plot with title \"ROC for best model\""
      ]
     },
     "metadata": {},
     "output_type": "display_data"
    }
   ],
   "source": [
    "roc.curve(e3,market_changed4)"
   ]
  },
  {
   "cell_type": "markdown",
   "metadata": {},
   "source": [
    "##  Random Forest"
   ]
  },
  {
   "cell_type": "code",
   "execution_count": 107,
   "metadata": {},
   "outputs": [
    {
     "name": "stdout",
     "output_type": "stream",
     "text": [
      "\n",
      "Call:\n",
      " randomForest(formula = returnsOpenNextMktres10 ~ ., data = m1) \n",
      "               Type of random forest: regression\n",
      "                     Number of trees: 500\n",
      "No. of variables tried at each split: 2\n",
      "\n",
      "          Mean of squared residuals: 0.002766589\n",
      "                    % Var explained: -4.84\n"
     ]
    },
    {
     "data": {
      "text/html": [
       "<table>\n",
       "<thead><tr><th></th><th scope=col>IncNodePurity</th></tr></thead>\n",
       "<tbody>\n",
       "\t<tr><th scope=row>volume</th><td>0.3965307</td></tr>\n",
       "\t<tr><th scope=row>returnsClosePrevRaw1</th><td>0.4049413</td></tr>\n",
       "\t<tr><th scope=row>returnsOpenPrevRaw1</th><td>0.4492563</td></tr>\n",
       "\t<tr><th scope=row>returnsClosePrevRaw10</th><td>0.4466942</td></tr>\n",
       "\t<tr><th scope=row>open</th><td>0.3308739</td></tr>\n",
       "\t<tr><th scope=row>close</th><td>0.3409574</td></tr>\n",
       "</tbody>\n",
       "</table>\n"
      ],
      "text/latex": [
       "\\begin{tabular}{r|l}\n",
       "  & IncNodePurity\\\\\n",
       "\\hline\n",
       "\tvolume & 0.3965307\\\\\n",
       "\treturnsClosePrevRaw1 & 0.4049413\\\\\n",
       "\treturnsOpenPrevRaw1 & 0.4492563\\\\\n",
       "\treturnsClosePrevRaw10 & 0.4466942\\\\\n",
       "\topen & 0.3308739\\\\\n",
       "\tclose & 0.3409574\\\\\n",
       "\\end{tabular}\n"
      ],
      "text/markdown": [
       "\n",
       "| <!--/--> | IncNodePurity | \n",
       "|---|---|---|---|---|---|\n",
       "| volume | 0.3965307 | \n",
       "| returnsClosePrevRaw1 | 0.4049413 | \n",
       "| returnsOpenPrevRaw1 | 0.4492563 | \n",
       "| returnsClosePrevRaw10 | 0.4466942 | \n",
       "| open | 0.3308739 | \n",
       "| close | 0.3409574 | \n",
       "\n",
       "\n"
      ],
      "text/plain": [
       "                      IncNodePurity\n",
       "volume                0.3965307    \n",
       "returnsClosePrevRaw1  0.4049413    \n",
       "returnsOpenPrevRaw1   0.4492563    \n",
       "returnsClosePrevRaw10 0.4466942    \n",
       "open                  0.3308739    \n",
       "close                 0.3409574    "
      ]
     },
     "metadata": {},
     "output_type": "display_data"
    }
   ],
   "source": [
    "randomF1 = randomForest(returnsOpenNextMktres10~.,data=m1)\n",
    "print(randomF1) \n",
    "importance(randomF1)"
   ]
  },
  {
   "cell_type": "code",
   "execution_count": 108,
   "metadata": {},
   "outputs": [
    {
     "name": "stdout",
     "output_type": "stream",
     "text": [
      "\n",
      "Call:\n",
      " randomForest(formula = returnsOpenNextMktres10 ~ ., data = market_changed1) \n",
      "               Type of random forest: regression\n",
      "                     Number of trees: 500\n",
      "No. of variables tried at each split: 1\n",
      "\n",
      "          Mean of squared residuals: 0.002855136\n",
      "                    % Var explained: -8.19\n"
     ]
    },
    {
     "data": {
      "text/html": [
       "<table>\n",
       "<thead><tr><th></th><th scope=col>IncNodePurity</th></tr></thead>\n",
       "<tbody>\n",
       "\t<tr><th scope=row>volume_to_mean</th><td>0.7237136</td></tr>\n",
       "\t<tr><th scope=row>returnsOpenPrevRaw1_to_volume</th><td>0.8160765</td></tr>\n",
       "\t<tr><th scope=row>close_to_open</th><td>0.7202456</td></tr>\n",
       "</tbody>\n",
       "</table>\n"
      ],
      "text/latex": [
       "\\begin{tabular}{r|l}\n",
       "  & IncNodePurity\\\\\n",
       "\\hline\n",
       "\tvolume\\_to\\_mean & 0.7237136\\\\\n",
       "\treturnsOpenPrevRaw1\\_to\\_volume & 0.8160765\\\\\n",
       "\tclose\\_to\\_open & 0.7202456\\\\\n",
       "\\end{tabular}\n"
      ],
      "text/markdown": [
       "\n",
       "| <!--/--> | IncNodePurity | \n",
       "|---|---|---|\n",
       "| volume_to_mean | 0.7237136 | \n",
       "| returnsOpenPrevRaw1_to_volume | 0.8160765 | \n",
       "| close_to_open | 0.7202456 | \n",
       "\n",
       "\n"
      ],
      "text/plain": [
       "                              IncNodePurity\n",
       "volume_to_mean                0.7237136    \n",
       "returnsOpenPrevRaw1_to_volume 0.8160765    \n",
       "close_to_open                 0.7202456    "
      ]
     },
     "metadata": {},
     "output_type": "display_data"
    }
   ],
   "source": [
    "randomF2 = randomForest(returnsOpenNextMktres10~.,data=market_changed1)\n",
    "print(randomF2) \n",
    "importance(randomF2)"
   ]
  },
  {
   "cell_type": "code",
   "execution_count": 109,
   "metadata": {},
   "outputs": [
    {
     "name": "stdout",
     "output_type": "stream",
     "text": [
      "\n",
      "Call:\n",
      " randomForest(formula = returnsOpenNextMktres10 ~ ., data = market_changed2) \n",
      "               Type of random forest: regression\n",
      "                     Number of trees: 500\n",
      "No. of variables tried at each split: 3\n",
      "\n",
      "          Mean of squared residuals: 0.00275327\n",
      "                    % Var explained: -4.33\n"
     ]
    },
    {
     "data": {
      "text/html": [
       "<table>\n",
       "<thead><tr><th></th><th scope=col>IncNodePurity</th></tr></thead>\n",
       "<tbody>\n",
       "\t<tr><th scope=row>volume_to_mean</th><td>0.2372676</td></tr>\n",
       "\t<tr><th scope=row>returnsOpenPrevRaw1_to_volume</th><td>0.3280846</td></tr>\n",
       "\t<tr><th scope=row>close_to_open</th><td>0.2489562</td></tr>\n",
       "\t<tr><th scope=row>volume</th><td>0.2443333</td></tr>\n",
       "\t<tr><th scope=row>returnsClosePrevRaw1</th><td>0.2767511</td></tr>\n",
       "\t<tr><th scope=row>returnsOpenPrevRaw1</th><td>0.2940046</td></tr>\n",
       "\t<tr><th scope=row>returnsClosePrevRaw10</th><td>0.3405729</td></tr>\n",
       "\t<tr><th scope=row>open</th><td>0.2196896</td></tr>\n",
       "\t<tr><th scope=row>close</th><td>0.2290867</td></tr>\n",
       "</tbody>\n",
       "</table>\n"
      ],
      "text/latex": [
       "\\begin{tabular}{r|l}\n",
       "  & IncNodePurity\\\\\n",
       "\\hline\n",
       "\tvolume\\_to\\_mean & 0.2372676\\\\\n",
       "\treturnsOpenPrevRaw1\\_to\\_volume & 0.3280846\\\\\n",
       "\tclose\\_to\\_open & 0.2489562\\\\\n",
       "\tvolume & 0.2443333\\\\\n",
       "\treturnsClosePrevRaw1 & 0.2767511\\\\\n",
       "\treturnsOpenPrevRaw1 & 0.2940046\\\\\n",
       "\treturnsClosePrevRaw10 & 0.3405729\\\\\n",
       "\topen & 0.2196896\\\\\n",
       "\tclose & 0.2290867\\\\\n",
       "\\end{tabular}\n"
      ],
      "text/markdown": [
       "\n",
       "| <!--/--> | IncNodePurity | \n",
       "|---|---|---|---|---|---|---|---|---|\n",
       "| volume_to_mean | 0.2372676 | \n",
       "| returnsOpenPrevRaw1_to_volume | 0.3280846 | \n",
       "| close_to_open | 0.2489562 | \n",
       "| volume | 0.2443333 | \n",
       "| returnsClosePrevRaw1 | 0.2767511 | \n",
       "| returnsOpenPrevRaw1 | 0.2940046 | \n",
       "| returnsClosePrevRaw10 | 0.3405729 | \n",
       "| open | 0.2196896 | \n",
       "| close | 0.2290867 | \n",
       "\n",
       "\n"
      ],
      "text/plain": [
       "                              IncNodePurity\n",
       "volume_to_mean                0.2372676    \n",
       "returnsOpenPrevRaw1_to_volume 0.3280846    \n",
       "close_to_open                 0.2489562    \n",
       "volume                        0.2443333    \n",
       "returnsClosePrevRaw1          0.2767511    \n",
       "returnsOpenPrevRaw1           0.2940046    \n",
       "returnsClosePrevRaw10         0.3405729    \n",
       "open                          0.2196896    \n",
       "close                         0.2290867    "
      ]
     },
     "metadata": {},
     "output_type": "display_data"
    }
   ],
   "source": [
    "randomF3= randomForest(returnsOpenNextMktres10~.,data=market_changed2)\n",
    "print(randomF3) \n",
    "importance(randomF3)"
   ]
  },
  {
   "cell_type": "code",
   "execution_count": 110,
   "metadata": {},
   "outputs": [
    {
     "name": "stdout",
     "output_type": "stream",
     "text": [
      "\n",
      "Call:\n",
      " randomForest(formula = returnsOpenNextMktres10 ~ ., data = market_changed4) \n",
      "               Type of random forest: regression\n",
      "                     Number of trees: 500\n",
      "No. of variables tried at each split: 2\n",
      "\n",
      "          Mean of squared residuals: 0.0003606033\n",
      "                    % Var explained: 76.77\n"
     ]
    },
    {
     "data": {
      "text/html": [
       "<table>\n",
       "<thead><tr><th></th><th scope=col>IncNodePurity</th></tr></thead>\n",
       "<tbody>\n",
       "\t<tr><th scope=row>volume_to_mean</th><td>0.17220574</td></tr>\n",
       "\t<tr><th scope=row>returnsOpenPrevRaw1_to_volume</th><td>0.14987539</td></tr>\n",
       "\t<tr><th scope=row>close_to_open</th><td>0.22739669</td></tr>\n",
       "\t<tr><th scope=row>sentence_word_count</th><td>0.06403462</td></tr>\n",
       "\t<tr><th scope=row>headlinesLen</th><td>0.03277061</td></tr>\n",
       "\t<tr><th scope=row>assetSentimentCount</th><td>0.13884472</td></tr>\n",
       "</tbody>\n",
       "</table>\n"
      ],
      "text/latex": [
       "\\begin{tabular}{r|l}\n",
       "  & IncNodePurity\\\\\n",
       "\\hline\n",
       "\tvolume\\_to\\_mean & 0.17220574\\\\\n",
       "\treturnsOpenPrevRaw1\\_to\\_volume & 0.14987539\\\\\n",
       "\tclose\\_to\\_open & 0.22739669\\\\\n",
       "\tsentence\\_word\\_count & 0.06403462\\\\\n",
       "\theadlinesLen & 0.03277061\\\\\n",
       "\tassetSentimentCount & 0.13884472\\\\\n",
       "\\end{tabular}\n"
      ],
      "text/markdown": [
       "\n",
       "| <!--/--> | IncNodePurity | \n",
       "|---|---|---|---|---|---|\n",
       "| volume_to_mean | 0.17220574 | \n",
       "| returnsOpenPrevRaw1_to_volume | 0.14987539 | \n",
       "| close_to_open | 0.22739669 | \n",
       "| sentence_word_count | 0.06403462 | \n",
       "| headlinesLen | 0.03277061 | \n",
       "| assetSentimentCount | 0.13884472 | \n",
       "\n",
       "\n"
      ],
      "text/plain": [
       "                              IncNodePurity\n",
       "volume_to_mean                0.17220574   \n",
       "returnsOpenPrevRaw1_to_volume 0.14987539   \n",
       "close_to_open                 0.22739669   \n",
       "sentence_word_count           0.06403462   \n",
       "headlinesLen                  0.03277061   \n",
       "assetSentimentCount           0.13884472   "
      ]
     },
     "metadata": {},
     "output_type": "display_data"
    }
   ],
   "source": [
    "randomF4 = randomForest(returnsOpenNextMktres10~.,data=market_changed4)\n",
    "print(randomF4) \n",
    "importance(randomF4)"
   ]
  },
  {
   "cell_type": "markdown",
   "metadata": {},
   "source": [
    "## Support Vector Regression"
   ]
  },
  {
   "cell_type": "code",
   "execution_count": 111,
   "metadata": {},
   "outputs": [],
   "source": [
    "svr_function = function(regression.formula,data_to_fit){\n",
    "    model = svm(regression.formula, data_to_fit)\n",
    "    predicted.values = predict(model,data_to_fit)\n",
    "    rmse.value = rmse(data_to_fit$returnsOpenNextMktres10,predicted.values)\n",
    "    print(\"RMSE of SVM model\")\n",
    "    print(rmse.value)\n",
    "    \n",
    "    tuned.model = tune(svm, regression.formula, data = data_to_fit, \n",
    "                        ranges = list(epsilon = seq(0,1), cost = 2^(seq(0.5,8))))\n",
    "    \n",
    "    model2 = svm(regression.formula, data_to_fit, epsilon=tuned.model$best.parameters$epsilon, \n",
    "                 cost=tuned.model$best.parameters$cost)\n",
    "    predicted.values1 = predict(model2,data_to_fit)\n",
    "    rmse.value1 = rmse(data_to_fit$returnsOpenNextMktres10,predicted.values1)\n",
    "    print(\"RMSE based on Tuned SVM model\")\n",
    "    print(rmse.value)\n",
    "    print(\"Tuned SVR Model\")   \n",
    "    print(tuned.model)                    \n",
    "    plot(tuned.model)            \n",
    "}"
   ]
  },
  {
   "cell_type": "code",
   "execution_count": 112,
   "metadata": {},
   "outputs": [
    {
     "name": "stdout",
     "output_type": "stream",
     "text": [
      "[1] \"RMSE of SVM model\"\n",
      "[1] 0.04811963\n",
      "[1] \"RMSE based on Tuned SVM model\"\n",
      "[1] 0.04811963\n",
      "[1] \"Tuned SVR Model\"\n",
      "\n",
      "Parameter tuning of 'svm':\n",
      "\n",
      "- sampling method: 10-fold cross validation \n",
      "\n",
      "- best parameters:\n",
      " epsilon     cost\n",
      "       0 1.414214\n",
      "\n",
      "- best performance: 0.002714521 \n",
      "\n"
     ]
    },
    {
     "data": {
      "image/png": "[encoded data removed]",
      "text/plain": [
       "Plot with title \"Performance of `svm'\""
      ]
     },
     "metadata": {},
     "output_type": "display_data"
    }
   ],
   "source": [
    "svr_function(as.formula(returnsOpenNextMktres10~.),m1)"
   ]
  },
  {
   "cell_type": "code",
   "execution_count": 113,
   "metadata": {},
   "outputs": [
    {
     "name": "stdout",
     "output_type": "stream",
     "text": [
      "[1] \"RMSE of SVM model\"\n",
      "[1] 0.04935023\n",
      "[1] \"RMSE based on Tuned SVM model\"\n",
      "[1] 0.04935023\n",
      "[1] \"Tuned SVR Model\"\n",
      "\n",
      "Parameter tuning of 'svm':\n",
      "\n",
      "- sampling method: 10-fold cross validation \n",
      "\n",
      "- best parameters:\n",
      " epsilon     cost\n",
      "       0 1.414214\n",
      "\n",
      "- best performance: 0.002633383 \n",
      "\n"
     ]
    },
    {
     "data": {
      "image/png": "[encoded data removed]",
      "text/plain": [
       "Plot with title \"Performance of `svm'\""
      ]
     },
     "metadata": {},
     "output_type": "display_data"
    }
   ],
   "source": [
    "svr_function(as.formula(returnsOpenNextMktres10~.),market_changed1)"
   ]
  },
  {
   "cell_type": "code",
   "execution_count": 114,
   "metadata": {},
   "outputs": [
    {
     "name": "stdout",
     "output_type": "stream",
     "text": [
      "[1] \"RMSE of SVM model\"\n",
      "[1] 0.04748954\n",
      "[1] \"RMSE based on Tuned SVM model\"\n",
      "[1] 0.04748954\n",
      "[1] \"Tuned SVR Model\"\n",
      "\n",
      "Parameter tuning of 'svm':\n",
      "\n",
      "- sampling method: 10-fold cross validation \n",
      "\n",
      "- best parameters:\n",
      " epsilon     cost\n",
      "       0 1.414214\n",
      "\n",
      "- best performance: 0.002691433 \n",
      "\n"
     ]
    },
    {
     "data": {
      "image/png": "[encoded data removed]",
      "text/plain": [
       "Plot with title \"Performance of `svm'\""
      ]
     },
     "metadata": {},
     "output_type": "display_data"
    }
   ],
   "source": [
    "svr_function(as.formula(returnsOpenNextMktres10~.),market_changed2)"
   ]
  },
  {
   "cell_type": "code",
   "execution_count": 115,
   "metadata": {},
   "outputs": [
    {
     "name": "stdout",
     "output_type": "stream",
     "text": [
      "[1] \"RMSE of SVM model\"\n",
      "[1] 0.03652156\n",
      "[1] \"RMSE based on Tuned SVM model\"\n",
      "[1] 0.03652156\n",
      "[1] \"Tuned SVR Model\"\n",
      "\n",
      "Parameter tuning of 'svm':\n",
      "\n",
      "- sampling method: 10-fold cross validation \n",
      "\n",
      "- best parameters:\n",
      " epsilon     cost\n",
      "       0 22.62742\n",
      "\n",
      "- best performance: 0.00119626 \n",
      "\n"
     ]
    },
    {
     "data": {
      "image/png": "[encoded data removed]",
      "text/plain": [
       "Plot with title \"Performance of `svm'\""
      ]
     },
     "metadata": {},
     "output_type": "display_data"
    }
   ],
   "source": [
    "svr_function(as.formula(returnsOpenNextMktres10~.),market_changed3)"
   ]
  },
  {
   "cell_type": "code",
   "execution_count": 116,
   "metadata": {},
   "outputs": [
    {
     "name": "stdout",
     "output_type": "stream",
     "text": [
      "[1] \"RMSE of SVM model\"\n",
      "[1] 0.03134967\n",
      "[1] \"RMSE based on Tuned SVM model\"\n",
      "[1] 0.03134967\n",
      "[1] \"Tuned SVR Model\"\n",
      "\n",
      "Parameter tuning of 'svm':\n",
      "\n",
      "- sampling method: 10-fold cross validation \n",
      "\n",
      "- best parameters:\n",
      " epsilon     cost\n",
      "       0 181.0193\n",
      "\n",
      "- best performance: 0.0008653473 \n",
      "\n"
     ]
    },
    {
     "data": {
      "image/png": "[encoded data removed]",
      "text/plain": [
       "Plot with title \"Performance of `svm'\""
      ]
     },
     "metadata": {},
     "output_type": "display_data"
    }
   ],
   "source": [
    "svr_function(as.formula(returnsOpenNextMktres10~.),market_changed4)"
   ]
  }
 ],
 "metadata": {
  "kernelspec": {
   "display_name": "R",
   "language": "R",
   "name": "ir"
  },
  "language_info": {
   "codemirror_mode": "r",
   "file_extension": ".r",
   "mimetype": "text/x-r-source",
   "name": "R",
   "pygments_lexer": "r",
   "version": "3.5.1"
  }
 },
 "nbformat": 4,
 "nbformat_minor": 1
}
